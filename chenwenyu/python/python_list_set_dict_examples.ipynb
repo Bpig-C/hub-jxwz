{
 "cells": [
  {
   "cell_type": "markdown",
   "metadata": {},
   "source": [
    "# List\n"
   ]
  },
  {
   "cell_type": "markdown",
   "metadata": {},
   "source": [
    "## Create a List"
   ]
  },
  {
   "cell_type": "code",
   "execution_count": 2,
   "metadata": {},
   "outputs": [],
   "source": [
    "empty_list = []                     # empty list\n",
    "nums = [1, 2, 3]                    # initialize a list\n",
    "mixed = [1, \"hello\", True, 3.14]    # mixed type\n",
    "from_range = list(range(5))         # 从range生成 → [0, 1, 2, 3, 4]\n",
    "from_string = list(\"abc\")           # 从字符串生成 → ['a', 'b', 'c']"
   ]
  },
  {
   "cell_type": "markdown",
   "metadata": {},
   "source": [
    "## Access Member of a List"
   ]
  },
  {
   "cell_type": "code",
   "execution_count": 3,
   "metadata": {},
   "outputs": [
    {
     "name": "stdout",
     "output_type": "stream",
     "text": [
      "hello\n",
      "3.14\n"
     ]
    }
   ],
   "source": [
    "print(mixed[1])\n",
    "print(mixed[-1])"
   ]
  },
  {
   "cell_type": "markdown",
   "metadata": {},
   "source": [
    "## Add, Remove, Change, Search"
   ]
  },
  {
   "cell_type": "markdown",
   "metadata": {},
   "source": [
    "### Add"
   ]
  },
  {
   "cell_type": "code",
   "execution_count": 4,
   "metadata": {},
   "outputs": [
    {
     "name": "stdout",
     "output_type": "stream",
     "text": [
      "['apple', 'banana']\n",
      "['apple', 'orange', 'banana']\n",
      "['apple', 'orange', 'banana', 'pear', 'grape']\n",
      "['apple', 'orange', 'banana', 'pear', 'peach', 'grape']\n"
     ]
    }
   ],
   "source": [
    "fruits = [\"apple\"]\n",
    "fruits.append(\"banana\")             # 末尾添加添加一个元素， 也可以添加列表，注意和extend的区别\n",
    "print(fruits)\n",
    "fruits.insert(1, \"orange\")         # 指定位置插入 → [\"apple\", \"orange\", \"banana\"]\n",
    "print(fruits)\n",
    "fruits.extend([\"pear\", \"grape\"])   # 末尾添加一个可迭代对象，效果上类似合并列表 → [\"apple\", \"orange\", \"banana\", \"pear\", \"grape\"]\n",
    "print(fruits)\n",
    "fruits.insert(-1, \"peach\")         # 倒数第二位置插入\n",
    "print(fruits)"
   ]
  },
  {
   "cell_type": "code",
   "execution_count": 5,
   "metadata": {},
   "outputs": [
    {
     "data": {
      "text/plain": [
       "[1, 2, 3, 7, 8, 9, 10]"
      ]
     },
     "execution_count": 5,
     "metadata": {},
     "output_type": "execute_result"
    }
   ],
   "source": [
    "nums = [1,2,3]\n",
    "nums[len(nums):]=[7]\n",
    "nums\n",
    "nums[len(nums):]=[8,9,0xa]\n",
    "nums"
   ]
  },
  {
   "cell_type": "code",
   "execution_count": 6,
   "metadata": {},
   "outputs": [
    {
     "data": {
      "text/plain": [
       "[1, 2, 3, 4]"
      ]
     },
     "execution_count": 6,
     "metadata": {},
     "output_type": "execute_result"
    }
   ],
   "source": [
    "nums=[1,3,4]\n",
    "nums.insert(1,2)\n",
    "nums"
   ]
  },
  {
   "cell_type": "code",
   "execution_count": 7,
   "metadata": {},
   "outputs": [
    {
     "data": {
      "text/plain": [
       "[1, 2, 3, 4, 5]"
      ]
     },
     "execution_count": 7,
     "metadata": {},
     "output_type": "execute_result"
    }
   ],
   "source": [
    "nums=[1,2,3,4]\n",
    "nums.insert(len(nums),5)\n",
    "nums"
   ]
  },
  {
   "cell_type": "markdown",
   "metadata": {},
   "source": [
    "### Remove"
   ]
  },
  {
   "cell_type": "code",
   "execution_count": 8,
   "metadata": {},
   "outputs": [
    {
     "name": "stdout",
     "output_type": "stream",
     "text": [
      "['apple', 'orange', 'banana', 'pear', 'grape']\n"
     ]
    }
   ],
   "source": [
    "fruits.remove(\"peach\")  #删除指定值，无值报错;若有多个相同元素，只删除下标最小的元素\n",
    "print(fruits)"
   ]
  },
  {
   "cell_type": "code",
   "execution_count": 9,
   "metadata": {},
   "outputs": [
    {
     "name": "stdout",
     "output_type": "stream",
     "text": [
      "orange ['apple', 'banana', 'pear', 'grape']\n"
     ]
    }
   ],
   "source": [
    "poped = fruits.pop(1)  #删除并返回位置为1的元素，默认末尾\n",
    "print(poped, fruits)"
   ]
  },
  {
   "cell_type": "code",
   "execution_count": 10,
   "metadata": {},
   "outputs": [
    {
     "name": "stdout",
     "output_type": "stream",
     "text": [
      "['banana', 'pear', 'grape']\n"
     ]
    },
    {
     "data": {
      "text/plain": [
       "4510516224"
      ]
     },
     "execution_count": 10,
     "metadata": {},
     "output_type": "execute_result"
    }
   ],
   "source": [
    "del fruits[0]    #删除位置为0的元素\n",
    "print(fruits)\n",
    "id(fruits)"
   ]
  },
  {
   "cell_type": "code",
   "execution_count": 11,
   "metadata": {},
   "outputs": [
    {
     "name": "stdout",
     "output_type": "stream",
     "text": [
      "[]\n"
     ]
    },
    {
     "data": {
      "text/plain": [
       "4510516224"
      ]
     },
     "execution_count": 11,
     "metadata": {},
     "output_type": "execute_result"
    }
   ],
   "source": [
    "fruits.clear()    #清空列表 ->[]\n",
    "print(fruits)\n",
    "id(fruits)    #列表对象还是存在"
   ]
  },
  {
   "cell_type": "markdown",
   "metadata": {},
   "source": [
    "### Change \n",
    "\n",
    "List is changeable, while string is inchangeable. "
   ]
  },
  {
   "cell_type": "code",
   "execution_count": 12,
   "metadata": {},
   "outputs": [
    {
     "name": "stdout",
     "output_type": "stream",
     "text": [
      "['banana', 'apple', 'pear', 'grape', 'strawberry', 'pineapple', 'apple']\n"
     ]
    }
   ],
   "source": [
    "fruits=[\"orange\",\"apple\", \"pear\", \"peach\", \"watermalon\"]\n",
    "fruits[0]=\"banana\"    #直接赋值\n",
    "fruits[3:]=[\"grape\", \"strawberry\", \"pineapple\", \"apple\"]\n",
    "print(fruits)"
   ]
  },
  {
   "cell_type": "markdown",
   "metadata": {},
   "source": [
    "### Search"
   ]
  },
  {
   "cell_type": "code",
   "execution_count": 13,
   "metadata": {},
   "outputs": [
    {
     "name": "stdout",
     "output_type": "stream",
     "text": [
      "1\n",
      "6\n"
     ]
    }
   ],
   "source": [
    "idx = fruits.index(\"apple\")    #返回索引，无值报警. 若有多个相同的元素，则只返回第一个元素的索引\n",
    "print(idx)\n",
    "idx = fruits.index(\"apple\",2,len(fruits))\n",
    "print(idx)"
   ]
  },
  {
   "cell_type": "code",
   "execution_count": 14,
   "metadata": {},
   "outputs": [
    {
     "data": {
      "text/plain": [
       "['banana',\n",
       " 'apple',\n",
       " 'pear',\n",
       " 'grape',\n",
       " 'strawberry',\n",
       " 'pineapple',\n",
       " 'apple',\n",
       " 'pear',\n",
       " 'banana',\n",
       " 'pear',\n",
       " 'banana',\n",
       " 'peach']"
      ]
     },
     "execution_count": 14,
     "metadata": {},
     "output_type": "execute_result"
    }
   ],
   "source": [
    "fruits\n",
    "fruits.extend([\"pear\", \"banana\", \"pear\", \"banana\", \"peach\"])\n",
    "fruits"
   ]
  },
  {
   "cell_type": "code",
   "execution_count": 15,
   "metadata": {},
   "outputs": [
    {
     "data": {
      "text/plain": [
       "3"
      ]
     },
     "execution_count": 15,
     "metadata": {},
     "output_type": "execute_result"
    }
   ],
   "source": [
    "fruits.count(\"banana\")    #统计出现的次数"
   ]
  },
  {
   "cell_type": "code",
   "execution_count": 16,
   "metadata": {},
   "outputs": [
    {
     "data": {
      "text/plain": [
       "True"
      ]
     },
     "execution_count": 16,
     "metadata": {},
     "output_type": "execute_result"
    }
   ],
   "source": [
    "exists = \"peach\" in fruits    #成员检查 True/False\n",
    "exists"
   ]
  },
  {
   "cell_type": "markdown",
   "metadata": {},
   "source": [
    "## 排序与反转"
   ]
  },
  {
   "cell_type": "code",
   "execution_count": 17,
   "metadata": {},
   "outputs": [
    {
     "name": "stdout",
     "output_type": "stream",
     "text": [
      "[1, 2, 3, 4]\n",
      "[4, 3, 2, 1]\n",
      "[1, 2, 3, 4]\n",
      "['kiwi', 'apple', 'banana']\n"
     ]
    }
   ],
   "source": [
    "nums = [2,4,1,3]\n",
    "nums.sort()    #升序排序（缺省）\n",
    "print(nums)\n",
    "nums.sort(reverse=True)    #降序排序\n",
    "print(nums)\n",
    "nums.reverse()    #反转列表\n",
    "print(nums)\n",
    "\n",
    "# 自定义排序，如按字符串长度\n",
    "words = [\"apple\", \"kiwi\", \"banana\"]\n",
    "words.sort(key=lambda x: len(x))   # → [\"kiwi\", \"apple\", \"banana\"]\n",
    "print(words)"
   ]
  },
  {
   "cell_type": "markdown",
   "metadata": {},
   "source": [
    "## 切片（Slice）"
   ]
  },
  {
   "cell_type": "code",
   "execution_count": 18,
   "metadata": {},
   "outputs": [
    {
     "name": "stdout",
     "output_type": "stream",
     "text": [
      "[1, 2, 3]\n",
      "[0, 2, 4]\n",
      "[5, 4, 3, 2, 1, 0]\n"
     ]
    }
   ],
   "source": [
    "nums = [0, 1, 2, 3, 4, 5]\n",
    "subset = nums[1:4]                 # 索引1到3 → [1, 2, 3],不包含索引4\n",
    "print(subset)\n",
    "every_other = nums[::2]            # 步长2 → [0, 2, 4]\n",
    "print(every_other)\n",
    "reversed_nums = nums[::-1]         # 逆序 → [5, 4, 3, 2, 1, 0]\n",
    "print(reversed_nums)"
   ]
  },
  {
   "cell_type": "markdown",
   "metadata": {},
   "source": [
    "## List Comprehension 列表生成式\n",
    "\n",
    "List Comprehension Schmetics\n",
    "\n",
    "[expression for outer_item in outer_iterable for inner_item in inner_iterable]\n",
    "\n",
    "执行顺序：从左到右，先写外层循环，再写内层循环（类似嵌套的 for 循环）\n",
    "\n",
    "类比：可以理解为：\n",
    "\n",
    "for outer_item in outer_iterable:\n",
    "\n",
    "    for inner_item in inner_iterable:\n",
    "\n",
    "        expression"
   ]
  },
  {
   "cell_type": "code",
   "execution_count": 19,
   "metadata": {},
   "outputs": [
    {
     "name": "stdout",
     "output_type": "stream",
     "text": [
      "[0, 1, 4, 9, 16]\n",
      "[0, 2, 4, 6, 8]\n"
     ]
    }
   ],
   "source": [
    "squares = [x**2 for x in range(5)] # → [0, 1, 4, 9, 16]\n",
    "print(squares)\n",
    "evens = [x for x in range(10) if x % 2 == 0]  # 条件过滤 → [0, 2, 4, 6, 8]\n",
    "print(evens)"
   ]
  },
  {
   "cell_type": "code",
   "execution_count": 20,
   "metadata": {},
   "outputs": [
    {
     "name": "stdout",
     "output_type": "stream",
     "text": [
      "[[1, 2, 3], [4, 5, 6], [7, 8, 9]]\n",
      "[2, 5, 8]\n",
      "[1, 5, 9]\n",
      "[3, 5, 7]\n"
     ]
    }
   ],
   "source": [
    "matrix=[[1,2,3],[4,5,6],[7,8,9]]\n",
    "print(matrix)\n",
    "col2 = [row[1] for row in matrix] #提取出矩阵中第二列的内容\n",
    "print(col2)\n",
    "diag = [matrix[i][i] for i in range(len(matrix))]  #提取矩阵主对角线的值\n",
    "print(diag)\n",
    "n = len(matrix)\n",
    "second_diag = [matrix[i][n-1-i] for i in range(n)] #提取次对角线的值\n",
    "print(second_diag)"
   ]
  },
  {
   "cell_type": "code",
   "execution_count": 21,
   "metadata": {},
   "outputs": [
    {
     "name": "stdout",
     "output_type": "stream",
     "text": [
      "[[0, 0, 0], [0, 0, 0], [0, 0, 0]]\n",
      "[[0, 0, 0], [0, 1, 0], [0, 0, 0]]\n"
     ]
    }
   ],
   "source": [
    "#create a 2-dim matrix\n",
    "A=[[0]*3 for i in range(3)]\n",
    "print(A)\n",
    "A[1][1]=1\n",
    "print(A)"
   ]
  },
  {
   "cell_type": "markdown",
   "metadata": {},
   "source": [
    "## 嵌套列表"
   ]
  },
  {
   "cell_type": "code",
   "execution_count": 22,
   "metadata": {},
   "outputs": [
    {
     "name": "stdout",
     "output_type": "stream",
     "text": [
      "1 2 3 \n",
      "4 5 6 \n",
      "7 8 9 \n",
      "3\n"
     ]
    }
   ],
   "source": [
    "# 二维列表\n",
    "matrix = [[1,2,3],\n",
    "          [4,5,6],\n",
    "          [7,8,9]]\n",
    "for i in matrix:\n",
    "    for each in i:\n",
    "        print(each,end=' ')\n",
    "    print()\n",
    "print(len(matrix))"
   ]
  },
  {
   "cell_type": "code",
   "execution_count": 23,
   "metadata": {},
   "outputs": [
    {
     "name": "stdout",
     "output_type": "stream",
     "text": [
      "[[0, 0, 0], [0, 0, 0], [0, 0, 0]]\n",
      "[[0, 0, 0], [0, 1, 0], [0, 0, 0]]\n",
      "[[0, 0, 0], [0, 0, 0], [0, 0, 0]]\n",
      "[[0, 1, 0], [0, 1, 0], [0, 1, 0]]\n"
     ]
    }
   ],
   "source": [
    "A=[0]*3\n",
    "for i in range(3):\n",
    "    A[i]=[0]*3\n",
    "print(A)\n",
    "A[1][1]=1\n",
    "print(A)    #only A[1][1]=1\n",
    "B= [[0]*3]*3    #只是拷贝了一个列表的引用，而非物理上的拷贝\n",
    "print(B)\n",
    "B[1][1]=1\n",
    "print(B)    #B[*][1]=1"
   ]
  },
  {
   "cell_type": "code",
   "execution_count": 24,
   "metadata": {},
   "outputs": [
    {
     "name": "stdout",
     "output_type": "stream",
     "text": [
      "x and y是否相同？ True\n"
     ]
    }
   ],
   "source": [
    "x,y=\"wenyuc\", \"wenyuc\"\n",
    "x is y    #string is inchangeable\n",
    "print(\"x and y是否相同？\", id(x) == id(y))    "
   ]
  },
  {
   "cell_type": "code",
   "execution_count": 25,
   "metadata": {},
   "outputs": [
    {
     "name": "stdout",
     "output_type": "stream",
     "text": [
      "x and y是否不同？ True\n"
     ]
    }
   ],
   "source": [
    "x, y =[1,2,3],[1,2,3]\n",
    "x is y    #list is changeable\n",
    "print(\"x and y是否不同？\", id(x) != id(y))  "
   ]
  },
  {
   "cell_type": "code",
   "execution_count": 26,
   "metadata": {},
   "outputs": [
    {
     "name": "stdout",
     "output_type": "stream",
     "text": [
      "A[0] id:4510471360, A[1] id:4510507136,A[2] id:4510473920\n"
     ]
    }
   ],
   "source": [
    "print(f\"A[0] id:{id(A[0])}, A[1] id:{id(A[1])},A[2] id:{id(A[2])}\")"
   ]
  },
  {
   "cell_type": "code",
   "execution_count": 27,
   "metadata": {},
   "outputs": [
    {
     "name": "stdout",
     "output_type": "stream",
     "text": [
      "B[0] id:4510532416, B[1] id:4510532416,B[2] id:4510532416\n"
     ]
    }
   ],
   "source": [
    "print(f\"B[0] id:{id(B[0])}, B[1] id:{id(B[1])},B[2] id:{id(B[2])}\")"
   ]
  },
  {
   "cell_type": "code",
   "execution_count": 28,
   "metadata": {},
   "outputs": [
    {
     "name": "stdout",
     "output_type": "stream",
     "text": [
      "[1, 2, 3, 4, 5, 6, 7, 8, 9]\n",
      "[[1, 4, 7], [2, 5, 8], [3, 6, 9]]\n"
     ]
    }
   ],
   "source": [
    "matrix = [[1, 2, 3], [4, 5,6],[7,8,9]]\n",
    "flatten = [col for row in matrix for col in row]  # 扁平化 → [1, 2, 3, 4]\n",
    "print(flatten)\n",
    "\n",
    "#小矩阵用列表生成式，大矩阵用zip或numpy\n",
    "transpose = [[row[i] for row in matrix] for i in range(len(matrix))]  # 转置 → [[1, 3], [2, 4]]\n",
    "print(transpose)"
   ]
  },
  {
   "cell_type": "code",
   "execution_count": 29,
   "metadata": {},
   "outputs": [
    {
     "data": {
      "text/plain": [
       "[1, 2, 3, 4, 5, 6, 7, 8, 9]"
      ]
     },
     "execution_count": 29,
     "metadata": {},
     "output_type": "execute_result"
    }
   ],
   "source": [
    "#扁平化的代码等价于\n",
    "flat = []\n",
    "for row in matrix:      # 外层循环：遍历 matrix 的每一行（row）\n",
    "    for num in row:     # 内层循环：遍历当前行（row）的每个元素（num）\n",
    "        flat.append(num)  # 将 num 添加到 flat 列表中\n",
    "flat"
   ]
  },
  {
   "cell_type": "code",
   "execution_count": 30,
   "metadata": {},
   "outputs": [
    {
     "data": {
      "text/plain": [
       "[1, 2, 3, 4, 5, 6, 7, 8]"
      ]
     },
     "execution_count": 30,
     "metadata": {},
     "output_type": "execute_result"
    }
   ],
   "source": [
    "# 处理三维列表的扁平化\n",
    "cube = [[[1, 2], [3, 4]], [[5, 6], [7, 8]]]\n",
    "flat = [num for plane in cube for row in plane for num in row]  # 输出 [1, 2, 3, 4, 5, 6, 7, 8]\n",
    "flat"
   ]
  },
  {
   "cell_type": "code",
   "execution_count": 31,
   "metadata": {},
   "outputs": [
    {
     "data": {
      "text/plain": [
       "[[1, 4, 7], [2, 5, 8]]"
      ]
     },
     "execution_count": 31,
     "metadata": {},
     "output_type": "execute_result"
    }
   ],
   "source": [
    "#转置的代码等价于\n",
    "transpose = []\n",
    "for i in range(2):            # 遍历每一列\n",
    "    new_row = []\n",
    "    for row in matrix:        # 遍历每一行\n",
    "        new_row.append(row[i])  # 取当前行的第 i 个元素\n",
    "    transpose.append(new_row)\n",
    "transpose"
   ]
  },
  {
   "cell_type": "code",
   "execution_count": 32,
   "metadata": {},
   "outputs": [],
   "source": [
    "#转置的通用写法，对于nxm矩阵，计算列数\n",
    "n_cols = len(matrix[0])  # 假设矩阵非空\n",
    "transpose = [[row[i] for row in matrix] for i in range(n_cols)]"
   ]
  },
  {
   "cell_type": "code",
   "execution_count": 33,
   "metadata": {},
   "outputs": [
    {
     "data": {
      "text/plain": [
       "[[1, 4, 7], [2, 5, 8], [3, 6, 9]]"
      ]
     },
     "execution_count": 33,
     "metadata": {},
     "output_type": "execute_result"
    }
   ],
   "source": [
    "#更简洁的Pythonic写法\n",
    "#zip(*matrix) 解包行并重新按列组合，map(list, ...) 将元组转为列表。\n",
    "transpose = list(map(list, zip(*matrix)))  # 输出 [[1, 3], [2, 4]]\n",
    "transpose"
   ]
  },
  {
   "cell_type": "code",
   "execution_count": 34,
   "metadata": {},
   "outputs": [
    {
     "name": "stdout",
     "output_type": "stream",
     "text": [
      "[[1, 4, 7], [2, 5, 8], [3, 6, 9]]\n"
     ]
    }
   ],
   "source": [
    "import numpy as np\n",
    "transpose = np.array(matrix).T.tolist()  # 输出 [[1, 3], [2, 4]]\n",
    "print(transpose)"
   ]
  },
  {
   "cell_type": "markdown",
   "metadata": {},
   "source": [
    "## 复制列表\n",
    "\n",
    "- 使用浅拷贝：当嵌套对象不可变（如元组、字符串）或明确需要共享数据时。\n",
    "\n",
    "- 使用深拷贝：当嵌套对象可变（如列表、字典）且需要完全隔离修改时。"
   ]
  },
  {
   "cell_type": "code",
   "execution_count": 35,
   "metadata": {},
   "outputs": [
    {
     "name": "stdout",
     "output_type": "stream",
     "text": [
      "原列表: [[1, 2], [3, 4]]\n",
      "新列表: [[5, 6], [3, 4]]\n",
      "原列表: [[1, 2], [99, 4]]\n",
      "新列表: [[5, 6], [99, 4]]\n"
     ]
    }
   ],
   "source": [
    "original = [[1, 2], [3, 4]]  # 原列表（包含嵌套列表）\n",
    "new_list = original.copy()    # 浅拷贝\n",
    "\n",
    "# 修改新列表的外层元素\n",
    "new_list[0] = [5, 6]\n",
    "print(\"原列表:\", original)  # 输出 [[1, 2], [3, 4]] （外层独立）\n",
    "print(\"新列表:\", new_list)  # 输出 [[5, 6], [3, 4]]\n",
    "\n",
    "# 修改新列表的嵌套元素\n",
    "new_list[1][0] = 99\n",
    "print(\"原列表:\", original)  # 输出 [[1, 2], [99, 4]] （嵌套共享！）\n",
    "print(\"新列表:\", new_list)  # 输出 [[5, 6], [99, 4]]"
   ]
  },
  {
   "cell_type": "code",
   "execution_count": 36,
   "metadata": {},
   "outputs": [
    {
     "name": "stdout",
     "output_type": "stream",
     "text": [
      "外层列表是否不同？ True\n",
      "嵌套列表是否相同？ True\n"
     ]
    }
   ],
   "source": [
    "print(\"外层列表是否不同？\", id(original) != id(new_list))        # True（独立）\n",
    "print(\"嵌套列表是否相同？\", id(original[1]) == id(new_list[1]))  # True（共享）"
   ]
  },
  {
   "cell_type": "code",
   "execution_count": 37,
   "metadata": {},
   "outputs": [
    {
     "name": "stdout",
     "output_type": "stream",
     "text": [
      "[1, 2, 3]\n"
     ]
    }
   ],
   "source": [
    "original = [1, 2, 3]\n",
    "shallow_copy = original.copy()     # 浅拷贝\n",
    "print(shallow_copy)\n",
    "deep_copy = [x for x in original]  # 深拷贝（适用于简单列表）"
   ]
  },
  {
   "cell_type": "code",
   "execution_count": 38,
   "metadata": {},
   "outputs": [
    {
     "name": "stdout",
     "output_type": "stream",
     "text": [
      "[1, 4, 3]\n",
      "[1, 2, 3]\n"
     ]
    }
   ],
   "source": [
    "shallow_copy[1]=4\n",
    "print(shallow_copy)\n",
    "print(original)"
   ]
  },
  {
   "cell_type": "code",
   "execution_count": 39,
   "metadata": {},
   "outputs": [
    {
     "name": "stdout",
     "output_type": "stream",
     "text": [
      "列表浅拷贝是否不同? True\n"
     ]
    }
   ],
   "source": [
    "print(\"列表浅拷贝是否不同?\", id(original)!=id(new_list))"
   ]
  },
  {
   "cell_type": "code",
   "execution_count": 40,
   "metadata": {},
   "outputs": [],
   "source": [
    "import copy"
   ]
  },
  {
   "cell_type": "markdown",
   "metadata": {},
   "source": [
    "## 其他常用方法\n"
   ]
  },
  {
   "cell_type": "code",
   "execution_count": 41,
   "metadata": {},
   "outputs": [],
   "source": [
    "nums = [1, 2, 3]\n",
    "length = len(nums)                 # 长度 → 3\n",
    "min_val, max_val = min(nums), max(nums)  # 最小/最大值\n",
    "sum_all = sum(nums)                # 求和 → 6\n",
    "\n",
    "# 列表拼接\n",
    "combined = [1, 2] + [3, 4]        # → [1, 2, 3, 4]\n",
    "repeated = [\"hi\"] * 3             # → [\"hi\", \"hi\", \"hi\"]"
   ]
  },
  {
   "cell_type": "markdown",
   "metadata": {},
   "source": [
    "# Tuple\n",
    "\n",
    "Like String, tuple is inchangeable. "
   ]
  },
  {
   "cell_type": "code",
   "execution_count": 64,
   "metadata": {},
   "outputs": [
    {
     "name": "stdout",
     "output_type": "stream",
     "text": [
      "t1 type:<class 'tuple'>\n",
      "(1, 2, 3, 4, 5, 'wenyuc')\n",
      "1 wenyuc\n",
      "<class 'tuple'>\n"
     ]
    }
   ],
   "source": [
    "t1 = (1,2,3,4,5,\"wenyuc\")\n",
    "print(f\"t1 type:{type(t1)}\")\n",
    "t1 = 1,2,3,4,5,\"wenyuc\"    #create a tuple without \"()\"\n",
    "print(t1)\n",
    "print(t1[0], t1[-1])\n",
    "t=(123,)    #生成只有一个元素的元组，注意后面的逗号\n",
    "print(type(t))"
   ]
  },
  {
   "cell_type": "code",
   "execution_count": 51,
   "metadata": {},
   "outputs": [
    {
     "name": "stdout",
     "output_type": "stream",
     "text": [
      "(1, 2, 3)\n",
      "(4, 5, 'wenyuc')\n"
     ]
    }
   ],
   "source": [
    "print(t1[:3]);print(t1[3:])"
   ]
  },
  {
   "cell_type": "code",
   "execution_count": 55,
   "metadata": {},
   "outputs": [
    {
     "name": "stdout",
     "output_type": "stream",
     "text": [
      "4\n",
      "1\n"
     ]
    }
   ],
   "source": [
    "nums=(1,3,5,8,3,7,3,9,11,15,3,7)\n",
    "print(nums.count(3))\n",
    "print(nums.index(3))"
   ]
  },
  {
   "cell_type": "code",
   "execution_count": 58,
   "metadata": {},
   "outputs": [
    {
     "name": "stdout",
     "output_type": "stream",
     "text": [
      "(1, 2, 3, 4, 5, 6)\n",
      "(4, 5, 6, 4, 5, 6)\n"
     ]
    }
   ],
   "source": [
    "s =(1,2,3);t=(4,5,6)\n",
    "print(s+t)\n",
    "print(t*2)"
   ]
  },
  {
   "cell_type": "code",
   "execution_count": 59,
   "metadata": {},
   "outputs": [
    {
     "data": {
      "text/plain": [
       "((1, 2, 3), (4, 5, 6))"
      ]
     },
     "execution_count": 59,
     "metadata": {},
     "output_type": "execute_result"
    }
   ],
   "source": [
    "w=s,t    #元组的嵌套\n",
    "w"
   ]
  },
  {
   "cell_type": "code",
   "execution_count": 63,
   "metadata": {},
   "outputs": [
    {
     "data": {
      "text/plain": [
       "generator"
      ]
     },
     "execution_count": 63,
     "metadata": {},
     "output_type": "execute_result"
    }
   ],
   "source": [
    "type((i*2 for i in t))    #注意类型generator不是类型元组.没有元组推导式这种方法"
   ]
  },
  {
   "cell_type": "code",
   "execution_count": 69,
   "metadata": {},
   "outputs": [
    {
     "name": "stdout",
     "output_type": "stream",
     "text": [
      "[99, 4, 5]\n",
      "345 wenyuc [99, 4, 5]\n",
      "345 ['wenyuc', [99, 4, 5]]\n"
     ]
    }
   ],
   "source": [
    "#打包和解包\n",
    "t=(345,\"wenyuc\",[3,4,5])\n",
    "x,y,z =t    #列表对象也可以这样解包，注意等号左右两边元素个数要相同\n",
    "z[0]=99    #元组中的列表元素依然可修改\n",
    "print(z)\n",
    "print(x,y,z)\n",
    "a, *b=t    #第一个元素赋值给变量a，剩下所有的元素赋值给一个列表变量\n",
    "print(a, b)"
   ]
  },
  {
   "cell_type": "markdown",
   "metadata": {},
   "source": [
    "# String 字符串"
   ]
  },
  {
   "cell_type": "code",
   "execution_count": 113,
   "metadata": {},
   "outputs": [
    {
     "name": "stdout",
     "output_type": "stream",
     "text": [
      "12321 是回文数\n",
      "I love python\n",
      "i love python\n",
      "I Love Python\n",
      "i LOVE pYTHON\n",
      "I LOVE PYTHON\n",
      "i love python\n",
      "~~~I love Python~~~~\n",
      "I love Python       \n",
      "       I love Python\n",
      "-088.8\n"
     ]
    }
   ],
   "source": [
    "#判断一个字符串是否为回文数\n",
    "x=\"12321\"\n",
    "print(f\"{x} 是回文数\" if x == x[::-1] else \"不是回文数\")\n",
    "#大小写字母转换的方法：capitalize(), casefold(), title(), swapcase(), lower(), upper()\n",
    "x = \"I love Python\"\n",
    "print(x.capitalize())    #将字符串的字母大写\n",
    "print(x.casefold())    #变为全是小写的字符串，除了英语还能处理其他语言\n",
    "print(x.title())    #所有单词的手字母变成大写，其他变为小写\n",
    "print(x.swapcase())    #字符串中字母大小写翻转\n",
    "print(x.upper())    #所有字母变为大写\n",
    "print(x.lower())    #所有字母变为小写，只能处理英文\n",
    "#字符串左中右对齐的方法: center(), ljust(), rjust(), fill()\n",
    "print(x.center(20, '~'))\n",
    "print(x.ljust(20))\n",
    "print(x.rjust(20))\n",
    "y='-88.8'\n",
    "print(y.zfill(6))"
   ]
  },
  {
   "cell_type": "code",
   "execution_count": 126,
   "metadata": {},
   "outputs": [
    {
     "name": "stdout",
     "output_type": "stream",
     "text": [
      "上海自来水来自海上 是回文数\n",
      "2\n",
      "1\n",
      "7\n",
      "-1\n",
      "Not Found\n"
     ]
    },
    {
     "data": {
      "text/plain": [
       "'I  wnyu3'"
      ]
     },
     "execution_count": 126,
     "metadata": {},
     "output_type": "execute_result"
    }
   ],
   "source": [
    "#字符串的查找方法：count(), find(),rfind(), index(),rindex()\n",
    "x=\"上海自来水来自海上\"\n",
    "print(f\"{x} 是回文数\" if x == x[::-1] else \"不是回文数\")\n",
    "print(x.count(\"海\"))\n",
    "print(x.find(\"海\"))\n",
    "print(x.rfind(\"海\"))\n",
    "print(x.find(\"龟\"))    #找不到返回-1\n",
    "try:\n",
    "    print(x.index(\"龟\"))    #找不到抛出异常ValueError\n",
    "except:\n",
    "    print(\"Not Found\")\n",
    "\n",
    "#字符串替换的方法：expandtabs(4) 使用空格替换制表符，并返回一个新字符串.参数为一个tab转换为几个空格；\n",
    "#replace(old, new, count=-1) -1表示替换全部\n",
    "table = str.maketrans(\"ABCDEFG\",\"1234567\", \"love\")    #maketrans()为string对象的一个静态方法, 第三个字符串忽略\n",
    "\"I love wenyuC\".translate(table)"
   ]
  },
  {
   "cell_type": "code",
   "execution_count": 150,
   "metadata": {},
   "outputs": [
    {
     "name": "stdout",
     "output_type": "stream",
     "text": [
      "All of them love Python.\n",
      "True\n",
      "2²\n",
      "False\n",
      "True\n",
      "True\n",
      "ⅠⅡⅤⅧ\n",
      "False\n",
      "False\n",
      "True\n",
      "壹贰叁肆伍\n",
      "False\n",
      "False\n",
      "True\n",
      "True\n"
     ]
    }
   ],
   "source": [
    "#字符串的判断的方法：startswith(str1,start=,end=); endswith(str1,)\n",
    "x = \"She Love Python.\"\n",
    "if x.startswith((\"I\", \"He\",\"She\", \"We\", \"They\")):    #检测的字符串可以为一个元组中的任何一个\n",
    "    print(\"All of them love Python.\")\n",
    "#istitle() 判断每个单词起始字母为大写; isupper() 每个字母是否都为大写；islower()\n",
    "print(x.istitle())\n",
    "#isalpha() 判断字符串是否都由字母构成，注意空白字符不是字母；isspace()判断字符串都由空白字符构成，注意制表符，换行符都为空白符\n",
    "x.isalpha()\n",
    "#isprintable() 判断是否为可打印字符，注意换行符等不是可打印字符\n",
    "#isdecimal(),isdigit(),isnumeric()\n",
    "#x=\"2²\"\n",
    "x = \"2\\u00B2\"    #平方的unicode\n",
    "print(x)\n",
    "print(x.isdecimal())\n",
    "print(x.isdigit())\n",
    "print(x.isnumeric())\n",
    "x = \"\\u2160\\u2161\\u2164\\u2167\" #罗马字母Unicode 范围：\\u2160~\\u216F（大写罗马数字 1~12），\\u2170~\\u217F（小写罗马数字 1~12）\n",
    "print(x)\n",
    "print(x.isdecimal())\n",
    "print(x.isdigit())\n",
    "print(x.isnumeric())\n",
    "x=\"壹贰叁肆伍\"\n",
    "print(x)\n",
    "print(x.isdecimal())\n",
    "print(x.isdigit())\n",
    "print(x.isnumeric())\n",
    "#isalnum() 只要isalpha(), isdecimal(), isdigit(), isnumeric()中任一个为true，就返回true\n",
    "#isidentifier() 判断是否为一个合法的python 标识符\n",
    "import keyword\n",
    "print(keyword.iskeyword(\"if\"))    #判断一个字符串是否为保留字符串"
   ]
  },
  {
   "cell_type": "code",
   "execution_count": 174,
   "metadata": {},
   "outputs": [
    {
     "name": "stdout",
     "output_type": "stream",
     "text": [
      "ilovewenyuc.com\n",
      "www.ilovewenyu\n",
      "www.ilovewenyu\n",
      "ilovewenyuc.com\n",
      "www.ilovewenyuc\n",
      "('www', '.', 'ilovewenyuc.com')\n",
      "('www.ilovewenyuc.com', '/', 'python.html')\n",
      "['www', 'ilovewenyuc.com']\n",
      "['www.ilovewenyuc', 'com']\n",
      "['苟日新\\n', '又日新\\r\\n', '日日新']\n",
      "www.ilovewenyuc.com\n",
      "wenyucwenyuc\n"
     ]
    }
   ],
   "source": [
    "#截取字符串 lstrip() 去掉左侧的空白；rstrip(); strip() 左右都不要留白\n",
    "print(\"www.ilovewenyuc.com\".lstrip(\"www.\"))\n",
    "print(\"www.ilovewenyuc.com\".rstrip(\".com\"))\n",
    "print(\"www.ilovewenyuc.com\".strip(\".com\"))\n",
    "print(\"www.ilovewenyuc.com\".removeprefix(\"www.\"))\n",
    "print(\"www.ilovewenyuc.com\".removesuffix(\".com\"))\n",
    "#拆分\n",
    "print(\"www.ilovewenyuc.com\".partition(\".\"))    #返回一个包含三个元素的元组\n",
    "print(\"www.ilovewenyuc.com/python.html\".rpartition(\"/\"))\n",
    "print(\"www.ilovewenyuc.com\".split(\".\", 1))    #返回一个列表，第二个参数为分割次数，-1为不限\n",
    "print(\"www.ilovewenyuc.com\".rsplit(\".\", 1))\n",
    "x=\"苟日新\\n又日新\\r\\n日日新\"\n",
    "print(x.splitlines(True))    #支持多种换行符分割，参数True表示换行符是否包含在分割后的字符串中\n",
    "#拼接 join()\n",
    "print('.'.join([\"www\", \"ilovewenyuc\",\"com\"]))    #join()中各字符串用列表或元组包起来都可以\n",
    "print(''.join((\"wenyuc\",\"wenyuc\")))    #大数据时效率高"
   ]
  },
  {
   "cell_type": "code",
   "execution_count": 194,
   "metadata": {},
   "outputs": [
    {
     "name": "stdout",
     "output_type": "stream",
     "text": [
      "my studio was founded on 2025 year.\n",
      "1+2=3, 2² =4 3³=27\n",
      "1+2=3, 2² =4 3³=27\n",
      "wenyuc loves python\n",
      "1 {} 2\n",
      "1 {} 2\n",
      "   666    \n",
      "0000000666\n",
      "       650666       \n",
      "-000000666\n",
      "~~~~~~~650666~~~~~~~\n"
     ]
    }
   ],
   "source": [
    "#格式化字符串\n",
    "year=2025\n",
    "print(\"my studio was founded on {} year.\".format(year))\n",
    "print(\"1+2={}, 2\\u00B2 ={} 3\\u00B3={}\".format(1+2, 2*2, 3*3*3))    #format中的字符被当做元组中的元素\n",
    "print(\"1+2={2}, 2\\u00B2 ={1} 3\\u00B3={0}\".format(3*3*3, 2*2, 1+2))    #在花括号内还可以填字符串的位置，索引值可以被引用多次\n",
    "print(\"{name} loves {language}\".format(language=\"python\", name=\"wenyuc\")) \n",
    "print(\"{} {} {}\".format(1, {}, 2))    #输出花括号的方法1\n",
    "print(\"{} {{}} {}\".format(1, 2))    #输出花括号的方法2\n",
    "#align\n",
    "print(\"{:^10}\".format(666))    #^居中\n",
    "print(\"{:0=10}\".format(666))   #填充字符\n",
    "print(\"{1:>10}{0:<10}\".format(666,650))    #每个{}中第一个为位置参数，第二个对齐方向，第三个显示宽度\n",
    "print(\"{:010}\".format(-666))    #只对数字有效\n",
    "print(\"{1:~>10}{0:~<10}\".format(666,650))    #填充字符"
   ]
  },
  {
   "cell_type": "code",
   "execution_count": 219,
   "metadata": {},
   "outputs": [
    {
     "name": "stdout",
     "output_type": "stream",
     "text": [
      "-666 -250\n",
      "99,999\n",
      "100_000\n",
      "3.14\n",
      "3.1\n",
      "I love\n",
      "Except\n",
      "0b1010000\n",
      "P\n",
      "1.245476e+12\n",
      "1.24548e+12\n",
      "1245.48\n",
      "98.00%\n",
      "3.142\n",
      "***3.14***\n"
     ]
    }
   ],
   "source": [
    "#符号选项：“+”，“-”(缺省)，和空格\n",
    "print(\"{:+} {:-}\".format(-666, -250))\n",
    "#千分位符\n",
    "print(\"{:,}\".format(99999))    #如果位数不足，则千分位符不显示\n",
    "print(\"{:_}\".format(100000))\n",
    "#精度\n",
    "print(\"{:.2f}\".format(3.1415926))    #小数点后有几位\n",
    "print(\"{:.2g}\".format(3.1415926))    #小数点前后一共有几位\n",
    "print(\"{:.6}\".format(\"I love wenyuc.\"))    #对于字符串，则是截取的功能\n",
    "try:\n",
    "    a=\"{:.2}\".format(666)    #对于整数要抛出异常\n",
    "except :\n",
    "    print(\"Except\")\n",
    "print(\"{:#b}\".format(80))    #以二进制形式输出，并加上二进制前缀\n",
    "print(\"{:c}\".format(80))    #以Unicode形式输出\n",
    "print(\"{:e}\".format(1245475636565))\n",
    "print(\"{:g}\".format(1245475636565))    #以e的形式输出\n",
    "print(\"{:g}\".format(1245.475636565))    #以定点表示法的形式输出\n",
    "print(\"{:.2%}\".format(0.98))    #缺省为小数点后6位\n",
    "print(\"{:.{prec}f}\".format(3.14159,prec=3))    #通过关键字设置精度值\n",
    "print(\"{:{fill}{align}{width}.{prec}{ty}}\".format(3.14159, fill=\"*\",align=\"^\", width=10, prec=3, ty=\"g\"))"
   ]
  },
  {
   "cell_type": "code",
   "execution_count": 227,
   "metadata": {},
   "outputs": [
    {
     "name": "stdout",
     "output_type": "stream",
     "text": [
      "my studio was founded on 2025 year.\n",
      "1+2=3, 2² =4 3³=27\n",
      "***-520***\n",
      "999,999\n",
      "***3.14***\n"
     ]
    }
   ],
   "source": [
    "#f-string f-字符串 start from python v3.6， 效率高\n",
    "year=2025\n",
    "print(f\"my studio was founded on {year} year.\")\n",
    "print(f\"1+2={1+2}, 2\\u00B2 ={2*2} 3\\u00B3={3*3*3}\")\n",
    "print(f\"{-520:*^10}\")\n",
    "print(f\"{999999:,}\")\n",
    "fill=\"*\";align=\"^\";width=10;prec=3;ty=\"g\"    #还不如用format的方法处理\n",
    "print(f\"{3.14159:{fill}{align}{width}.{prec}{ty}}\")"
   ]
  },
  {
   "cell_type": "markdown",
   "metadata": {},
   "source": [
    "# Sequence (序列)\n",
    "在 Python 中，sequence 是指一种可迭代的、有序的容器类型，其元素可通过索引（从 0 开始）访问。\n",
    "核心特征：有序、可索引、可切片。\n",
    "常见的序列类型包括：\n",
    "- 字符串（str）: \"hello\"\n",
    "- 列表（list）: [1,2,3]\n",
    "- 元组（tuple）: (4, 5, 6)\n",
    "- 范围（range）: range(10)\n",
    "- 字节序列（bytes）: b'Python'"
   ]
  },
  {
   "cell_type": "code",
   "execution_count": 72,
   "metadata": {},
   "outputs": [
    {
     "name": "stdout",
     "output_type": "stream",
     "text": [
      "4565678464\n",
      "[1, 2, 3, 1, 2, 3]\n",
      "4565678464\n"
     ]
    }
   ],
   "source": [
    "l1=[1,2,3]\n",
    "print(id(l1))\n",
    "l1 *= 2\n",
    "print(l1)\n",
    "print(id(l1))    #id都相同"
   ]
  },
  {
   "cell_type": "code",
   "execution_count": 73,
   "metadata": {},
   "outputs": [
    {
     "name": "stdout",
     "output_type": "stream",
     "text": [
      "4565699712\n",
      "(1, 2, 3, 1, 2, 3)\n",
      "4558904384\n"
     ]
    }
   ],
   "source": [
    "t1=(1,2,3)\n",
    "print(id(t1))\n",
    "t1 *=2\n",
    "print(t1)\n",
    "print(id(t1))    #id 不同"
   ]
  },
  {
   "cell_type": "code",
   "execution_count": 89,
   "metadata": {},
   "outputs": [
    {
     "name": "stdout",
     "output_type": "stream",
     "text": [
      "True\n",
      "True\n",
      "False\n",
      "True\n"
     ]
    }
   ],
   "source": [
    "#is用于检测两个对象的id是否相等，从而判断是否为同一个对象，\n",
    "#又称为同一性运算符\n",
    "x=\"wenyuc\";y=\"wenyuc\"\n",
    "print(x is y)    #同一个对象\n",
    "print(x==y)    #且内容相同\n",
    "s = [1,2,3];t=[1,2,3]\n",
    "print(s is t)    #不是同一个对象\n",
    "print(s == t)    #但内容相同\n",
    "del s; del t"
   ]
  },
  {
   "cell_type": "code",
   "execution_count": 96,
   "metadata": {},
   "outputs": [
    {
     "name": "stdout",
     "output_type": "stream",
     "text": [
      "[1, 5]\n",
      "[1, 5]\n",
      "[2, 4]\n",
      "[]\n"
     ]
    }
   ],
   "source": [
    "x = [1,2,3,4,5]\n",
    "del x[1:4]\n",
    "print(x)\n",
    "x = [1,2,3,4,5]\n",
    "x[1:4]=[]    #将空列表赋值给切片操作\n",
    "print(x)\n",
    "x = [1,2,3,4,5]\n",
    "del x[::2]\n",
    "print(x)\n",
    "x = [1,2,3,4,5]\n",
    "del x[::]\n",
    "print(x)"
   ]
  },
  {
   "cell_type": "markdown",
   "metadata": {},
   "source": [
    "## 跟序列相关的函数"
   ]
  },
  {
   "cell_type": "code",
   "execution_count": 127,
   "metadata": {},
   "outputs": [
    {
     "name": "stdout",
     "output_type": "stream",
     "text": [
      "['w', 'e', 'n', 'y', 'u', 'C']\n",
      "[1, 2, 3, 4, 5]\n"
     ]
    }
   ],
   "source": [
    "# 序列、元组和字符串相互转换的函数\n",
    "# list(), tuple(), str()\n",
    "print(list(\"wenyuC\"))\n",
    "print(list((1,2,3,4,5)))"
   ]
  },
  {
   "cell_type": "code",
   "execution_count": 100,
   "metadata": {},
   "outputs": [
    {
     "data": {
      "text/plain": [
       "'[1, 2, 3, 4, 5]'"
      ]
     },
     "execution_count": 100,
     "metadata": {},
     "output_type": "execute_result"
    }
   ],
   "source": [
    "str([1,2,3,4,5])"
   ]
  },
  {
   "cell_type": "code",
   "execution_count": 102,
   "metadata": {},
   "outputs": [
    {
     "name": "stdout",
     "output_type": "stream",
     "text": [
      "1\n",
      "5\n",
      "empty object, no minimum\n"
     ]
    }
   ],
   "source": [
    "x=(1,3,3,4,5)\n",
    "print(min(x));print(max(x))    #空对象报错\n",
    "x=[]\n",
    "print(min(x, default=\"empty object, no minimum\"))"
   ]
  },
  {
   "cell_type": "code",
   "execution_count": 107,
   "metadata": {},
   "outputs": [
    {
     "name": "stdout",
     "output_type": "stream",
     "text": [
      "115\n",
      "[0, 0, 1, 6, 8]\n",
      "<list_reverseiterator object at 0x10fbb46d0>\n"
     ]
    }
   ],
   "source": [
    "s=[1,0,0,8,6]\n",
    "print(sum(s, start=100))\n",
    "print(sorted(s))    #sorted(s)返回一个和s不同，新的列表，s.sort()列表被改变.\n",
    "print(reversed(s))"
   ]
  },
  {
   "cell_type": "code",
   "execution_count": 110,
   "metadata": {},
   "outputs": [
    {
     "name": "stdout",
     "output_type": "stream",
     "text": [
      "['pear', 'peach', 'grape', 'apple', 'banana', 'avocado', 'watermelon']\n",
      "['pear', 'peach', 'grape', 'apple', 'banana', 'avocado', 'watermelon']\n"
     ]
    }
   ],
   "source": [
    "fruits = [\"watermelon\", \"peach\", \"grape\", \"banana\", \"apple\", \"avocado\", \"pear\"]\n",
    "print(sorted(fruits, key=len))\n",
    "fruits.sort(key=len)\n",
    "print(fruits)"
   ]
  },
  {
   "cell_type": "code",
   "execution_count": 111,
   "metadata": {},
   "outputs": [
    {
     "data": {
      "text/plain": [
       "['C', 'e', 'n', 'u', 'w', 'y']"
      ]
     },
     "execution_count": 111,
     "metadata": {},
     "output_type": "execute_result"
    }
   ],
   "source": [
    "#sorted(obj)可以接受任何可迭代对象作为参数\n",
    "sorted(\"wenyuC\")"
   ]
  },
  {
   "cell_type": "code",
   "execution_count": 115,
   "metadata": {},
   "outputs": [
    {
     "name": "stdout",
     "output_type": "stream",
     "text": [
      "[0, 8, 9, 3, 1]\n",
      "[9, 8, 7, 6, 5, 4, 3, 2, 1, 0]\n"
     ]
    }
   ],
   "source": [
    "#reversed(obj) 返回对象的反向迭代器\n",
    "s = [1,3,9,8,0]\n",
    "reversed(s)\n",
    "l = list(reversed(s))\n",
    "print(l)\n",
    "print(list(reversed(range(0,10))))"
   ]
  },
  {
   "cell_type": "code",
   "execution_count": 117,
   "metadata": {},
   "outputs": [
    {
     "name": "stdout",
     "output_type": "stream",
     "text": [
      "False\n",
      "True\n"
     ]
    }
   ],
   "source": [
    "#all(obj)判断可迭代对象中是否所有元素都为真\n",
    "#any(obj)判断可迭代对象中是否存在某个元素的值为真\n",
    "s = (1,1,0)\n",
    "t = (1,1,9)\n",
    "print(all(s));print(any(t))"
   ]
  },
  {
   "cell_type": "code",
   "execution_count": 120,
   "metadata": {},
   "outputs": [
    {
     "data": {
      "text/plain": [
       "[(1, 'spring'), (2, 'summer'), (3, 'fall'), (4, 'winter')]"
      ]
     },
     "execution_count": 120,
     "metadata": {},
     "output_type": "execute_result"
    }
   ],
   "source": [
    "#enumerate(obj)函数用于返回一个枚举对象，将可迭代对象中的每个元素及从0开始的序号共同构成一个二元组的列表\n",
    "seasons = [\"spring\",\"summer\", \"fall\", \"winter\"]\n",
    "list(enumerate(seasons,start=1))"
   ]
  },
  {
   "cell_type": "code",
   "execution_count": 126,
   "metadata": {},
   "outputs": [
    {
     "name": "stdout",
     "output_type": "stream",
     "text": [
      "[(1, 4, 'w'), (2, 5, 'e'), (3, 6, 'n'), (None, None, 'y'), (None, None, 'u'), (None, None, 'C')]\n"
     ]
    }
   ],
   "source": [
    "#zip(obj)函数用于创建一个聚合多个可迭代对象的迭代器。将作为参数传入的每个可迭代对象的每个元素依次组合成元组，即第i个元组包含来自每个元素的第i个元素\n",
    "x=[1,2,3];y=[4,5,6];z=\"wenyuC\"\n",
    "list(zip(x,y,z))\n",
    "import itertools\n",
    "print(list(itertools.zip_longest(x,y,z)))"
   ]
  },
  {
   "cell_type": "code",
   "execution_count": 134,
   "metadata": {},
   "outputs": [
    {
     "name": "stdout",
     "output_type": "stream",
     "text": [
      "[119, 101, 110, 121, 117, 67]\n",
      "[32, 27, 1000]\n"
     ]
    }
   ],
   "source": [
    "#map(func, obj, ...) 根据提供的函数对可迭代对象的每个元素进行计算，并返回运算结果的迭代器\n",
    "mapped=map(ord, \"wenyuC\")    #返回字符的Unicode编码\n",
    "print(list(mapped))\n",
    "mapped=map(pow, [2,3,10],[5,3,3,4])    #只匹配到最短的长度\n",
    "print(list(mapped))"
   ]
  },
  {
   "cell_type": "code",
   "execution_count": 135,
   "metadata": {},
   "outputs": [
    {
     "name": "stdout",
     "output_type": "stream",
     "text": [
      "['e', 'n', 'y', 'u']\n"
     ]
    }
   ],
   "source": [
    "#filter(func, obj, ...) 根据提供的函数对可迭代对象中的每个元素进行计算，并将运算结果为真的元素，以迭代器的形式返回\n",
    "filtered=filter(str.islower,\"WenyuC\")\n",
    "print(list(filtered))"
   ]
  },
  {
   "cell_type": "code",
   "execution_count": 136,
   "metadata": {},
   "outputs": [
    {
     "name": "stdout",
     "output_type": "stream",
     "text": [
      "[119, 101, 110, 121, 117, 67]\n",
      "[]\n"
     ]
    }
   ],
   "source": [
    "#迭代器和可迭代对象\n",
    "#一个迭代器就是一个可迭代对象。可迭代对象可以对其进行重复操作；而迭代器则是一次性的\n",
    "mapped=map(ord, \"wenyuC\")    #返回字符的Unicode编码\n",
    "print(list(mapped))\n",
    "print(list(mapped))    #已经是空列表了"
   ]
  },
  {
   "cell_type": "code",
   "execution_count": 142,
   "metadata": {},
   "outputs": [
    {
     "name": "stdout",
     "output_type": "stream",
     "text": [
      "<class 'list'>\n",
      "<class 'list_iterator'>\n",
      "1 2 3 4 5 No element\n"
     ]
    }
   ],
   "source": [
    "#iter(obj)将可迭代对象转换为迭代器;next(iterator_obj)将迭代器中的元素逐个取出.全部读取了一次后next()报异常\n",
    "x = [1,2,3,4,5];y = iter(x)\n",
    "print(type(x));print(type(y))\n",
    "print(next(y), next(y),next(y),next(y),next(y), next(y, \"No element\"))"
   ]
  },
  {
   "cell_type": "markdown",
   "metadata": {},
   "source": [
    "# Dictionary\n",
    "Python中唯一实现了映射关系的内置类型\n"
   ]
  },
  {
   "cell_type": "code",
   "execution_count": 8,
   "metadata": {},
   "outputs": [
    {
     "name": "stdout",
     "output_type": "stream",
     "text": [
      "<class 'dict'>\n",
      "{'a': 1, 'b': 2, 'c': 3}\n",
      "{'a': 1, 'b': 2, 'c': 3}\n",
      "{'a': 1, 'b': 2, 'c': 3}\n",
      "{'a': 1, 'b': 2}\n",
      "{'a': 1, 'b': 2, 'c': 3, 'd': 4}\n",
      "{'a': 1, 'b': 2, 'c': 3}\n"
     ]
    }
   ],
   "source": [
    "#create a dict obj\n",
    "#字典中的键不能重复\n",
    "d={\"a\":1, \"b\":2}\n",
    "print(type(d))\n",
    "d[\"c\"]=3    #create a key-value pair\n",
    "print(d)\n",
    "d1=dict(a=1,b=2,c=3)    #key上不能加引号，但是按字符串处理\n",
    "print(d1)\n",
    "d2=dict([('a',1), ('b',2), ('c',3)])    #通过key-value元组对的列表来定义字典\n",
    "print(d2)\n",
    "d3=dict({\"a\":1, \"b\":2})    #调用dict()函数，传参数\n",
    "print(d3)\n",
    "d4=dict({\"a\":1, \"b\":2},c=3,d=4)    #混合法，注意后面2个参数中c和d都不加引号\n",
    "print(d4)\n",
    "d5=dict(zip(['a','b','c'],[1,2,3]))\n",
    "print(d5)"
   ]
  },
  {
   "cell_type": "code",
   "execution_count": 36,
   "metadata": {},
   "outputs": [
    {
     "name": "stdout",
     "output_type": "stream",
     "text": [
      "{'w': 889, 'e': 889, 'n': 889, 'y': 889, 'u': 889, 'c': 889}\n",
      "{'w': 889, 'e': 889, 'n': 889, 'y': 889, 'u': 889, 'c': 999}\n",
      "{'w': 889, 'e': 889, 'n': 889, 'y': 889, 'u': 889, 'c': 999, 'C': 888}\n"
     ]
    }
   ],
   "source": [
    "#add\n",
    "d6=dict.fromkeys(\"wenyuc\",889)    #创建一个所有值都相同的字典\n",
    "print(d6)\n",
    "d6['c']=999\n",
    "print(d6)\n",
    "d6['C']=888    #若没有相应的键，则创建一个新的键值对\n",
    "print(d6)"
   ]
  },
  {
   "cell_type": "code",
   "execution_count": 37,
   "metadata": {},
   "outputs": [
    {
     "name": "stdout",
     "output_type": "stream",
     "text": [
      "999\n",
      "{'w': 889, 'e': 889, 'n': 889, 'y': 889, 'u': 889, 'C': 888}\n"
     ]
    }
   ],
   "source": [
    "#remove\n",
    "print(d6.pop('c','Not Exist'))    #若键不存在，则抛出异常,可定义一个字符串提示没有键\n",
    "print(d6)"
   ]
  },
  {
   "cell_type": "code",
   "execution_count": 38,
   "metadata": {},
   "outputs": [
    {
     "name": "stdout",
     "output_type": "stream",
     "text": [
      "{'w': 889, 'e': 889, 'n': 889, 'y': 889, 'u': 889}\n",
      "{'w': 889, 'n': 889, 'y': 889, 'u': 889}\n",
      "{}\n"
     ]
    }
   ],
   "source": [
    "d6.popitem()    #弹出最后加入的item，python v3.7后支持\n",
    "print(d6)\n",
    "del d6['e']\n",
    "print(d6)\n",
    "#del d6\n",
    "d6.clear()\n",
    "print(d6)"
   ]
  },
  {
   "cell_type": "code",
   "execution_count": 41,
   "metadata": {},
   "outputs": [
    {
     "name": "stdout",
     "output_type": "stream",
     "text": [
      "{'w': None, 'e': None, 'n': None, 'y': None, 'u': None, 'C': None}\n",
      "{'w': 688, 'e': None, 'n': None, 'y': 889, 'u': None, 'C': None}\n",
      "{'w': 688, 'e': 388, 'n': 389, 'y': 889, 'u': None, 'C': None}\n"
     ]
    }
   ],
   "source": [
    "#update\n",
    "d7=dict.fromkeys(\"wenyuC\");\n",
    "print(d7)\n",
    "d7.update({'w':688, 'y':889})\n",
    "print(d7)\n",
    "d7.update(e=388,n=389)\n",
    "print(d7)"
   ]
  },
  {
   "cell_type": "code",
   "execution_count": 57,
   "metadata": {},
   "outputs": [
    {
     "name": "stdout",
     "output_type": "stream",
     "text": [
      "{'a': 1, 'b': 2, 'c': 'code'}\n",
      "dict_keys(['a', 'b', 'c'])\n",
      "dict_values([1, 2, 'code'])\n",
      "dict_items([('a', 1), ('b', 2), ('c', 'code')])\n",
      "dict_items([('a', 1), ('b', 2)])\n",
      "{'a': 1, 'b': 2}\n",
      "2\n",
      "True\n",
      "['a', 'b']\n",
      "[1, 2]\n",
      "a b Empty\n",
      "[2, 1]\n"
     ]
    }
   ],
   "source": [
    "#search\n",
    "d = {'a': 1, 'b': 2}\n",
    "d.get('a', \"Not Found key\")    # if 'c' key non-existent, returns default ‘3’\n",
    "d.setdefault('c',\"code\")    #没有键就增加一个\n",
    "print(d)\n",
    "#keys(),values(),items()\n",
    "keys=d.keys()\n",
    "print(keys)\n",
    "values=d.values()\n",
    "print(values)\n",
    "items=d.items()\n",
    "print(items)\n",
    "d.pop('c')\n",
    "print(d.items())\n",
    "e=d.copy()    #shallow copy\n",
    "print(e)\n",
    "print(len(d))    #the number of key-value pair\n",
    "print( 'c'  not in d)\n",
    "print(list(d))    #list of keys\n",
    "print(list(d.values())) #list of values\n",
    "e=iter(d)    #iterator\n",
    "print(next(e),next(e), next(e,\"Empty\"))\n",
    "print(list(reversed(d.values())))    #above python v3.7"
   ]
  },
  {
   "cell_type": "code",
   "execution_count": 62,
   "metadata": {},
   "outputs": [
    {
     "name": "stdout",
     "output_type": "stream",
     "text": [
      "128\n",
      "133\n"
     ]
    }
   ],
   "source": [
    "#nesting\n",
    "score={\"wenyuc\":{\"Chinese\":111,\"Math\": 128,\"English\":143}, \"jiayi\":{\"Chinese\":128,\"Math\": 133,\"English\":146}}\n",
    "print(score[\"wenyuc\"][\"Math\"])\n",
    "score2={\"wenyuc\":[111,128,143], \"jiayi\":[128,133,148]}\n",
    "print(score2[\"jiayi\"][1])"
   ]
  },
  {
   "cell_type": "code",
   "execution_count": 69,
   "metadata": {},
   "outputs": [
    {
     "name": "stdout",
     "output_type": "stream",
     "text": [
      "{88: 'w', 105: 'e', 90: 'n', 120: 'y', 138: 'u', 148: 'C'}\n",
      "{'e': 105, 'y': 120, 'u': 138, 'C': 148}\n",
      "{'w': 119, 'e': 101, 'n': 110, 'y': 121, 'u': 117, 'C': 67}\n",
      "{1: 6, 3: 6, 5: 6}\n"
     ]
    }
   ],
   "source": [
    "#dict comprehension\n",
    "d={'w':88, 'e':105, 'n':90, 'y':120, 'u':138, 'C':148}\n",
    "b = {v:k for k, v in d.items()}\n",
    "print(b)\n",
    "b = {k:v for k,v in d.items() if v>100}\n",
    "print(b)\n",
    "b = {x:ord(x) for x in \"wenyuC\"}\n",
    "print(b)\n",
    "d= {x:y for x in [1,3,5] for y in [2,4,6]}\n",
    "print(d)"
   ]
  },
  {
   "cell_type": "markdown",
   "metadata": {},
   "source": [
    "# Set 集合\n",
    "Python中集合{}的关键特性:唯一性、无序性"
   ]
  },
  {
   "cell_type": "code",
   "execution_count": 88,
   "metadata": {},
   "outputs": [
    {
     "name": "stdout",
     "output_type": "stream",
     "text": [
      "<class 'set'>\n",
      "{'python', 'wenyuc'}\n",
      "{'n', 'y', 'e', 'w', 'u', 'c'}\n",
      "{'k', 'o', 'i', 'N', 'a'}\n",
      "True\n",
      "k\n",
      "o\n",
      "i\n",
      "N\n",
      "a\n",
      "False\n"
     ]
    }
   ],
   "source": [
    "s={\"wenyuc\",\"python\"}\n",
    "print(type(s))\n",
    "print(s)    #无序，随机\n",
    "s1={s for s in \"wenyucc\"}    #集合推导式\n",
    "print(s1)\n",
    "s2=set(\"Nokia\")\n",
    "print(s2)\n",
    "#由于集合的无序性，无法通过s2[0]去访问它\n",
    "print(\"i\" in s2)\n",
    "for each in s2:\n",
    "    print(each)\n",
    "#检查列表中是否有重复元素\n",
    "l=[1,1,2,3,4,5,4,6,7,5]\n",
    "print(len(l)==len(set(l)))"
   ]
  },
  {
   "cell_type": "code",
   "execution_count": 3,
   "metadata": {},
   "outputs": [
    {
     "name": "stdout",
     "output_type": "stream",
     "text": [
      "{1, 'w', 'c', 'p', 't', 'o', 'e', 'h', 'y', 'n', 'u'}\n"
     ]
    }
   ],
   "source": [
    "s=set(\"wenyuc\")\n",
    "s.update([1,1],\"python\")\n",
    "print(s)"
   ]
  },
  {
   "cell_type": "markdown",
   "metadata": {},
   "source": [
    "## forsenset\n",
    "forzenset is immutable, while Set is mutable. "
   ]
  },
  {
   "cell_type": "code",
   "execution_count": 8,
   "metadata": {},
   "outputs": [
    {
     "name": "stdout",
     "output_type": "stream",
     "text": [
      "False\n",
      "True\n",
      "False\n",
      "True\n",
      "True\n",
      "True\n",
      "{1, 2, 3, 'w', 't', 'p', 'o', 'e', 'h', 'y', 'n', 'c', 'u'}\n",
      "{1, 2, 3, '9', 'w', 't', 'p', 'o', 'e', '8', 'h', '7', 'y', 'n', 'c', 'u'}\n",
      "{1, 2, 3, '9', 'w', 't', 'p', 'o', 'e', '8', 'h', '7', 'y', '789', 'n', 'c', 'u'}\n",
      "{'n', 'w', 'e'}\n",
      "{1, 2, 3, 'w', 't', 'p', 'e', 'c'}\n",
      "{1, 2, 3, 'w', 'o', 'e', 'h', 'y', 'n', 'c'}\n",
      "True\n",
      "True\n"
     ]
    }
   ],
   "source": [
    "l=[1,1,2,3,4,5,4,6,7,5]\n",
    "s = set(l)\n",
    "t=s.copy()    #shallow copy\n",
    "print(id(s)==id(t))\n",
    "print(s==t)\n",
    "s=set(\"wenyuc\")\n",
    "print(s.isdisjoint(\"python\"))    #检查集合s和python组成的集合是否不相关，因为有相同的n，所以它们是相关的，返回False\n",
    "print(s.isdisjoint(\"Java\"))\n",
    "print(s.issubset(\"wenyuc.com.cn\"))    #检查是否为子集\n",
    "print(s.issuperset(\"wenyu\"))    #检查是否为超集，或用运算符>=,>\n",
    "s=s.union({1,2,3},\"python\")    #并集,或用运算符 |\n",
    "print(s)\n",
    "s.update(\"789\")    #update()也是并集操作\n",
    "print(s)\n",
    "s.add(\"789\")    #注意和update()的区别，将add()中的参数作为1个字符串插入到set中\n",
    "print(s)\n",
    "s=s.intersection(\"wen\")    #交集, 或用运算符 &\n",
    "print(s)\n",
    "s=set(\"wenyuc\")\n",
    "s=s.union({1,2,3},\"python\")\n",
    "s=s.difference(\"yu\",\"hon\")    #差集， 或用运算符 - \n",
    "print(s)\n",
    "s=s.symmetric_difference(\"python\")    #对称差集，或用运算符\n",
    "print(s)\n",
    "s=set(\"wenyuc\")\n",
    "print(s <= set(\"wenyuc python\"))    #检查是否为子集\n",
    "print(s < set(\"wenyuc java\"))    #检查是否为真子集\n",
    "#用运算符的话，运算符两边都是集合对象"
   ]
  },
  {
   "cell_type": "code",
   "execution_count": 15,
   "metadata": {},
   "outputs": [
    {
     "name": "stdout",
     "output_type": "stream",
     "text": [
      "{'w', 'c', 'e', 'y', 'n'}\n",
      "w\n",
      "{'c', 'e', 'y', 'n'}\n",
      "set()\n"
     ]
    }
   ],
   "source": [
    "#删除set中的元素\n",
    "s = set(\"wenyuc\")\n",
    "s.remove('u')    #若删除的元素不存在则报异常，但discard()会静默处理\n",
    "s.discard('P')\n",
    "print(s)\n",
    "print(s.pop())    #pop()随机弹出一个元素\n",
    "print(s)\n",
    "s.clear()\n",
    "print(s)"
   ]
  },
  {
   "cell_type": "code",
   "execution_count": 17,
   "metadata": {},
   "outputs": [
    {
     "name": "stdout",
     "output_type": "stream",
     "text": [
      "frozenset({'C', 'e', 'W', 'y', 'n', 'u'})\n"
     ]
    }
   ],
   "source": [
    "ft=frozenset(\"WenyuC\")\n",
    "print(ft)\n",
    "#ft.intersection_update(\"wenyu\")    #不可修改\n"
   ]
  },
  {
   "cell_type": "code",
   "execution_count": 26,
   "metadata": {},
   "outputs": [
    {
     "name": "stdout",
     "output_type": "stream",
     "text": [
      "6071426859974414743\n",
      "529344067295497451\n",
      "{frozenset({'w', 'y', 'n', 'c', 'u', 'e'}), '12'}\n"
     ]
    }
   ],
   "source": [
    "#只有可哈希的值，才能作为字典的键或set中的元素。不可改变的对象，如str，tuple才可哈希\n",
    "print(hash(\"wenyuc\"))\n",
    "print(hash((1,2,3)))\n",
    "#可以用frozenset对象实现可嵌套的集合\n",
    "s=set(\"wenyuc\")\n",
    "s={frozenset(s),\"12\"}\n",
    "print(s)"
   ]
  },
  {
   "cell_type": "code",
   "execution_count": null,
   "metadata": {},
   "outputs": [],
   "source": [
    "#大数据量的列表中查询值时，可以将列表转换为set，查找效率提升很多\n",
    "#集合背后有散列表的支持，列表则没有。但会导致存储空间变大，用空间换时间"
   ]
  },
  {
   "cell_type": "code",
   "execution_count": 24,
   "metadata": {},
   "outputs": [
    {
     "name": "stdout",
     "output_type": "stream",
     "text": [
      "[1, 3, 5, 7, 9, 11, 13, 15, 16, 17, 19]\n",
      "[1, 3, 5, 7, 9, 11, 13, 15, 16, 17, 19]\n",
      "[1, 3, 5, 7, 9, 11, 13, 15, 16, 17, 19]\n",
      "[1, 19, 3, 5, 9, 7, 11, 13, 15, 16, 17]\n"
     ]
    }
   ],
   "source": [
    "#Test：找出两个序列s1，s2中共同的元素\n",
    "s1=[1,19,3,5,1,9,5,7,11,25,13,11,15,16,17]\n",
    "s2=[1,2,3,4,5,6,7,8,9,10,11,12,13,14,15,16,17,18,19]\n",
    "common_1=[x for x in set(s1) if x in set(s2)]    #为了避免结果中存在重复的元素，所以先将 s1 和 s2 转换为集合，然后再进入下一步的操作\n",
    "print(common_1)\n",
    "common_2 = list(set(s1) & set(s2))    #集合的哈希表特性使查找时间复杂度为O(1),适合大数据量\n",
    "print(common_2)\n",
    "common_3 = list(filter(lambda x: x in s1, s2))\n",
    "print(common_3)\n",
    "\n",
    "#集合对极大数据量的效率很高，但会丢失原数列顺序，若要保持顺序可用列表推导式\n",
    "# 用集合快速查找，用列表推导式保持顺序\n",
    "unique_s2= set(s2)\n",
    "common_4 = [x for x in s1 if x in unique_s2]\n",
    "# 去重并保持首次出现顺序\n",
    "common_4 = list(dict.fromkeys(common_4))\n",
    "print(common_4)"
   ]
  },
  {
   "cell_type": "code",
   "execution_count": 20,
   "metadata": {},
   "outputs": [
    {
     "name": "stdout",
     "output_type": "stream",
     "text": [
      "[1, 3, 5, 7, 9, 11, 13, 15, 16, 17]\n"
     ]
    }
   ],
   "source": [
    "s1=[1,3,5,1,9,5,7,11,25,13,11,15,16,17]\n",
    "s2=[1,2,3,4,5,6,7,8,9,10,11,12,13,14,15,16,17,18,19]\n"
   ]
  },
  {
   "cell_type": "markdown",
   "metadata": {},
   "source": [
    "# Function's Parameter and Argument\n",
    "- 形参(Parameter, or Formal Parameter), 函数定义时声明的变量，用于接收传入的值\n",
    "- 实参(Argument，or Actual Argument),函数调用时实际传入的值或变量\n",
    "\n",
    "def func( a, *,b,c):\n",
    "    pass\n",
    "- \\* 右边的b，c只能通过keyword only的形式传递实参\n",
    "\n",
    "def func（a,b, /, c):\n",
    "    pass\n",
    "- \\/左边的形参只能通过位置的方式传递实参\n"
   ]
  },
  {
   "cell_type": "code",
   "execution_count": 5,
   "metadata": {},
   "outputs": [
    {
     "name": "stdout",
     "output_type": "stream",
     "text": [
      "<class 'tuple'>\n",
      "Have 5 arguments\n",
      "Second argument:2\n"
     ]
    }
   ],
   "source": [
    "def myfunc(*args):    #将实参打包成元组（tuple）\n",
    "    print(type(args))\n",
    "    print(\"Have {} arguments\".format(len(args)))\n",
    "    print(\"Second argument:{}\".format(args[1]))\n",
    "\n",
    "myfunc(1,2,3,4,5)"
   ]
  },
  {
   "cell_type": "code",
   "execution_count": 23,
   "metadata": {},
   "outputs": [
    {
     "data": {
      "text/plain": [
       "[1, 2, 3, 'a', 'b', 'c', 8, 9, 'm', 8, 9]"
      ]
     },
     "execution_count": 23,
     "metadata": {},
     "output_type": "execute_result"
    }
   ],
   "source": [
    "def spread(*arg):\n",
    "    ret = []\n",
    "    for i in arg:\n",
    "        if isinstance(i, list):    #这里只用list作为第二个参数就好，无需type(list），type(list)返回类，等价于检查i是否为一个类，而非类的实例，几乎都返回False\n",
    "            ret.extend(i)     # extend() \n",
    "        else:\n",
    "            ret.append(i)     # append() \n",
    "    return ret\n",
    "\n",
    "spread(1,2,3, ['a', 'b', 'c'], [8], [9,'m'],8,9)\n",
    "#isinstance()会认为子类对象也属于父类类型，如果需要严格匹配list(不包括其子类)，需额外检查\n",
    "#if type(obj) is list:  # 严格匹配，排除子类\n",
    "#    print(\"是纯正的 list\")"
   ]
  },
  {
   "cell_type": "code",
   "execution_count": 9,
   "metadata": {},
   "outputs": [
    {
     "name": "stdout",
     "output_type": "stream",
     "text": [
      "(1, 2, 3) 5 4\n"
     ]
    }
   ],
   "source": [
    "def myfunc(*args, a, b):\n",
    "    print(args, a, b)\n",
    "\n",
    "myfunc(1,2,3,b=4,a=5)    #要用keyword=value传递实参"
   ]
  },
  {
   "cell_type": "code",
   "execution_count": 13,
   "metadata": {},
   "outputs": [
    {
     "name": "stdout",
     "output_type": "stream",
     "text": [
      "<class 'dict'>\n",
      "{'a': 1, 'b': 2, 'c': 3, 'd': 4, 'e': 5}\n"
     ]
    }
   ],
   "source": [
    "def myfunc1(**kwargs):    #将实参打包成字典\n",
    "    print(type(kwargs))\n",
    "    print(kwargs)\n",
    "\n",
    "myfunc1(a=1, b=2,c=3,d=4,e=5)    #只能用keyword only的形式传递实参"
   ]
  },
  {
   "cell_type": "code",
   "execution_count": 14,
   "metadata": {},
   "outputs": [
    {
     "name": "stdout",
     "output_type": "stream",
     "text": [
      "<class 'str'> <class 'tuple'> <class 'dict'>\n",
      "a (1, 2, 3) {'name': 'wenyuc', 'skill': 'python'}\n"
     ]
    }
   ],
   "source": [
    "def myfunc2(a, *args, **kwargs):     #混合的形式，通过位置参数传入1，收集参数打包成元组传递给args，再通过键值对将实参打包为字典\n",
    "    print(type(a), type(args), type(kwargs))\n",
    "    print(a, args, kwargs)\n",
    "\n",
    "myfunc2('a',1,2,3,name=\"wenyuc\", skill=\"python\")"
   ]
  },
  {
   "cell_type": "code",
   "execution_count": 32,
   "metadata": {},
   "outputs": [
    {
     "name": "stdout",
     "output_type": "stream",
     "text": [
      "In funB, x= 999\n",
      "In FunA, x= 520\n",
      "In outside, x= 888\n"
     ]
    }
   ],
   "source": [
    "#函数作用域\n",
    "#变量作用域LEGB规则， L：local， E：Enclosed， G：Global， B：Built-in\n",
    "\n",
    "x=888\n",
    "def funA():\n",
    "    x=520\n",
    "    def funB():\n",
    "        x=999\n",
    "        print(\"In funB, x=\",x)\n",
    "    funB()\n",
    "    print(\"In FunA, x=\",x)\n",
    "funA()\n",
    "print(\"In outside, x=\",x)"
   ]
  },
  {
   "cell_type": "code",
   "execution_count": 30,
   "metadata": {},
   "outputs": [
    {
     "name": "stdout",
     "output_type": "stream",
     "text": [
      "In funB, x= 999\n",
      "In FunA, x= 999\n",
      "In outside, x= 888\n"
     ]
    }
   ],
   "source": [
    "x=888\n",
    "def funA():\n",
    "    x=520\n",
    "    def funB():\n",
    "        nonlocal x    #指定用funA中定义的x变量，并修改它的值\n",
    "        x=999\n",
    "        print(\"In funB, x=\",x)\n",
    "    funB()\n",
    "    print(\"In FunA, x=\",x)\n",
    "funA()\n",
    "print(\"In outside, x=\",x)"
   ]
  },
  {
   "cell_type": "code",
   "execution_count": 31,
   "metadata": {},
   "outputs": [
    {
     "name": "stdout",
     "output_type": "stream",
     "text": [
      "In funB, x= 999\n",
      "In FunA, x= 520\n",
      "In outside, x= 999\n"
     ]
    }
   ],
   "source": [
    "x=888\n",
    "def funA():\n",
    "    x=520\n",
    "    def funB():\n",
    "        global x    #指定用外部（global）定义的x变量，并修改它的值\n",
    "        x=999\n",
    "        print(\"In funB, x=\",x)\n",
    "    funB()\n",
    "    print(\"In FunA, x=\",x)\n",
    "funA()\n",
    "print(\"In outside, x=\",x)"
   ]
  },
  {
   "cell_type": "markdown",
   "metadata": {},
   "source": [
    "## 参数类型和注释"
   ]
  },
  {
   "cell_type": "code",
   "execution_count": 62,
   "metadata": {},
   "outputs": [
    {
     "data": {
      "text/plain": [
       "'wenyucwenyucwenyuc'"
      ]
     },
     "execution_count": 62,
     "metadata": {},
     "output_type": "execute_result"
    }
   ],
   "source": [
    "#函数作者期待第一个参数为字符串，第二个参数为整数，函数返回字符串\n",
    "def times(s:str=\"wenyuc\",rep:int=3) ->str:\n",
    "    return s*rep\n",
    "times()"
   ]
  },
  {
   "cell_type": "code",
   "execution_count": 63,
   "metadata": {},
   "outputs": [
    {
     "data": {
      "text/plain": [
       "[1, 2, 3, 1, 2, 3, 1, 2, 3]"
      ]
     },
     "execution_count": 63,
     "metadata": {},
     "output_type": "execute_result"
    }
   ],
   "source": [
    "def times(s:list[int],n:int) ->list:    #期待第一个参数为整形列表，第二个参数为整数\n",
    "    return s * n\n",
    "times([1,2,3],3)"
   ]
  },
  {
   "cell_type": "code",
   "execution_count": 70,
   "metadata": {},
   "outputs": [
    {
     "name": "stdout",
     "output_type": "stream",
     "text": [
      "['A', 'B', 'C', 'A', 'B', 'C', 'A', 'B', 'C']\n",
      "times\n",
      "{'s': dict[str, int], 'n': <class 'int'>, 'return': <class 'list'>}\n",
      "None\n"
     ]
    }
   ],
   "source": [
    "def times(s:dict[str, int], n:int) -> list:\n",
    "    return list(s.keys()) * n\n",
    "print(times({\"A\":1, \"B\":2, \"C\":3},3))\n",
    "print(times.__name__)    #内省，获取函数的名字\n",
    "print(times.__annotations__)    #内省，获取参数类型注释\n",
    "print(times.__doc__)"
   ]
  },
  {
   "cell_type": "code",
   "execution_count": null,
   "metadata": {},
   "outputs": [],
   "source": []
  },
  {
   "cell_type": "code",
   "execution_count": null,
   "metadata": {},
   "outputs": [],
   "source": []
  },
  {
   "cell_type": "markdown",
   "metadata": {},
   "source": [
    "# 闭包 Closure\n",
    "使用闭包可以使函数在退出后保留状态，用全局变量也可以实现这个功能。但过多地使用全局变量可污染命名空间。"
   ]
  },
  {
   "cell_type": "code",
   "execution_count": 38,
   "metadata": {},
   "outputs": [
    {
     "name": "stdout",
     "output_type": "stream",
     "text": [
      "In funB, x= 520\n"
     ]
    }
   ],
   "source": [
    "#对于嵌套函数来说，外层函数的作用域可以通过某种形式保存下来，尽管这个函数已经调用完了。\n",
    "def funA():\n",
    "    x=520\n",
    "    def funB():\n",
    "        print(\"In funB, x=\",x)\n",
    "    return funB    #注意只有函数定义和调用函数的时候才后面接（），返回一个函数的引用\n",
    "\n",
    "funny=funA()\n",
    "funny()"
   ]
  },
  {
   "cell_type": "code",
   "execution_count": 40,
   "metadata": {},
   "outputs": [
    {
     "name": "stdout",
     "output_type": "stream",
     "text": [
      "16\n",
      "125\n"
     ]
    }
   ],
   "source": [
    "#实现一个工厂函数\n",
    "#power()就相当于一个工厂函数，根据power不同，生成2个生产线，一条是返回参数的平方，另一条是返回参数的立方\n",
    "def power(exp):\n",
    "    def exp_of(base):\n",
    "        return base ** exp\n",
    "    return exp_of\n",
    "square=power(2)    #执行这个语句的时候，square变量指向的exp_of函数就记住了外层函数作用域的exp参数的值为2\n",
    "cube=power(3)    #执行这个语句的时候，cube变量指向的exp_of函数就记住了外层函数作用域的exp参数的值为3\n",
    "print(square(4))  #所以调用square（）总是计算平方，而cube()总是计算立方\n",
    "print(cube(5))"
   ]
  },
  {
   "cell_type": "code",
   "execution_count": 44,
   "metadata": {},
   "outputs": [
    {
     "name": "stdout",
     "output_type": "stream",
     "text": [
      "Now, x=1, y=2\n",
      "Now, x=-1, y=4\n"
     ]
    }
   ],
   "source": [
    "def outer():\n",
    "    x=0;y=0\n",
    "    def inner(x1,y1):\n",
    "        nonlocal x,y\n",
    "        x += x1\n",
    "        y += y1\n",
    "        print(f\"Now, x={x}, y={y}\")\n",
    "    return inner\n",
    "\n",
    "move = outer()\n",
    "move(1,2)\n",
    "move(-2,2)    #通过内层函数能记住外层函数作用域的特征，并使用nonlocal语句，实现了带记忆功能的函数"
   ]
  },
  {
   "cell_type": "markdown",
   "metadata": {},
   "source": [
    "# 装饰器 Decorator"
   ]
  },
  {
   "cell_type": "code",
   "execution_count": 46,
   "metadata": {},
   "outputs": [
    {
     "name": "stdout",
     "output_type": "stream",
     "text": [
      "I'm going to call func()\n",
      "calling myfunc...\n",
      "Finished call func\n"
     ]
    }
   ],
   "source": [
    "def myfunc():\n",
    "    print(\"calling myfunc...\")\n",
    "\n",
    "def report(func):\n",
    "    print(\"I'm going to call func()\")\n",
    "    func()\n",
    "    print(\"Finished call func\")\n",
    "\n",
    "report(myfunc)"
   ]
  },
  {
   "cell_type": "code",
   "execution_count": 47,
   "metadata": {},
   "outputs": [
    {
     "name": "stdout",
     "output_type": "stream",
     "text": [
      "Start to call ...\n",
      "Hello, wenyuc.\n",
      "Finish\n",
      "Time:2.00 second.\n"
     ]
    }
   ],
   "source": [
    "import time\n",
    "def time_master(func):\n",
    "    print(\"Start to call ...\")\n",
    "    start=time.time()\n",
    "    func()\n",
    "    stop=time.time()\n",
    "    print(\"Finish\")\n",
    "    print(f\"Time:{(stop-start):.2f} second.\")\n",
    "\n",
    "def myfunc():\n",
    "    time.sleep(2)\n",
    "    print(\"Hello, wenyuc.\")\n",
    "\n",
    "time_master(myfunc)    #直接调用time_master.它实现装饰并调用myfunc"
   ]
  },
  {
   "cell_type": "code",
   "execution_count": 8,
   "metadata": {},
   "outputs": [
    {
     "name": "stdout",
     "output_type": "stream",
     "text": [
      "Start to call ...\n",
      "I love Python.\n",
      "Time:2.00 second.\n",
      "call_func\n"
     ]
    }
   ],
   "source": [
    "#装饰器实现。在每次调用myfunc的时候，都去调用time_master().可以实现调用不同装饰器，而不用修改不同的调用方法.\n",
    "#通过time_master,将myfunc替换为call_func\n",
    "import time\n",
    "def time_master(func):    #接收被调用的函数，例如myfunc\n",
    "    def call_func():    #定义包裹函数。在被调用时会执行func()并执行装饰任务（计算时间差）\n",
    "        print(\"Start to call ...\")    #第6，7，9，10行都是装饰\n",
    "        start=time.time()\n",
    "        func()    #调用被装饰的函数\n",
    "        stop=time.time()\n",
    "        print(f\"Time:{(stop-start):.2f} second.\")\n",
    "    return call_func    #返回包裹函数\n",
    "\n",
    "@time_master    # 等价于 myfunc = time_master(myfunc)\n",
    "def myfunc():\n",
    "    time.sleep(2)    #模拟耗时操作\n",
    "    print(\"I love Python.\")\n",
    "\n",
    "\n",
    "myfunc()    # 实际调用的是 time_master(myfunc) 返回的 call_func\n",
    "print(myfunc.__name__)    #实际上myfunc是cal_func函数。下面的@wraps装饰器可以使函数名为myfunc"
   ]
  },
  {
   "cell_type": "markdown",
   "metadata": {},
   "source": [
    "执行流程\n",
    "装饰阶段（代码加载时）：\n",
    "@time_master 将 myfunc 作为参数传给 time_master，返回 call_func。\n",
    "等效操作：myfunc = time_master(myfunc)，此时 myfunc 实际指向 call_func。\n",
    "\n",
    "调用阶段（运行时）：\n",
    "执行 myfunc() 即执行 call_func()：\n",
    "打印 \"Start to call ...\"。\n",
    "记录开始时间 start。\n",
    "执行原 myfunc 的逻辑（休眠 2 秒 + 打印 \"I love Python.\"）。\n",
    "记录结束时间 stop。\n",
    "打印 \"Finish\" 和耗时（保留 2 位小数）。\n",
    "\n",
    "装饰器的作用\n",
    "- 不修改原函数：通过高阶函数包裹原函数，添加新功能（如计时、日志等）。\n",
    "- 语法糖：@decorator 等价于 func = decorator(func)。"
   ]
  },
  {
   "cell_type": "code",
   "execution_count": 51,
   "metadata": {},
   "outputs": [
    {
     "name": "stdout",
     "output_type": "stream",
     "text": [
      "Start to call ...\n",
      "I love Python.\n",
      "Finish\n",
      "Time:2.01 second.\n"
     ]
    }
   ],
   "source": [
    "#没有@time_master的实现方式\n",
    "import time\n",
    "def time_master(func):\n",
    "    def call_func():\n",
    "        print(\"Start to call ...\")\n",
    "        start=time.time()\n",
    "        func()\n",
    "        stop=time.time()\n",
    "        print(f\"Time:{(stop-start):.2f} second.\")\n",
    "    return call_func\n",
    "\n",
    "def myfunc():\n",
    "    time.sleep(2)\n",
    "    print(\"I love Python.\")\n",
    "\n",
    "myfunc=time_master(myfunc)    #返回call_func的引用\n",
    "myfunc()"
   ]
  },
  {
   "cell_type": "code",
   "execution_count": 2,
   "metadata": {},
   "outputs": [
    {
     "name": "stdout",
     "output_type": "stream",
     "text": [
      "Start to call ...\n",
      "I love Python.1 2 Key=4567\n",
      "Finish\n",
      "Time:2.01 second.\n"
     ]
    }
   ],
   "source": [
    "#装饰器中call_func可以加参数\n",
    "import time\n",
    "def time_master(func):    #接收被调用的函数，例如myfunc\n",
    "    def call_func(*args, **kwargs):    #定义包裹函数。在被调用时会执行func()并执行装饰任务（计算时间差）\n",
    "        print(\"Start to call ...\")    #第5，6，8，9，10行都是装饰\n",
    "        start=time.time()\n",
    "        func(*args, **kwargs)    #调用被装饰的函数\n",
    "        stop=time.time()\n",
    "        print(f\"Time:{(stop-start):.2f} second.\")\n",
    "    return call_func    #返回包裹函数\n",
    "\n",
    "@time_master    # 等价于 myfunc = time_master(myfunc)\n",
    "def myfunc(x, y, key=\"default\"):\n",
    "    time.sleep(2)    #模拟耗时操作\n",
    "    print(f\"I love Python.{x} {y} Key={key}\")\n",
    "\n",
    "myfunc(1,2,key=\"4567\")    # 实际调用的是 time_master(myfunc) 返回的 call_func"
   ]
  },
  {
   "cell_type": "code",
   "execution_count": 52,
   "metadata": {},
   "outputs": [
    {
     "name": "stdout",
     "output_type": "stream",
     "text": [
      "65\n"
     ]
    }
   ],
   "source": [
    "#多层装饰器的嵌套执行\n",
    "#应用场景：日志、权限检查、性能分析等需要多层逻辑处理的场景。\n",
    "def add(func):\n",
    "    def inner():    #功能：将被装饰函数的返回值+1\n",
    "        x=func()\n",
    "        return x+1\n",
    "    return inner\n",
    "\n",
    "def cube(func):\n",
    "    def inner():    #功能：将被装饰函数的返回值立方\n",
    "        x=func()。  #执行原函数，得到x\n",
    "        return x*x*x    #返回x立方\n",
    "    return inner\n",
    "\n",
    "def square(func):\n",
    "    def inner():    #功能：将被装饰函数的返回值平方\n",
    "        x=func()    #执行原函数，得到x\n",
    "        return x*x。  #返回x平方\n",
    "    return inner\n",
    "\n",
    "#等价于test=add(cube(square(test)))\n",
    "@add    #最外层装饰器\n",
    "@cube    #中间层装饰器\n",
    "@square    #最内层装饰器\n",
    "def test():\n",
    "    return 2\n",
    "\n",
    "print(test())    #调用 test()时，实际执行的是 add(cube(square(test)))()，因此输出："
   ]
  },
  {
   "cell_type": "markdown",
   "metadata": {},
   "source": [
    "关键结论\n",
    "- 装饰器嵌套顺序：从下往上（离函数定义最近的装饰器最先执行）。\n",
    "- 执行逻辑：每个装饰器的 inner() 依次处理前一个装饰器的返回值。\n",
    "- 参数传递：当前代码中的装饰器仅适用于无参函数，若需支持参数，需在 inner() 中使用 *args, **kwargs（参考之前例子中通用装饰器写法）。"
   ]
  },
  {
   "cell_type": "code",
   "execution_count": 5,
   "metadata": {},
   "outputs": [
    {
     "name": "stdout",
     "output_type": "stream",
     "text": [
      "Start to call ...\n",
      "calling funA...\n",
      "A Spent=:1.00 second.\n",
      "Start to call ...\n",
      "calling funB...\n",
      "B Spent=:1.01 second.\n"
     ]
    }
   ],
   "source": [
    "#给装饰器传递参数\n",
    "#又在装饰器工厂time_master之外又嵌套了一层调用，在这里将参数传递进去\n",
    "import time\n",
    "def logger(msg):\n",
    "    def time_master(func):\n",
    "        def call_func():\n",
    "            print(\"Start to call ...\")\n",
    "            start=time.time()\n",
    "            func()    #调用被装饰的函数\n",
    "            stop=time.time()\n",
    "            print(f\"{msg} Spent=:{(stop-start):.2f} second.\")\n",
    "        return call_func\n",
    "    return time_master\n",
    "\n",
    "@logger(msg=\"A\")\n",
    "def funA():\n",
    "    time.sleep(1)\n",
    "    print(\"calling funA...\")\n",
    "\n",
    "@logger(msg=\"B\")\n",
    "def funB():\n",
    "    time.sleep(1)\n",
    "    print(\"calling funB...\")\n",
    "\n",
    "funA()\n",
    "funB()"
   ]
  },
  {
   "cell_type": "code",
   "execution_count": 6,
   "metadata": {},
   "outputs": [
    {
     "name": "stdout",
     "output_type": "stream",
     "text": [
      "Start to call ...\n",
      "calling funA...\n",
      "A Spent=:1.00 second.\n",
      "Start to call ...\n",
      "calling funB...\n",
      "B Spent=:1.00 second.\n"
     ]
    }
   ],
   "source": [
    "#去掉语法糖，正常的调用\n",
    "import time\n",
    "def logger(msg):\n",
    "    def time_master(func):\n",
    "        def call_func():\n",
    "            print(\"Start to call ...\")\n",
    "            start=time.time()\n",
    "            func()    #调用被装饰的函数\n",
    "            stop=time.time()\n",
    "            print(f\"{msg} Spent=:{(stop-start):.2f} second.\")\n",
    "        return call_func\n",
    "    return time_master\n",
    "\n",
    "def funA():\n",
    "    time.sleep(1)\n",
    "    print(\"calling funA...\")\n",
    "\n",
    "def funB():\n",
    "    time.sleep(1)\n",
    "    print(\"calling funB...\")\n",
    "\n",
    "funA=logger(msg=\"A\")(funA)\n",
    "funB=logger(msg=\"B\")(funB)\n",
    "\n",
    "funA()\n",
    "funB()"
   ]
  },
  {
   "cell_type": "markdown",
   "metadata": {},
   "source": [
    "@wraps装饰器\n"
   ]
  },
  {
   "cell_type": "code",
   "execution_count": 9,
   "metadata": {},
   "outputs": [
    {
     "name": "stdout",
     "output_type": "stream",
     "text": [
      "Start to call ...\n",
      "I love Python.\n",
      "Time:2.00 second.\n",
      "myfunc\n"
     ]
    }
   ],
   "source": [
    "import time\n",
    "import functools\n",
    "\n",
    "def time_master(func):\n",
    "    @functools.wraps(func)\n",
    "    def call_func():\n",
    "        print(\"Start to call ...\")\n",
    "        start=time.time()\n",
    "        func()\n",
    "        stop=time.time()\n",
    "        print(f\"Time:{(stop-start):.2f} second.\")\n",
    "    return call_func\n",
    "\n",
    "def myfunc():\n",
    "    time.sleep(2)\n",
    "    print(\"I love Python.\")\n",
    "\n",
    "myfunc=time_master(myfunc)    #返回call_func的引用\n",
    "myfunc()\n",
    "print(myfunc.__name__)    #这时，myfunc函数名字就是myfunc"
   ]
  },
  {
   "cell_type": "markdown",
   "metadata": {},
   "source": [
    "# Lambda expression 匿名表达式，Lambda表达式\n",
    "\n",
    "它是表达式，而非语句，所以它可以出现在python语法中不允许def语句出现的地方\n",
    "lambda arg1, arg2, ..., argN: expression\n",
    "\n",
    "传统的函数:\n",
    "\n",
    "def <lambda>(arg1, arg2, ..., argN):\n",
    "\n",
    "    return expression"
   ]
  },
  {
   "cell_type": "code",
   "execution_count": 9,
   "metadata": {},
   "outputs": [
    {
     "name": "stdout",
     "output_type": "stream",
     "text": [
      "4\n",
      "<class 'function'>\n"
     ]
    }
   ],
   "source": [
    "squareX= lambda x: x*x\n",
    "print(squareX(2))\n",
    "print(type(squareX))"
   ]
  },
  {
   "cell_type": "code",
   "execution_count": 10,
   "metadata": {},
   "outputs": [
    {
     "data": {
      "text/plain": [
       "4"
      ]
     },
     "execution_count": 10,
     "metadata": {},
     "output_type": "execute_result"
    }
   ],
   "source": [
    "l=[lambda x: x*x, 2,3]\n",
    "l[0](l[1])    #l[0]为lambda函数"
   ]
  },
  {
   "cell_type": "code",
   "execution_count": 14,
   "metadata": {},
   "outputs": [
    {
     "data": {
      "text/plain": [
       "[119, 101, 110, 121, 117, 99]"
      ]
     },
     "execution_count": 14,
     "metadata": {},
     "output_type": "execute_result"
    }
   ],
   "source": [
    "mapped=map(lambda x: ord(x), \"wenyuc\")\n",
    "list(mapped)"
   ]
  },
  {
   "cell_type": "code",
   "execution_count": 15,
   "metadata": {},
   "outputs": [
    {
     "data": {
      "text/plain": [
       "[1, 3, 5, 7, 9]"
      ]
     },
     "execution_count": 15,
     "metadata": {},
     "output_type": "execute_result"
    }
   ],
   "source": [
    "list(filter(lambda x: x%2, range(10)))"
   ]
  },
  {
   "cell_type": "markdown",
   "metadata": {},
   "source": [
    "# 生成器 generator\n",
    "生成器是一个函数，每次调用时提供一个数据，然后暂停，保持状态，下次调用时再提供一个数据......\n",
    "列表、元组等是一个容器，里面包含早已准备好的所有的数据。\n",
    "生成器可以看成是一种特殊的迭代器。\n",
    "特征：不走回头路；支持next()函数"
   ]
  },
  {
   "cell_type": "code",
   "execution_count": 26,
   "metadata": {},
   "outputs": [
    {
     "name": "stdout",
     "output_type": "stream",
     "text": [
      "<generator object counter at 0x10f089cf0>\n",
      "0\n",
      "1\n",
      "2\n",
      "3\n",
      "4\n",
      "5\n"
     ]
    }
   ],
   "source": [
    "def counter():\n",
    "    i=0\n",
    "    while (i <=5):\n",
    "        yield i    #每次调用counter()执行到这里时，提供一个数据，并暂停保持状态，下次调用counter()从下一句开始执行\n",
    "        i +=1\n",
    "print(counter())\n",
    "for i in counter():\n",
    "    print(i)"
   ]
  },
  {
   "cell_type": "code",
   "execution_count": 34,
   "metadata": {},
   "outputs": [
    {
     "name": "stdout",
     "output_type": "stream",
     "text": [
      "0\n",
      "1\n",
      "2\n",
      "3\n",
      "4\n",
      "5\n"
     ]
    },
    {
     "data": {
      "text/plain": [
       "'EMpty'"
      ]
     },
     "execution_count": 34,
     "metadata": {},
     "output_type": "execute_result"
    }
   ],
   "source": [
    "c=counter()    #没法使用下标索引这种方式\n",
    "print(next(c))\n",
    "print(next(c))\n",
    "print(next(c))\n",
    "print(next(c))\n",
    "print(next(c))\n",
    "print(next(c))\n",
    "next(c,\"EMpty\")    #没有数据时，抛出StopIteration异常"
   ]
  },
  {
   "cell_type": "code",
   "execution_count": 38,
   "metadata": {},
   "outputs": [],
   "source": [
    "#实现fibonacchi数列\n",
    "def fib():\n",
    "    i1,i2=0,1\n",
    "    while True:\n",
    "        yield i1\n",
    "        i1,i2=i2,i1+i2\n"
   ]
  },
  {
   "cell_type": "code",
   "execution_count": 45,
   "metadata": {},
   "outputs": [
    {
     "name": "stdout",
     "output_type": "stream",
     "text": [
      "0 1 1 2 3 5 8 13 21 34 55 89 144 233 377 \n"
     ]
    }
   ],
   "source": [
    "f=fib()\n",
    "for i in range(15):\n",
    "    print(next(f),end=' ')\n",
    "print()\n"
   ]
  },
  {
   "cell_type": "markdown",
   "metadata": {},
   "source": [
    "## 生成器表达式"
   ]
  },
  {
   "cell_type": "code",
   "execution_count": 48,
   "metadata": {},
   "outputs": [
    {
     "name": "stdout",
     "output_type": "stream",
     "text": [
      "0 1 4 9 16 25 36 49 64 81 \n"
     ]
    }
   ],
   "source": [
    "g=(i*i for i in range(10))\n",
    "for i in g:\n",
    "    print(i, end=' ')\n",
    "print()"
   ]
  },
  {
   "cell_type": "markdown",
   "metadata": {},
   "source": [
    "# Recursion 递归\n"
   ]
  },
  {
   "cell_type": "code",
   "execution_count": 50,
   "metadata": {},
   "outputs": [
    {
     "name": "stdout",
     "output_type": "stream",
     "text": [
      "ASDFGH\n",
      "ASDFGH\n",
      "ASDFGH\n"
     ]
    }
   ],
   "source": [
    "def funC(i):\n",
    "    if i>0:    #递归结束条件，每次调用都会朝着这个结束条件推进\n",
    "        print(\"ASDFGH\")\n",
    "        i -= 1\n",
    "        funC(i)\n",
    "funC(3)"
   ]
  },
  {
   "cell_type": "code",
   "execution_count": 52,
   "metadata": {},
   "outputs": [
    {
     "data": {
      "text/plain": [
       "6"
      ]
     },
     "execution_count": 52,
     "metadata": {},
     "output_type": "execute_result"
    }
   ],
   "source": [
    "def factIter(n):\n",
    "    result = n\n",
    "    for i in range(1,n):\n",
    "        result *= i\n",
    "    return result\n",
    "factIter(3)"
   ]
  },
  {
   "cell_type": "code",
   "execution_count": 51,
   "metadata": {},
   "outputs": [
    {
     "data": {
      "text/plain": [
       "6"
      ]
     },
     "execution_count": 51,
     "metadata": {},
     "output_type": "execute_result"
    }
   ],
   "source": [
    "#递归函数在调用的时候不会直接立刻去返回，而是层层调用，知道符合条件的时候再触发返回机制，接着再逐层返回\n",
    "def factRecur(n):\n",
    "    if n == 1:\n",
    "        return 1\n",
    "    else:\n",
    "        return n*factRecur(n-1)\n",
    "factRecur(3)"
   ]
  },
  {
   "cell_type": "code",
   "execution_count": 58,
   "metadata": {},
   "outputs": [
    {
     "data": {
      "text/plain": [
       "5358359254990966640871840"
      ]
     },
     "execution_count": 58,
     "metadata": {},
     "output_type": "execute_result"
    }
   ],
   "source": [
    "def fibIter(n):\n",
    "    a=1;b=1;c=1\n",
    "    while n>2:\n",
    "        c=a+b\n",
    "        a=b\n",
    "        b=c\n",
    "        n -= 1\n",
    "    return c\n",
    "fibIter(120)\n"
   ]
  },
  {
   "cell_type": "code",
   "execution_count": 57,
   "metadata": {},
   "outputs": [
    {
     "data": {
      "text/plain": [
       "144"
      ]
     },
     "execution_count": 57,
     "metadata": {},
     "output_type": "execute_result"
    }
   ],
   "source": [
    "def fibRecur(n):\n",
    "    if n==1 or n==2:\n",
    "        return 1\n",
    "    else:\n",
    "        return fibRecur(n-1)+fibRecur(n-2)\n",
    "fibRecur(12)    #用递归效率非常低，比如fibRecur(120),但迭代效率就很高"
   ]
  },
  {
   "cell_type": "code",
   "execution_count": 60,
   "metadata": {},
   "outputs": [
    {
     "name": "stdout",
     "output_type": "stream",
     "text": [
      "x --> z\n",
      "x --> y\n",
      "z --> y\n",
      "x --> z\n",
      "y --> x\n",
      "y --> z\n",
      "x --> z\n"
     ]
    }
   ],
   "source": [
    "# 汉诺塔\n",
    "#将n个（层）从大到小的金盘从x柱移动到z柱。规则：一次只能移动1个金盘；无论在哪个柱子上，小金盘必须在大金盘的上面\n",
    "def hanoi(n,x,y,z):\n",
    "    if n==1:\n",
    "        print(x, \"-->\", z)    #如果只有一层，则将金盘从x移动到z\n",
    "    else:\n",
    "        hanoi(n-1, x,z,y)    #将x柱上n-1个金盘从x移动到y柱\n",
    "        print(x, \"-->\", z)   #将最底层（最大）的金盘从x柱移动到z柱\n",
    "        hanoi(n-1, y,x,z)    #再将n-1个金盘从y柱移动到z柱\n",
    "hanoi(3,'x','y','z')"
   ]
  },
  {
   "cell_type": "markdown",
   "metadata": {},
   "source": [
    "# 高阶函数 High-order Function\n",
    "\n",
    "当一个函数接收另一个函数作为参数时，这个函数就为高阶函数，如前面所学的装饰器函数，还有map，filter， mean，max等函数都是高阶函数。它们都有key参数，接收一个函数作为参数。\n",
    "\n",
    "Python 的functools模块中包含了一些非常实用的高阶函数及装饰器"
   ]
  },
  {
   "cell_type": "code",
   "execution_count": 1,
   "metadata": {},
   "outputs": [
    {
     "data": {
      "text/plain": [
       "15"
      ]
     },
     "execution_count": 1,
     "metadata": {},
     "output_type": "execute_result"
    }
   ],
   "source": [
    "#reduce function\n",
    "def add(x,y):\n",
    "    return x+y\n",
    "import functools\n",
    "functools.reduce(add,[1,2,3,4,5])    #相当于执行(((add(1,2),3),4),5)"
   ]
  },
  {
   "cell_type": "code",
   "execution_count": 3,
   "metadata": {},
   "outputs": [
    {
     "data": {
      "text/plain": [
       "3628800"
      ]
     },
     "execution_count": 3,
     "metadata": {},
     "output_type": "execute_result"
    }
   ],
   "source": [
    "functools.reduce(lambda x,y:x*y,range(1,11))"
   ]
  },
  {
   "cell_type": "markdown",
   "metadata": {},
   "source": [
    "# 偏函数 partial\n",
    "偏函数是指对指定的函数进行二次包装，通常是将现有函数的部分参数预先绑定，从而得到一个新的函数，该函数就称为偏函数，"
   ]
  },
  {
   "cell_type": "code",
   "execution_count": 4,
   "metadata": {},
   "outputs": [
    {
     "name": "stdout",
     "output_type": "stream",
     "text": [
      "4\n",
      "9\n"
     ]
    }
   ],
   "source": [
    "square = functools.partial(pow, exp=2)    #先将参数exp设为2，函数返回pow的平方，\n",
    "print(square(2))\n",
    "print(square(3))"
   ]
  },
  {
   "cell_type": "code",
   "execution_count": 5,
   "metadata": {},
   "outputs": [
    {
     "name": "stdout",
     "output_type": "stream",
     "text": [
      "8\n",
      "27\n"
     ]
    }
   ],
   "source": [
    "cube = functools.partial(pow, exp=3)\n",
    "print(cube(2))\n",
    "print(cube(3))"
   ]
  },
  {
   "cell_type": "markdown",
   "metadata": {},
   "source": [
    "# 永久存储 Permanent Store\n",
    "将数据保存到硬盘上"
   ]
  },
  {
   "cell_type": "code",
   "execution_count": 84,
   "metadata": {},
   "outputs": [
    {
     "name": "stdout",
     "output_type": "stream",
     "text": [
      "/Users/wenyuc/work/basic_learning\n",
      "/Users/wenyuc/work/basic_learning\n",
      "/Users/wenyuc/work/basic_learning/note.txt\n",
      "True\n",
      "True\n",
      "True\n",
      "True\n",
      "basic_learning\n",
      "note.txt\n",
      "basic_learning\n",
      "note\n",
      "\n",
      ".txt\n",
      "/Users/wenyuc/work\n",
      "/Users/wenyuc/work/basic_learning\n",
      "/Users/wenyuc/work\n",
      "/Users/wenyuc\n",
      "/Users\n",
      "/\n",
      "/Users/wenyuc/work\n",
      "/Users/wenyuc\n",
      "<class 'tuple'>\n",
      "os.stat_result(st_mode=33188, st_ino=1700819, st_dev=16777223, st_nlink=1, st_uid=502, st_gid=20, st_size=1634, st_atime=1734250098, st_mtime=1723631735, st_ctime=1725157772)\n",
      "1634\n",
      "4384\n",
      "/Users/wenyuc/work/basic_learning/note.txt\n",
      "/Users/wenyuc/work/basic_learning/statistics\n",
      "/Users/wenyuc/work/basic_learning/Decision_Tree.ipynb\n",
      "/Users/wenyuc/work/basic_learning/0_docs_link.ipynb\n",
      "/Users/wenyuc/work/basic_learning/pandas_useful_tips.ipynb\n",
      "/Users/wenyuc/work/basic_learning/ML_Terminology.ipynb\n",
      "/Users/wenyuc/work/basic_learning/string-list_comprehension-lambda_map-if1-zip.ipynb\n",
      "/Users/wenyuc/work/basic_learning/my_file.txt\n",
      "/Users/wenyuc/work/basic_learning/linked_list.ipynb\n",
      "/Users/wenyuc/work/basic_learning/pandas_top_tricks.ipynb\n",
      "/Users/wenyuc/work/basic_learning/deep_learning_digit.ipynb\n",
      "/Users/wenyuc/work/basic_learning/0_pytorch_and_geometirc_env_installation.ipynb\n",
      "/Users/wenyuc/work/basic_learning/python_iter_generator.ipynb\n",
      "/Users/wenyuc/work/basic_learning/aPythonCourse\n",
      "/Users/wenyuc/work/basic_learning/data_wrangling_python.ipynb\n",
      "/Users/wenyuc/work/basic_learning/pandas_groupby.ipynb\n",
      "/Users/wenyuc/work/basic_learning/.DS_Store\n",
      "/Users/wenyuc/work/basic_learning/visualization_intro.ipynb\n",
      "/Users/wenyuc/work/basic_learning/numpy_pandas_axis.ipynb\n",
      "/Users/wenyuc/work/basic_learning/map_reduce.ipynb\n",
      "/Users/wenyuc/work/basic_learning/pandas_select.ipynb\n",
      "/Users/wenyuc/work/basic_learning/effective_python_ch_4_comprehension_generator.ipynb\n",
      "/Users/wenyuc/work/basic_learning/python_pandas_shallow_deep_copy.ipynb\n",
      "/Users/wenyuc/work/basic_learning/pandas_null_2.ipynb\n",
      "/Users/wenyuc/work/basic_learning/test\n",
      "/Users/wenyuc/work/basic_learning/set_func.py\n",
      "/Users/wenyuc/work/basic_learning/deep_learning.ipynb\n",
      "/Users/wenyuc/work/basic_learning/tensor_basic.ipynb\n",
      "/Users/wenyuc/work/basic_learning/financial_data.ipynb\n",
      "/Users/wenyuc/work/basic_learning/data+visualization+with+python.ipynb\n",
      "/Users/wenyuc/work/basic_learning/DataResources.ipynb\n",
      "/Users/wenyuc/work/basic_learning/myfunc.py\n",
      "/Users/wenyuc/work/basic_learning/string_re.ipynb\n",
      "/Users/wenyuc/work/basic_learning/pandas-example-pokemon.ipynb\n",
      "/Users/wenyuc/work/basic_learning/probability_model.ipynb\n",
      "/Users/wenyuc/work/basic_learning/python_data_wrangling.ipynb\n",
      "/Users/wenyuc/work/basic_learning/pandas_style.ipynb\n",
      "/Users/wenyuc/work/basic_learning/figs\n",
      "/Users/wenyuc/work/basic_learning/effective_python_ch_1_pythonic.ipynb\n",
      "/Users/wenyuc/work/basic_learning/ml_iris.ipynb\n",
      "/Users/wenyuc/work/basic_learning/备课\n",
      "/Users/wenyuc/work/basic_learning/pandas_feature_engineering.ipynb\n",
      "/Users/wenyuc/work/basic_learning/transformer\n",
      "/Users/wenyuc/work/basic_learning/0_python_conda_tips.ipynb\n",
      "/Users/wenyuc/work/basic_learning/pandas_merge_join_concat.ipynb\n",
      "/Users/wenyuc/work/basic_learning/numpy_meshgrid.ipynb\n",
      "/Users/wenyuc/work/basic_learning/set_1.ipynb\n",
      "/Users/wenyuc/work/basic_learning/deep_learning_jp\n",
      "/Users/wenyuc/work/basic_learning/deep_learning_loss_func.ipynb\n",
      "/Users/wenyuc/work/basic_learning/dictionary.ipynb\n",
      "/Users/wenyuc/work/basic_learning/re_exp.ipynb\n",
      "/Users/wenyuc/work/basic_learning/map_apply_applymap_lambda.ipynb\n",
      "/Users/wenyuc/work/basic_learning/matplotlib_examples.ipynb\n",
      "/Users/wenyuc/work/basic_learning/note.txt\n",
      "/Users/wenyuc/work/basic_learning/pandas_example_nba_data.ipynb\n",
      "/Users/wenyuc/work/basic_learning/visualization_intro_2.ipynb\n",
      "/Users/wenyuc/work/basic_learning/models\n",
      "/Users/wenyuc/work/basic_learning/0_latex_math.ipynb\n",
      "/Users/wenyuc/work/basic_learning/python_exercise.ipynb\n",
      "/Users/wenyuc/work/basic_learning/__pycache__\n",
      "/Users/wenyuc/work/basic_learning/class.ipynb\n",
      "/Users/wenyuc/work/basic_learning/0_graphviz.ipynb\n",
      "/Users/wenyuc/work/basic_learning/pandas_resample.ipynb\n",
      "/Users/wenyuc/work/basic_learning/pandas_df_basic.ipynb\n",
      "/Users/wenyuc/work/basic_learning/deep_learning_activation_derivative_matrix.ipynb\n",
      "/Users/wenyuc/work/basic_learning/math\n",
      "/Users/wenyuc/work/basic_learning/linear_regression_2.ipynb\n",
      "/Users/wenyuc/work/basic_learning/numpy_exercise.ipynb\n",
      "/Users/wenyuc/work/basic_learning/effective_python_ch_2_list_dict.ipynb\n",
      "/Users/wenyuc/work/basic_learning/olympic_data_processing.ipynb\n",
      "/Users/wenyuc/work/basic_learning/visualization_bokeh.ipynb\n",
      "/Users/wenyuc/work/basic_learning/README.md\n",
      "/Users/wenyuc/work/basic_learning/time.ipynb\n",
      "/Users/wenyuc/work/basic_learning/pandas_option.ipynb\n",
      "/Users/wenyuc/work/basic_learning/0_math_function.ipynb\n",
      "/Users/wenyuc/work/basic_learning/out.csv\n",
      "/Users/wenyuc/work/basic_learning/python_basic.ipynb\n",
      "/Users/wenyuc/work/basic_learning/pandas_read_table.ipynb\n",
      "/Users/wenyuc/work/basic_learning/deep_learning_backpropagation.ipynb\n",
      "/Users/wenyuc/work/basic_learning/python_tricks.ipynb\n",
      "/Users/wenyuc/work/basic_learning/SH_SZ_exchange_data.ipynb\n",
      "/Users/wenyuc/work/basic_learning/gnn\n",
      "/Users/wenyuc/work/basic_learning/visualize_realtime.ipynb\n",
      "/Users/wenyuc/work/basic_learning/datatype.ipynb\n",
      "/Users/wenyuc/work/basic_learning/numpy_tests.ipynb\n",
      "/Users/wenyuc/work/basic_learning/get_url.ipynb\n",
      "/Users/wenyuc/work/basic_learning/effective_python_ch_3_function.ipynb\n",
      "/Users/wenyuc/work/basic_learning/pandas_dataframe_2.ipynb\n",
      "/Users/wenyuc/work/basic_learning/numpy_vectorize.ipynb\n",
      "/Users/wenyuc/work/basic_learning/pandas_dates_times.ipynb\n",
      "/Users/wenyuc/work/basic_learning/dive_into_deep_learning\n",
      "/Users/wenyuc/work/basic_learning/hello.gv\n",
      "/Users/wenyuc/work/basic_learning/tourists.txt\n",
      "/Users/wenyuc/work/basic_learning/set_func.ipynb\n",
      "/Users/wenyuc/work/basic_learning/tips\n",
      "/Users/wenyuc/work/basic_learning/http_requests.ipynb\n",
      "/Users/wenyuc/work/basic_learning/python_list.ipynb\n",
      "/Users/wenyuc/work/basic_learning/iter.ipynb\n",
      "/Users/wenyuc/work/basic_learning/python_args_kwargs.ipynb\n",
      "/Users/wenyuc/work/basic_learning/.ipynb_checkpoints\n",
      "/Users/wenyuc/work/basic_learning/pandas_dataframe_3.ipynb\n",
      "/Users/wenyuc/work/basic_learning/python_list_set_dict_examples.ipynb\n",
      "/Users/wenyuc/work/basic_learning/probability_distribution_2.ipynb\n",
      "/Users/wenyuc/work/basic_learning/linear_regression.ipynb\n",
      "/Users/wenyuc/work/basic_learning/0_markdown_usage.ipynb\n",
      "/Users/wenyuc/work/basic_learning/pandas_index.ipynb\n",
      "/Users/wenyuc/work/basic_learning/pandas_series.ipynb\n",
      "/Users/wenyuc/work/basic_learning/matplotlib_top_50.ipynb\n",
      "/Users/wenyuc/work/basic_learning/pytorch\n",
      "/Users/wenyuc/work/basic_learning/pandas_filter_data.ipynb\n",
      "/Users/wenyuc/work/basic_learning/pandas_visualization.ipynb\n",
      "/Users/wenyuc/work/basic_learning/.git\n",
      "/Users/wenyuc/work/basic_learning/probability_distribution.ipynb\n",
      "/Users/wenyuc/work/basic_learning/AHP_Fuzzy.ipynb\n",
      "/Users/wenyuc/work/basic_learning/pandas_category_pipeline.ipynb\n",
      "/Users/wenyuc/work/basic_learning/matplotlib_axis.ipynb\n",
      "/Users/wenyuc/work/basic_learning/nba_all_elo.csv\n",
      "/Users/wenyuc/work/basic_learning/data\n",
      "/Users/wenyuc/work/basic_learning/newnote.txt\n",
      "/Users/wenyuc/work/basic_learning/0_study_log.ipynb\n",
      "/Users/wenyuc/work/basic_learning/Knowledges.ipynb\n",
      "/Users/wenyuc/work/basic_learning/pandas_dataframe.ipynb\n",
      "/Users/wenyuc/work/basic_learning/numpy_arr_spacing.ipynb\n",
      "/Users/wenyuc/work/basic_learning/python_tuple.ipynb\n",
      "/Users/wenyuc/work/basic_learning/pandas_null.ipynb\n",
      "/Users/wenyuc/work/basic_learning/0_jupyter_tips.ipynb\n",
      "/Users/wenyuc/work/basic_learning/visualization_intro_aiscience.ipynb\n",
      "/Users/wenyuc/work/basic_learning/fuzzymuzzy.ipynb\n",
      "/Users/wenyuc/work/basic_learning/numpy_basic.ipynb\n",
      "/Users/wenyuc/work/basic_learning/csv.ipynb\n",
      "/Users/wenyuc/work/basic_learning/filename.html\n",
      "/Users/wenyuc/work/basic_learning/visual_pyecharts.ipynb\n",
      "/Users/wenyuc/work/basic_learning/random_data_generation.ipynb\n",
      "/Users/wenyuc/work/basic_learning/Built-in Data Structure, Functions, and Files.ipynb\n",
      "/Users/wenyuc/work/basic_learning/http_request.ipynb\n",
      "/Users/wenyuc/work/basic_learning/torch_basic.ipynb\n"
     ]
    }
   ],
   "source": [
    "#处理路径\n",
    "#pathlib模块，from python v3.4\n",
    "from pathlib import Path\n",
    "print(Path.cwd())    #获取当前路径\n",
    "p=Path(\"/Users/wenyuc/work/basic_learning\")    #定义一个路径对象\n",
    "print(p)\n",
    "q=p / \"note.txt\"    #添加路径\n",
    "print(q)\n",
    "print(p.is_dir())    #判断路径是否为目录\n",
    "print(q.is_file())    #判断路径是否为文件\n",
    "print(p.exists())    #判断路径是否存在\n",
    "print(q.exists())\n",
    "print(p.name)    #获取路径最后的名字\n",
    "print(q.name)\n",
    "print(p.stem)    #获取文件名，不含后缀\n",
    "print(q.stem)\n",
    "print(p.suffix)  #获取文件名后缀，此时为空\n",
    "print(q.suffix)\n",
    "print(p.parent)    #获取父级目录\n",
    "print(q.parent)\n",
    "ps = p.parents    #获取逻辑祖先路径构成的序列\n",
    "for each in ps:\n",
    "    print(each)\n",
    "print(ps[0]);print(ps[1])\n",
    "pt = p.parts    #将路径拆成元组\n",
    "print(type(pt))\n",
    "st=q.stat()    #获取文件状态信息构成的序列\n",
    "print(st)\n",
    "print(st.st_size)    #获取文件尺寸大小，单位字节\n",
    "print(p.stat().st_size)\n",
    "print(Path(\"./note.txt\").resolve())    #resolve()方法将相对路径转化为绝对路径\n",
    "for each in p.iterdir():    #获取当前路径下所有文件和子目录，返回一个生成器\n",
    "    print(each)\n",
    "l=[x for x in p.iterdir() if x.is_file()]    #获取当前路径中所有文件的列表\n",
    "#print(l)"
   ]
  },
  {
   "cell_type": "code",
   "execution_count": 64,
   "metadata": {},
   "outputs": [
    {
     "name": "stdout",
     "output_type": "stream",
     "text": [
      "[PosixPath('/Users/wenyuc/work/basic_learning/statistics'), PosixPath('/Users/wenyuc/work/basic_learning/aPythonCourse'), PosixPath('/Users/wenyuc/work/basic_learning/test'), PosixPath('/Users/wenyuc/work/basic_learning/figs'), PosixPath('/Users/wenyuc/work/basic_learning/备课'), PosixPath('/Users/wenyuc/work/basic_learning/transformer'), PosixPath('/Users/wenyuc/work/basic_learning/test1'), PosixPath('/Users/wenyuc/work/basic_learning/deep_learning_jp'), PosixPath('/Users/wenyuc/work/basic_learning/models'), PosixPath('/Users/wenyuc/work/basic_learning/__pycache__'), PosixPath('/Users/wenyuc/work/basic_learning/math'), PosixPath('/Users/wenyuc/work/basic_learning/gnn'), PosixPath('/Users/wenyuc/work/basic_learning/dive_into_deep_learning'), PosixPath('/Users/wenyuc/work/basic_learning/tips'), PosixPath('/Users/wenyuc/work/basic_learning/.ipynb_checkpoints'), PosixPath('/Users/wenyuc/work/basic_learning/pytorch'), PosixPath('/Users/wenyuc/work/basic_learning/.git'), PosixPath('/Users/wenyuc/work/basic_learning/data')]\n"
     ]
    }
   ],
   "source": [
    "m = p / \"test1/A/B/C\"\n",
    "m.mkdir(exist_ok=True,parents=True)    #创建一个目录,exist_ok=True 忽略目录存在时的报错信息, parents=True 忽略子目录不存在的情况\n",
    "l=[x for x in p.iterdir() if x.is_dir()]    #获取当前路径中所有文件的列表\n",
    "print(l)\n",
    "m = p / \"test\"\n",
    "n = m / \"note.txt\"\n",
    "f=n.open(\"w\")    #open()函数，除了第一个参数不要，其他都保留\n",
    "f.write(\"I love Python.\")\n",
    "f.flush()    #即时写入\n",
    "f.close()    #关闭文件，或在关闭的时候写入\n",
    "#m.rename(\"newnote.txt\")    #rename,但是文件到了jupyter的主目录中了。\n",
    "#n = p / \"test/newnote.txt\"\n",
    "#n.replace(m)\n",
    "#rmdir()删除文件夹；unlink()删除文件\n",
    "n.unlink()\n",
    "m.rmdir()    #目录不为空时不能删除目录\n"
   ]
  },
  {
   "cell_type": "code",
   "execution_count": 80,
   "metadata": {},
   "outputs": [
    {
     "name": "stdout",
     "output_type": "stream",
     "text": [
      "/Users/wenyuc/work/basic_learning\n"
     ]
    },
    {
     "data": {
      "text/plain": [
       "[PosixPath('statistics/4_Beta_Distribution.ipynb'),\n",
       " PosixPath('statistics/2_Expontential_Distribution.ipynb'),\n",
       " PosixPath('statistics/Statistics_beginner.ipynb'),\n",
       " PosixPath('statistics/1_Uniform_Distribution.ipynb'),\n",
       " PosixPath('statistics/probability_distributions_13.ipynb'),\n",
       " PosixPath('statistics/statistics_study_log2.ipynb'),\n",
       " PosixPath('statistics/3_Normal_Distribution.ipynb'),\n",
       " PosixPath('statistics/概率_统计_MLE_贝叶斯估计.ipynb'),\n",
       " PosixPath('statistics/statistics_study_log.ipynb'),\n",
       " PosixPath('aPythonCourse/Advanced-Networking.ipynb'),\n",
       " PosixPath('aPythonCourse/file_io.ipynb'),\n",
       " PosixPath('aPythonCourse/DataType.ipynb'),\n",
       " PosixPath('aPythonCourse/FlowControl.ipynb'),\n",
       " PosixPath('aPythonCourse/UsingLibraries.ipynb'),\n",
       " PosixPath('备课/第十一章 Numpy库.ipynb'),\n",
       " PosixPath('备课/第十二章 Pandas库.ipynb'),\n",
       " PosixPath('备课/第六章  函数 - 面向过程编程.ipynb'),\n",
       " PosixPath('备课/第三章 数据基本类型.ipynb'),\n",
       " PosixPath('备课/第四章 组合数据类型.ipynb'),\n",
       " PosixPath('备课/第一章  Python语言简单介绍.ipynb'),\n",
       " PosixPath('备课/第九章  进阶主题.ipynb'),\n",
       " PosixPath('备课/第十三章 matplotlib绘图.ipynb'),\n",
       " PosixPath('备课/第二章 Python基本语法元素.ipynb'),\n",
       " PosixPath('备课/第七章  类 - 面向对象编程.ipynb'),\n",
       " PosixPath('备课/第十章  Python标准库.ipynb'),\n",
       " PosixPath('备课/第八章 文件异常模块.ipynb'),\n",
       " PosixPath('备课/第五章 程序控制结构.ipynb'),\n",
       " PosixPath('transformer/transformer_input.ipynb'),\n",
       " PosixPath('models/3_Difference_between_Linear_Regression_and_Logistic_Regression.ipynb'),\n",
       " PosixPath('models/7_Support_Vector_Machine.ipynb'),\n",
       " PosixPath('models/Markov Chain.ipynb'),\n",
       " PosixPath(\"models/Chebyshev's Theorem.ipynb\"),\n",
       " PosixPath('models/gradient_descent_batch_sdg_minibatch.ipynb'),\n",
       " PosixPath('models/8_Boosting.ipynb'),\n",
       " PosixPath('models/Concepts.ipynb'),\n",
       " PosixPath('models/3_Logistic_Regression_Example_2.ipynb'),\n",
       " PosixPath('models/3_Logistic_regression.ipynb'),\n",
       " PosixPath('models/gradient_descent_1_degree.ipynb'),\n",
       " PosixPath('models/1_1_逻辑门_perceptron.ipynb'),\n",
       " PosixPath('models/3_linear_regression_example.ipynb'),\n",
       " PosixPath('models/1_2_感知机的一些问题.ipynb'),\n",
       " PosixPath('models/1_perceptron.ipynb'),\n",
       " PosixPath('models/Law of Large Numbers.ipynb'),\n",
       " PosixPath('models/gradient_descent_2_degree.ipynb'),\n",
       " PosixPath('models/3_Li_Hang_Logistic_Regression_Max_Entropy.ipynb'),\n",
       " PosixPath('models/visualize_grad_descent_in_action.ipynb'),\n",
       " PosixPath('models/Central_Limit_Therom.ipynb'),\n",
       " PosixPath('models/7_1_Support_Vector_Model_Example.ipynb'),\n",
       " PosixPath('models/3_Various_Regression.ipynb'),\n",
       " PosixPath('models/2_knn.ipynb'),\n",
       " PosixPath('math/Vector dot product, cross product, hadamard product, inner product.ipynb'),\n",
       " PosixPath('math/Integral.ipynb'),\n",
       " PosixPath('math/指数函数与自然底数e.ipynb'),\n",
       " PosixPath('math/derivative calculus.ipynb'),\n",
       " PosixPath('math/symmetric, inverse,  singular, transpose, orthogonal(正交), positive definite(正定) matrix .ipynb'),\n",
       " PosixPath('math/Jacobian and Hessian Matrix.ipynb'),\n",
       " PosixPath('gnn/Graph_basic.ipynb'),\n",
       " PosixPath('.ipynb_checkpoints/python_list-checkpoint.ipynb'),\n",
       " PosixPath('.ipynb_checkpoints/pandas_dataframe-checkpoint.ipynb'),\n",
       " PosixPath('.ipynb_checkpoints/Built-in Data Structure, Functions, and Files-checkpoint.ipynb'),\n",
       " PosixPath('.ipynb_checkpoints/random_data_generation-checkpoint.ipynb'),\n",
       " PosixPath('.ipynb_checkpoints/Untitled3-checkpoint.ipynb'),\n",
       " PosixPath('.ipynb_checkpoints/python_tricks-checkpoint.ipynb'),\n",
       " PosixPath('.ipynb_checkpoints/visual_pyecharts-checkpoint.ipynb'),\n",
       " PosixPath('.ipynb_checkpoints/visualization_examples-checkpoint.ipynb'),\n",
       " PosixPath('.ipynb_checkpoints/deep_learning-checkpoint.ipynb'),\n",
       " PosixPath('.ipynb_checkpoints/python_basic-checkpoint.ipynb'),\n",
       " PosixPath('.ipynb_checkpoints/http_requests-checkpoint.ipynb'),\n",
       " PosixPath('.ipynb_checkpoints/linked_list-checkpoint.ipynb'),\n",
       " PosixPath('.ipynb_checkpoints/dictionary-checkpoint.ipynb'),\n",
       " PosixPath('.ipynb_checkpoints/deep_learning_digit-checkpoint.ipynb'),\n",
       " PosixPath('.ipynb_checkpoints/deep_learning_activation_derivative_matrix-checkpoint.ipynb'),\n",
       " PosixPath('.ipynb_checkpoints/numpy_exercise-checkpoint.ipynb'),\n",
       " PosixPath('.ipynb_checkpoints/time-checkpoint.ipynb'),\n",
       " PosixPath('.ipynb_checkpoints/linear_regression-checkpoint.ipynb'),\n",
       " PosixPath('.ipynb_checkpoints/pandas_series-checkpoint.ipynb'),\n",
       " PosixPath('.ipynb_checkpoints/0_latex_math-checkpoint.ipynb'),\n",
       " PosixPath('.ipynb_checkpoints/effective_python_ch_1_pythonic-checkpoint.ipynb'),\n",
       " PosixPath('.ipynb_checkpoints/visualization_intro_2-checkpoint.ipynb'),\n",
       " PosixPath('.ipynb_checkpoints/pandas_null_2-checkpoint.ipynb'),\n",
       " PosixPath('.ipynb_checkpoints/Untitled7-checkpoint.ipynb'),\n",
       " PosixPath('.ipynb_checkpoints/probability_model-checkpoint.ipynb'),\n",
       " PosixPath('.ipynb_checkpoints/AHP_Fuzzy-checkpoint.ipynb'),\n",
       " PosixPath('.ipynb_checkpoints/set_func-checkpoint.ipynb'),\n",
       " PosixPath('.ipynb_checkpoints/python_tuple-checkpoint.ipynb'),\n",
       " PosixPath('.ipynb_checkpoints/matplotlib_axis-checkpoint.ipynb'),\n",
       " PosixPath('.ipynb_checkpoints/class-checkpoint.ipynb'),\n",
       " PosixPath('.ipynb_checkpoints/probability_distribution-checkpoint.ipynb'),\n",
       " PosixPath('.ipynb_checkpoints/pandas_example_nba_data-checkpoint.ipynb'),\n",
       " PosixPath('.ipynb_checkpoints/0_markdown_usage-checkpoint.ipynb'),\n",
       " PosixPath('.ipynb_checkpoints/pandas_select-checkpoint.ipynb'),\n",
       " PosixPath('.ipynb_checkpoints/re_exp-checkpoint.ipynb'),\n",
       " PosixPath('.ipynb_checkpoints/Untitled2-checkpoint.ipynb'),\n",
       " PosixPath('.ipynb_checkpoints/pandas_df_basic-checkpoint.ipynb'),\n",
       " PosixPath('.ipynb_checkpoints/deep_learning_backpropagation-checkpoint.ipynb'),\n",
       " PosixPath('.ipynb_checkpoints/0_math_function-checkpoint.ipynb'),\n",
       " PosixPath('.ipynb_checkpoints/pandas_resample-checkpoint.ipynb'),\n",
       " PosixPath('.ipynb_checkpoints/python_list_set_dict_examples-checkpoint.ipynb'),\n",
       " PosixPath('.ipynb_checkpoints/map_reduce-checkpoint.ipynb'),\n",
       " PosixPath('.ipynb_checkpoints/numpy_tests-checkpoint.ipynb'),\n",
       " PosixPath('.ipynb_checkpoints/python_iter_generator-checkpoint.ipynb'),\n",
       " PosixPath('.ipynb_checkpoints/pandas_style-checkpoint.ipynb'),\n",
       " PosixPath('.ipynb_checkpoints/probability_distribution-Copy2-checkpoint.ipynb'),\n",
       " PosixPath('.ipynb_checkpoints/visualize_realtime-checkpoint.ipynb'),\n",
       " PosixPath('.ipynb_checkpoints/get_url-checkpoint.ipynb'),\n",
       " PosixPath('.ipynb_checkpoints/visualization_intro_aiscience-checkpoint.ipynb'),\n",
       " PosixPath('.ipynb_checkpoints/financial_data-checkpoint.ipynb'),\n",
       " PosixPath('.ipynb_checkpoints/0_docs_link-checkpoint.ipynb'),\n",
       " PosixPath('.ipynb_checkpoints/0_graphviz-checkpoint.ipynb'),\n",
       " PosixPath('.ipynb_checkpoints/ml_iris-checkpoint.ipynb'),\n",
       " PosixPath('.ipynb_checkpoints/pandas_read_table-checkpoint.ipynb'),\n",
       " PosixPath('.ipynb_checkpoints/datatype-checkpoint.ipynb'),\n",
       " PosixPath('.ipynb_checkpoints/pandas_filter_data-checkpoint.ipynb'),\n",
       " PosixPath('.ipynb_checkpoints/matplotlib_examples-checkpoint.ipynb'),\n",
       " PosixPath('.ipynb_checkpoints/fuzzymuzzy-checkpoint.ipynb'),\n",
       " PosixPath('.ipynb_checkpoints/probability_distribution_1-checkpoint.ipynb'),\n",
       " PosixPath('.ipynb_checkpoints/pandas_feature_engineering-checkpoint.ipynb'),\n",
       " PosixPath('.ipynb_checkpoints/exercise_answer-checkpoint.ipynb'),\n",
       " PosixPath('.ipynb_checkpoints/Untitled6-checkpoint.ipynb'),\n",
       " PosixPath('.ipynb_checkpoints/numpy_arr_spacing-checkpoint.ipynb'),\n",
       " PosixPath('.ipynb_checkpoints/python_exercise-checkpoint.ipynb'),\n",
       " PosixPath('.ipynb_checkpoints/deep_learning_loss_func-checkpoint.ipynb'),\n",
       " PosixPath('.ipynb_checkpoints/data_wrangling_python-checkpoint.ipynb'),\n",
       " PosixPath('.ipynb_checkpoints/0_python_conda_tips-checkpoint.ipynb'),\n",
       " PosixPath('.ipynb_checkpoints/pandas_index-checkpoint.ipynb'),\n",
       " PosixPath('.ipynb_checkpoints/csv-checkpoint.ipynb'),\n",
       " PosixPath('.ipynb_checkpoints/pandas_groupby-checkpoint.ipynb'),\n",
       " PosixPath('.ipynb_checkpoints/pandas_dates_times-checkpoint.ipynb'),\n",
       " PosixPath('.ipynb_checkpoints/visualization_bokeh-checkpoint.ipynb'),\n",
       " PosixPath('.ipynb_checkpoints/SH_SZ_exchange_data-checkpoint.ipynb'),\n",
       " PosixPath('.ipynb_checkpoints/effective_python_ch_2_list_dict-checkpoint.ipynb'),\n",
       " PosixPath('.ipynb_checkpoints/torch_basic-checkpoint.ipynb'),\n",
       " PosixPath('.ipynb_checkpoints/python_args_kwargs-checkpoint.ipynb'),\n",
       " PosixPath('.ipynb_checkpoints/Logistic_regression-checkpoint.ipynb'),\n",
       " PosixPath('.ipynb_checkpoints/pytorch-checkpoint.ipynb'),\n",
       " PosixPath('.ipynb_checkpoints/pandas_merge_join_concat-checkpoint.ipynb'),\n",
       " PosixPath('.ipynb_checkpoints/covid_19_kaggle_data-checkpoint.ipynb'),\n",
       " PosixPath('.ipynb_checkpoints/olympic_data_processing-checkpoint.ipynb'),\n",
       " PosixPath('.ipynb_checkpoints/matplotlib_top_50-checkpoint.ipynb'),\n",
       " PosixPath('.ipynb_checkpoints/visualization_intro-checkpoint.ipynb'),\n",
       " PosixPath('.ipynb_checkpoints/probability_distribution-Copy1-checkpoint.ipynb'),\n",
       " PosixPath('.ipynb_checkpoints/pandas_dataframe_2-checkpoint.ipynb'),\n",
       " PosixPath('.ipynb_checkpoints/pandas_useful_tips-checkpoint.ipynb'),\n",
       " PosixPath('.ipynb_checkpoints/string-list_comprehension-lambda_map-if1-zip-checkpoint.ipynb'),\n",
       " PosixPath('.ipynb_checkpoints/0_jupyter_tips-checkpoint.ipynb'),\n",
       " PosixPath('.ipynb_checkpoints/probability_distribution_2-checkpoint.ipynb'),\n",
       " PosixPath('.ipynb_checkpoints/pandas_option-checkpoint.ipynb'),\n",
       " PosixPath('.ipynb_checkpoints/effective_python_ch_4_comprehension_generator-checkpoint.ipynb'),\n",
       " PosixPath('.ipynb_checkpoints/Untitled5-checkpoint.ipynb'),\n",
       " PosixPath('.ipynb_checkpoints/Knowledges-checkpoint.ipynb'),\n",
       " PosixPath('.ipynb_checkpoints/covid-19-eda-laxmimerit-data-checkpoint.ipynb'),\n",
       " PosixPath('.ipynb_checkpoints/python_pandas_shallow_deep_copy-checkpoint.ipynb'),\n",
       " PosixPath('.ipynb_checkpoints/effective_python_ch_3_function-checkpoint.ipynb'),\n",
       " PosixPath('.ipynb_checkpoints/numpy_basic-checkpoint.ipynb'),\n",
       " PosixPath('.ipynb_checkpoints/pandas_top_tricks-checkpoint.ipynb'),\n",
       " PosixPath('.ipynb_checkpoints/0_pytorch_and_geometirc_env_installation-checkpoint.ipynb'),\n",
       " PosixPath('.ipynb_checkpoints/linear_regression_2-checkpoint.ipynb'),\n",
       " PosixPath('.ipynb_checkpoints/iter-checkpoint.ipynb'),\n",
       " PosixPath('.ipynb_checkpoints/python_data_wrangling-checkpoint.ipynb'),\n",
       " PosixPath('.ipynb_checkpoints/set_1-checkpoint.ipynb'),\n",
       " PosixPath('.ipynb_checkpoints/pandas_category_pipeline-checkpoint.ipynb'),\n",
       " PosixPath('.ipynb_checkpoints/numpy_meshgrid-checkpoint.ipynb'),\n",
       " PosixPath('.ipynb_checkpoints/pandas_dataframe_3-checkpoint.ipynb'),\n",
       " PosixPath('.ipynb_checkpoints/statistics_study_log2-checkpoint.ipynb'),\n",
       " PosixPath('.ipynb_checkpoints/ML_Terminology-checkpoint.ipynb'),\n",
       " PosixPath('.ipynb_checkpoints/pandas-example-pokemon-checkpoint.ipynb'),\n",
       " PosixPath('.ipynb_checkpoints/map_apply_applymap_lambda-checkpoint.ipynb'),\n",
       " PosixPath('.ipynb_checkpoints/tensor_basic-checkpoint.ipynb'),\n",
       " PosixPath('.ipynb_checkpoints/covid-19-eda-laxmimerit-data-Copy1-checkpoint.ipynb'),\n",
       " PosixPath('.ipynb_checkpoints/http_request-checkpoint.ipynb'),\n",
       " PosixPath('.ipynb_checkpoints/Untitled4-checkpoint.ipynb'),\n",
       " PosixPath('.ipynb_checkpoints/pandas_null-checkpoint.ipynb'),\n",
       " PosixPath('.ipynb_checkpoints/statistics_concepts-checkpoint.ipynb'),\n",
       " PosixPath('.ipynb_checkpoints/numpy_vectorize-checkpoint.ipynb'),\n",
       " PosixPath('.ipynb_checkpoints/0_study_log-checkpoint.ipynb'),\n",
       " PosixPath('.ipynb_checkpoints/DataResources-checkpoint.ipynb'),\n",
       " PosixPath('.ipynb_checkpoints/Decision_Tree-checkpoint.ipynb'),\n",
       " PosixPath('.ipynb_checkpoints/pandas_visualization-checkpoint.ipynb'),\n",
       " PosixPath('.ipynb_checkpoints/statistics_study_log-checkpoint.ipynb'),\n",
       " PosixPath('.ipynb_checkpoints/string_re-checkpoint.ipynb'),\n",
       " PosixPath('.ipynb_checkpoints/numpy_pandas_axis-checkpoint.ipynb'),\n",
       " PosixPath('pytorch/DataLoader_DataSet.ipynb'),\n",
       " PosixPath('pytorch/pytorch_logistic_regression.ipynb'),\n",
       " PosixPath('pytorch/computation_graph_autograd.ipynb'),\n",
       " PosixPath('pytorch/pytorch_basic.ipynb'),\n",
       " PosixPath('pytorch/pytorch_line_regression.ipynb'),\n",
       " PosixPath('pytorch/pytorch_transformation.ipynb')]"
      ]
     },
     "execution_count": 80,
     "metadata": {},
     "output_type": "execute_result"
    }
   ],
   "source": [
    "p=Path(\".\")\n",
    "print(p.resolve())\n",
    "#print(list(p.glob(\"*.txt\")))    #glob()查找文件\n",
    "list(p.glob(\"*/*.ipynb\"))    #若要递归搜索所有子目录，用**"
   ]
  },
  {
   "cell_type": "code",
   "execution_count": 73,
   "metadata": {},
   "outputs": [
    {
     "name": "stdout",
     "output_type": "stream",
     "text": [
      "I love Python.\n"
     ]
    }
   ],
   "source": [
    "#with 语句和上下文管理器\n",
    "#使用上下文管理器好处在于确保资源的释放\n",
    "import time\n",
    "with open(\"test/note.txt\", \"w\") as f:\n",
    "    f.write(\"I love Python.\")\n",
    "time.sleep(0.5)\n",
    "with open(\"test/note.txt\", \"r\") as f:\n",
    "    print(f.readline())\n"
   ]
  },
  {
   "cell_type": "code",
   "execution_count": 79,
   "metadata": {},
   "outputs": [
    {
     "name": "stdout",
     "output_type": "stream",
     "text": [
      "1\t2\t3\twenyuC\t[3.14, 2.72, 'wenyuC']\t{'A': 99, 'B': 85, 'C': 70}\n"
     ]
    }
   ],
   "source": [
    "#pickle() 解决对象序列化，永久存储的问题\n",
    "x,y,z=1,2,3\n",
    "s=\"wenyuC\"\n",
    "l = [3.14, 2.72,\"wenyuC\"]\n",
    "d = {\"A\":99, \"B\": 85, \"C\":70}\n",
    "\n",
    "import pickle\n",
    "import time\n",
    "with open(\"test/data.pkl\", \"wb\") as f:    #二进制可写入的形式打开，文件后缀pkl\n",
    "    #pickle.dump(x,f)\n",
    "    #pickle.dump(y,f)\n",
    "    #pickle.dump(z,f)\n",
    "    #pickle.dump(s,f)\n",
    "    #pickle.dump(l,f)\n",
    "    #pickle.dump(d,f)\n",
    "    pickle.dump((x,y,z,s,l,d),f)    #也可以元组的形式打包序列化\n",
    "time.sleep(0.5)\n",
    "with open(\"test/data.pkl\", \"rb\") as f:    #二进制可读的形式打开\n",
    "    #x=pickle.load(f)\n",
    "    #y=pickle.load(f)\n",
    "    #z=pickle.load(f)\n",
    "    #s=pickle.load(f)\n",
    "    #l=pickle.load(f)\n",
    "    #d=pickle.load(f)\n",
    "    x,y,z,s,l,d=pickle.load(f)\n",
    "print(x,y,z,s,l,d,sep=\"\\t\")"
   ]
  },
  {
   "cell_type": "markdown",
   "metadata": {},
   "source": [
    "# 异常\n",
    "1.\n",
    "try:\n",
    "  代码，有可能抛出异常\n",
    "except:\n",
    "    #捕捉到异常，执行这里\n",
    "else:\n",
    "    #没有捕捉到的异常，则执行这里\n",
    "\n",
    "2.\n",
    "try:\n",
    "    代码，有可能抛出异常\n",
    "except:\n",
    "    #捕捉到异常，执行这里\n",
    "finally:\n",
    "    #无论有没有异常，都要执行这里\n",
    "\n",
    "Example:\n",
    "try:\n",
    "    f=open(\"test/note.txt\", \"w\")\n",
    "    f.write(\"I love Python.\")\n",
    "except:\n",
    "    #process exception\n",
    "finally:\n",
    "    f.close()\n",
    "\n",
    "3. raise ValueError(\"Value Error\") 用raise语句主动抛出一个异常\n",
    "4. raise ValueError(\"Value Error\") from ZeroDivisionError\n",
    "5. assert语句，抛出AssertionError异常，用于代码调试\n",
    "   Example:\n",
    "   assert s==\"wenyuC\"\n"
   ]
  },
  {
   "cell_type": "code",
   "execution_count": 83,
   "metadata": {},
   "outputs": [
    {
     "name": "stdout",
     "output_type": "stream",
     "text": [
      "1\n",
      "2\n",
      "3\n",
      "go there.\n"
     ]
    }
   ],
   "source": [
    "#用异常来实现goto\n",
    "try:\n",
    "    while True:\n",
    "        while True:\n",
    "            for i in range(1,10):\n",
    "                if i>3:\n",
    "                    raise\n",
    "                print(i)\n",
    "            print(\"Skip\")\n",
    "        print(\"Skip\")\n",
    "    print(\"Skip\")\n",
    "except:\n",
    "    print(\"go there.\")\n"
   ]
  },
  {
   "cell_type": "markdown",
   "metadata": {},
   "source": [
    "### swap two variables"
   ]
  },
  {
   "cell_type": "code",
   "execution_count": 4,
   "metadata": {},
   "outputs": [
    {
     "name": "stdout",
     "output_type": "stream",
     "text": [
      "11 7\n"
     ]
    }
   ],
   "source": [
    "a = 7\n",
    "b = 11\n",
    "b,a = [a,b]\n",
    "print(a,b)"
   ]
  },
  {
   "cell_type": "markdown",
   "metadata": {},
   "source": [
    "### deepcopy() and copy()\n",
    "\n",
    "如果只是对\\[1,2,3,4]中的元素进行deepcopy(), copy()，则无差别。"
   ]
  },
  {
   "cell_type": "code",
   "execution_count": 52,
   "metadata": {},
   "outputs": [
    {
     "name": "stdout",
     "output_type": "stream",
     "text": [
      "[1, 2, [3, 4]]\n",
      "2728263819840 2728297864064\n"
     ]
    }
   ],
   "source": [
    "from copy import deepcopy\n",
    "foo = [1,2,[3,4]]\n",
    "\n",
    "bar = deepcopy(foo)\n",
    "print(bar)\n",
    "print(id(foo), id(bar))"
   ]
  },
  {
   "cell_type": "code",
   "execution_count": 53,
   "metadata": {},
   "outputs": [
    {
     "name": "stdout",
     "output_type": "stream",
     "text": [
      "[1, 2, [3, 4]]\n",
      "[1, 2, [99, 4]]\n",
      "2728263819840 2728297864064\n"
     ]
    }
   ],
   "source": [
    "bar[2][0] = 99\n",
    "print(foo)\n",
    "print(bar)\n",
    "print(id(foo),id(bar))"
   ]
  },
  {
   "cell_type": "code",
   "execution_count": 50,
   "metadata": {},
   "outputs": [
    {
     "name": "stdout",
     "output_type": "stream",
     "text": [
      "[1, 2, [3, 4]]\n",
      "2728304173760 2728300407936\n"
     ]
    }
   ],
   "source": [
    "from copy import copy\n",
    "m = [1,2,[3,4]]\n",
    "n = copy(m)\n",
    "print(n)\n",
    "print(id(m), id(n))"
   ]
  },
  {
   "cell_type": "code",
   "execution_count": 54,
   "metadata": {},
   "outputs": [
    {
     "name": "stdout",
     "output_type": "stream",
     "text": [
      "[1, 2, [77, 88]]\n",
      "[1, 2, [77, 88]]\n",
      "2728304173760 2728300407936\n"
     ]
    }
   ],
   "source": [
    "m[2][0]=77\n",
    "n[2][1]=88\n",
    "print(m)\n",
    "print(n)\n",
    "print(id(m), id(n))"
   ]
  },
  {
   "cell_type": "markdown",
   "metadata": {},
   "source": [
    "### Shuffle a list"
   ]
  },
  {
   "cell_type": "code",
   "execution_count": 4,
   "metadata": {},
   "outputs": [
    {
     "name": "stdout",
     "output_type": "stream",
     "text": [
      "[1, 3, 2, 4]\n",
      "2728300014336 2728300012736\n"
     ]
    }
   ],
   "source": [
    "from copy import deepcopy\n",
    "from random import randint\n",
    "\n",
    "def shuffle(lst):\n",
    "    temp_lst = deepcopy(lst)\n",
    "    m = len(temp_lst)\n",
    "    while(m):\n",
    "        m -= 1\n",
    "        i = randint(0,m)\n",
    "        temp_lst[m], temp_lst[i] = temp_lst[i], temp_lst[m]\n",
    "    return temp_lst\n",
    "\n",
    "foo = [1,2,3,4]\n",
    "foo2 = shuffle(foo)\n",
    "print(foo2)\n",
    "print(id(foo), id(foo2))"
   ]
  },
  {
   "cell_type": "markdown",
   "metadata": {},
   "source": [
    "### operand, no if-else"
   ]
  },
  {
   "cell_type": "code",
   "execution_count": 8,
   "metadata": {},
   "outputs": [
    {
     "name": "stdout",
     "output_type": "stream",
     "text": [
      "125\n"
     ]
    }
   ],
   "source": [
    "import operator\n",
    "action = {\n",
    "    '+': operator.add,\n",
    "    '-': operator.sub,\n",
    "    '*': operator.mul,\n",
    "    '/': operator.truediv,\n",
    "    '**': pow\n",
    "}\n",
    "\n",
    "print(action['**'](5,3))"
   ]
  },
  {
   "cell_type": "markdown",
   "metadata": {},
   "source": [
    "### check palindrome 回文序列"
   ]
  },
  {
   "cell_type": "code",
   "execution_count": 9,
   "metadata": {},
   "outputs": [
    {
     "data": {
      "text/plain": [
       "True"
      ]
     },
     "execution_count": 9,
     "metadata": {},
     "output_type": "execute_result"
    }
   ],
   "source": [
    "def palindrome(string):\n",
    "    from re import sub\n",
    "    s = sub('[\\W_]', '',string.lower())   # remove non-english character\n",
    "    return s == s[::-1]\n",
    "\n",
    "palindrome('tac0 cat')"
   ]
  },
  {
   "cell_type": "markdown",
   "metadata": {},
   "source": [
    "### Get the most frequent element"
   ]
  },
  {
   "cell_type": "code",
   "execution_count": 1,
   "metadata": {},
   "outputs": [
    {
     "data": {
      "text/plain": [
       "2"
      ]
     },
     "execution_count": 1,
     "metadata": {},
     "output_type": "execute_result"
    }
   ],
   "source": [
    "def most_frequent(lst):\n",
    "    return max(set(list), key = lst.count)\n",
    "\n",
    "list = [1,2,1,2,3,2,1,4,2]\n",
    "set(list)\n",
    "most_frequent(list)"
   ]
  },
  {
   "cell_type": "markdown",
   "metadata": {},
   "source": [
    "### Convert two lists to a dictionary\n"
   ]
  },
  {
   "cell_type": "code",
   "execution_count": 11,
   "metadata": {},
   "outputs": [
    {
     "name": "stdout",
     "output_type": "stream",
     "text": [
      "{'a': 1, 'b': 2, 'c': 3}\n"
     ]
    }
   ],
   "source": [
    "def to_dictionary(keys, values):\n",
    "    if len(keys) == len(values):\n",
    "        return dict(zip(keys, values))\n",
    "    else:\n",
    "        return {}\n",
    "\n",
    "mykeys = ['a', 'b', 'c']\n",
    "values = [1,2,3]\n",
    "print(to_dictionary(mykeys, values))\n",
    "    "
   ]
  },
  {
   "cell_type": "markdown",
   "metadata": {},
   "source": [
    "### Merge two dictionaries"
   ]
  },
  {
   "cell_type": "code",
   "execution_count": 12,
   "metadata": {},
   "outputs": [
    {
     "name": "stdout",
     "output_type": "stream",
     "text": [
      "{'x': 1, 'y': 3, 'z': 4}\n"
     ]
    }
   ],
   "source": [
    "def merge_two_dicts(a,b):\n",
    "    c = a.copy() # make a copy of a\n",
    "    c.update(b)  # modify keys and values of a with the once from b\n",
    "    return c\n",
    "a = {'x': 1, 'y': 2}\n",
    "b = {'y': 3, 'z': 4}\n",
    "print(merge_two_dicts(a,b))"
   ]
  },
  {
   "cell_type": "code",
   "execution_count": 13,
   "metadata": {},
   "outputs": [
    {
     "name": "stdout",
     "output_type": "stream",
     "text": [
      "{'x': 1, 'y': 3, 'z': 4}\n"
     ]
    }
   ],
   "source": [
    "# for python 3.5 or above\n",
    "def merge_dictionaries(a,b):\n",
    "    return {**a, **b}\n",
    "a = {'x': 1, 'y': 2}\n",
    "b = {'y': 3, 'z': 4}\n",
    "print(merge_dictionaries(a,b))\n"
   ]
  },
  {
   "cell_type": "markdown",
   "metadata": {},
   "source": [
    "### Check the duplicate elements in a list"
   ]
  },
  {
   "cell_type": "code",
   "execution_count": 14,
   "metadata": {},
   "outputs": [
    {
     "name": "stdout",
     "output_type": "stream",
     "text": [
      "True\n",
      "False\n"
     ]
    }
   ],
   "source": [
    "def has_duplicates(lst):\n",
    "    return len(lst) != len(set(lst))\n",
    "\n",
    "x = [1,2,3,3,4,5,5,7]\n",
    "y = [1,2,3,4,5,6]\n",
    "print(has_duplicates(x))\n",
    "print(has_duplicates(y))"
   ]
  },
  {
   "cell_type": "markdown",
   "metadata": {},
   "source": [
    "### enumerate a container"
   ]
  },
  {
   "cell_type": "code",
   "execution_count": 15,
   "metadata": {},
   "outputs": [
    {
     "name": "stdout",
     "output_type": "stream",
     "text": [
      "10 1\n",
      "11 2\n",
      "12 3\n",
      "13 4\n"
     ]
    }
   ],
   "source": [
    "x = [1,2,3,4]\n",
    "for index, item in enumerate(x, 10):    # the second parameter is starting value of index\n",
    "    print(index, item)"
   ]
  },
  {
   "cell_type": "markdown",
   "metadata": {},
   "source": [
    "### generator of list"
   ]
  },
  {
   "cell_type": "code",
   "execution_count": 16,
   "metadata": {},
   "outputs": [
    {
     "data": {
      "text/plain": [
       "([2, 6, 10], [6, 24])"
      ]
     },
     "execution_count": 16,
     "metadata": {},
     "output_type": "execute_result"
    }
   ],
   "source": [
    "x = [1,2,3,5,8]\n",
    "y = [i * 2 for i in x if i&1]   # i&1 is odd\n",
    "z = [i * 3 for i in x if i%2== 0]   # i is even\n",
    "y,z"
   ]
  },
  {
   "cell_type": "markdown",
   "metadata": {},
   "source": [
    "### Mutable vs. Immutable Object\n",
    "\n",
    "- id(X)函数。对 X 进行某种操作，比较操作前后的id, 如果不一样，则X不可更改，如果一样，则X可更改\n",
    "- hash(X)函数，只要不报错，说明X**可被哈希，即不可更改**；**反之不可被哈希，可更改**。"
   ]
  },
  {
   "cell_type": "code",
   "execution_count": 17,
   "metadata": {},
   "outputs": [
    {
     "name": "stdout",
     "output_type": "stream",
     "text": [
      "140725812830672\n",
      "140725812830768\n"
     ]
    }
   ],
   "source": [
    "# integer cannot be changed.\n",
    "i = 3\n",
    "print(id(i))\n",
    "i +=3\n",
    "print(id(i))"
   ]
  },
  {
   "cell_type": "code",
   "execution_count": 18,
   "metadata": {},
   "outputs": [
    {
     "name": "stdout",
     "output_type": "stream",
     "text": [
      "2018355818248\n",
      "2018355818248\n"
     ]
    }
   ],
   "source": [
    "# list can be changed\n",
    "ls = [1,10.3]\n",
    "print(id(ls))\n",
    "ls.append('python')\n",
    "print(id(ls))"
   ]
  },
  {
   "cell_type": "markdown",
   "metadata": {},
   "source": [
    "#### Python中，默认参数值只能被初始化一次\n",
    "\n",
    "**如果使用可更改对象作为默认参数，那么被更改后的值将一直保留**"
   ]
  },
  {
   "cell_type": "code",
   "execution_count": 19,
   "metadata": {},
   "outputs": [],
   "source": [
    "def f( x=[] ):\n",
    "    x.append(1)\n",
    "    return x"
   ]
  },
  {
   "cell_type": "code",
   "execution_count": 20,
   "metadata": {},
   "outputs": [],
   "source": [
    "# print(f())  #没有给参数值，则其用默认值[]\n",
    "# print(f())  #默认参数值已经变为[1],再添加[1], 变为[1,1\n",
    "\n",
    "# 等价于\n",
    "# x1 = f()\n",
    "# print(x1)\n",
    "# x2 = f()\n",
    "# print(x2)\n",
    "# print(x1) #此时再打印x1， 发现还是[1,1]"
   ]
  },
  {
   "cell_type": "markdown",
   "metadata": {},
   "source": [
    "print(f(), f())\n",
    "\n",
    "等价于\n",
    "\n",
    "x1 = f()\n",
    "x2 = f()\n",
    "print(x1, x2)\n",
    "\n",
    "第一次调用f()产生PyObject并赋值给x1时，x1指向PyObject而且其值为[1]\n",
    "第二次调用f()产生PyObject并赋值给x2时，PyObject里的值更新为[1,1], **而x1， x2都指向它，**，因此两个值都更新为[1,1]\n",
    "\n"
   ]
  },
  {
   "cell_type": "code",
   "execution_count": 21,
   "metadata": {},
   "outputs": [
    {
     "name": "stdout",
     "output_type": "stream",
     "text": [
      "2018355817480 2018355817480\n",
      "[1, 1] [1, 1]\n"
     ]
    }
   ],
   "source": [
    "x1 = f()\n",
    "x2 = f()\n",
    "print(id(x1), id(x2))\n",
    "print(x1, x2)\n"
   ]
  },
  {
   "cell_type": "markdown",
   "metadata": {},
   "source": [
    "#### None 和整数、浮点数、布尔一样，时一种数据类型，而且不可更改\n"
   ]
  },
  {
   "cell_type": "code",
   "execution_count": 22,
   "metadata": {},
   "outputs": [
    {
     "name": "stdout",
     "output_type": "stream",
     "text": [
      "[1] [1]\n"
     ]
    }
   ],
   "source": [
    "def f(x = None):\n",
    "    if x is None:\n",
    "        x = []\n",
    "    x.append(1)\n",
    "    return x \n",
    "\n",
    "print(f(), f())"
   ]
  },
  {
   "cell_type": "code",
   "execution_count": null,
   "metadata": {},
   "outputs": [],
   "source": []
  }
 ],
 "metadata": {
  "kernelspec": {
   "display_name": "Python 3 (ipykernel)",
   "language": "python",
   "name": "python3"
  },
  "language_info": {
   "codemirror_mode": {
    "name": "ipython",
    "version": 3
   },
   "file_extension": ".py",
   "mimetype": "text/x-python",
   "name": "python",
   "nbconvert_exporter": "python",
   "pygments_lexer": "ipython3",
   "version": "3.9.6"
  },
  "toc": {
   "base_numbering": 1,
   "nav_menu": {},
   "number_sections": true,
   "sideBar": true,
   "skip_h1_title": false,
   "title_cell": "Table of Contents",
   "title_sidebar": "Contents",
   "toc_cell": false,
   "toc_position": {},
   "toc_section_display": true,
   "toc_window_display": false
  }
 },
 "nbformat": 4,
 "nbformat_minor": 4
}
