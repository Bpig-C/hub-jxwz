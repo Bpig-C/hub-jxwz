{
 "cells": [
  {
   "cell_type": "markdown",
   "metadata": {},
   "source": [
    "# Class\n",
    "\n",
    "面向对象的三个特征：封装，继承和多态"
   ]
  },
  {
   "cell_type": "code",
   "execution_count": 22,
   "metadata": {},
   "outputs": [
    {
     "name": "stdout",
     "output_type": "stream",
     "text": [
      "<__main__.C object at 0x1074f5790>\n",
      "<__main__.C object at 0x1074f5790>\n",
      "<__main__.C object at 0x1074f5790>\n",
      "655\n",
      "985\n",
      "655\n",
      "{'x': 985}\n",
      "{'x': 655}\n"
     ]
    }
   ],
   "source": [
    "#类中的方法的第一个位置参数为self\n",
    "class C:\n",
    "    def get_self(self):    #self起到的作用就是绑定，将实例对象和类的方法进行绑定。\n",
    "        print(self)\n",
    "c=C()\n",
    "print(c)\n",
    "c.get_self()    #调用实例c.get_self()的时候，实际是调用类C的get_self()方法，并将实例对象作为参数传递进去，进而实现绑定\n",
    "C.get_self(c)    #实际调用是这样的，和上面的调用一样。\n",
    "\n",
    "d=C()    #一个新的实例对象d\n",
    "d.x=655    #实例d中新加一个属性x\n",
    "print(d.x)\n",
    "#print(c.x)。  #实例d的属性，实例c访问不到\n",
    "\n",
    "c.x=985    #实例c也新加一个属性x\n",
    "print(c.x)\n",
    "print(d.x)    #实例c，d的属性值并不一样\n",
    "\n",
    "#实例的内省\n",
    "print(c.__dict__)\n",
    "print(d.__dict__)"
   ]
  },
  {
   "cell_type": "code",
   "execution_count": 24,
   "metadata": {},
   "outputs": [
    {
     "name": "stdout",
     "output_type": "stream",
     "text": [
      "{}\n",
      "658\n"
     ]
    }
   ],
   "source": [
    "class C:\n",
    "    def set_x(self, v):\n",
    "        self.x=v    #相当于c.x=v，通过self实现了绑定\n",
    "\n",
    "c=C()\n",
    "print(c.__dict__)    #空字典，没有属性\n",
    "c.set_x(658)    #调用c.set(）创建一个属性并赋值\n",
    "print(c.x)"
   ]
  },
  {
   "cell_type": "code",
   "execution_count": 28,
   "metadata": {},
   "outputs": [
    {
     "name": "stdout",
     "output_type": "stream",
     "text": [
      "{}\n",
      "100\n",
      "100\n"
     ]
    }
   ],
   "source": [
    "#没有绑定self会出问题\n",
    "class C:\n",
    "    x=100\n",
    "    def set_x(self, v):\n",
    "        x=v    #没有绑定self，相当于函数内部创建了一个局部变量并赋值，与类和对象的x属性并没有关系\n",
    "\n",
    "c=C()\n",
    "print(c.__dict__)    #空字典\n",
    "print(c.x)\n",
    "c.set_x(985)\n",
    "print(c.x)    #并没有改成985，因为没有绑定self，"
   ]
  },
  {
   "cell_type": "code",
   "execution_count": 31,
   "metadata": {},
   "outputs": [
    {
     "name": "stdout",
     "output_type": "stream",
     "text": [
      "655\n",
      "985\n",
      "[2026, 2030]\n"
     ]
    }
   ],
   "source": [
    "#最小的类可以当做字典来使用\n",
    "class C:\n",
    "    pass\n",
    "c=C()\n",
    "c.x=655\n",
    "c.y=\"985\"\n",
    "c.z=[2026,2030]\n",
    "print(c.x);print(c.y);print(c.z)"
   ]
  },
  {
   "cell_type": "code",
   "execution_count": 12,
   "metadata": {},
   "outputs": [
    {
     "name": "stdout",
     "output_type": "stream",
     "text": [
      "655\n",
      "Hi, I'm B.\n",
      "None\n",
      "<class '__main__.B'>\n",
      "True\n",
      "True\n",
      "False\n",
      "True\n",
      "\n",
      "\n"
     ]
    }
   ],
   "source": [
    "#继承\n",
    "class A:\n",
    "    x = 650\n",
    "    def hello(self):\n",
    "        print(\"Hi, I'm A.\")\n",
    "\n",
    "class B(A):\n",
    "    x = 655\n",
    "    def hello(self):\n",
    "        print(\"Hi, I'm B.\")\n",
    "\n",
    "b=B();\n",
    "print(b.x)\n",
    "print(b.hello())\n",
    "print(type(b))\n",
    "print(isinstance(b,B))    #True,检查第一个参数对象是否为第二个参数类的实例\n",
    "print(isinstance(b,A))    #True\n",
    "print(issubclass(A,B))    #False，检查第一个参数类是否为第二个参数类的子类\n",
    "print(issubclass(B,A))    #True\n",
    "print(\"\\n\")"
   ]
  },
  {
   "cell_type": "code",
   "execution_count": 15,
   "metadata": {},
   "outputs": [
    {
     "name": "stdout",
     "output_type": "stream",
     "text": [
      "650\n",
      "Hi, I'm A.\n",
      "None\n",
      "985\n"
     ]
    }
   ],
   "source": [
    "#多重继承\n",
    "class A:\n",
    "    x = 650\n",
    "    def hello(self):\n",
    "        print(\"Hi, I'm A.\")\n",
    "\n",
    "class B():\n",
    "    x = 656\n",
    "    y = 985\n",
    "    def hello(self):\n",
    "        print(\"Hi, I'm B.\")\n",
    "\n",
    "class C(A,B):\n",
    "    pass\n",
    "\n",
    "c=C()    #访问顺序从左到右。只有当在当前类中找不到，且左侧父类A中没有找到，才会到右侧父类B中寻找\n",
    "print(c.x)\n",
    "print(c.hello())\n",
    "print(c.y)    #右侧父类B的属性"
   ]
  },
  {
   "cell_type": "code",
   "execution_count": 17,
   "metadata": {},
   "outputs": [
    {
     "name": "stdout",
     "output_type": "stream",
     "text": [
      "Hi, I'm A.\n",
      "Hi, I'm B.\n",
      "Hi, I'm C.\n",
      "None\n"
     ]
    }
   ],
   "source": [
    "#组合\n",
    "class A:\n",
    "    def hello(self):\n",
    "        print(\"Hi, I'm A.\")\n",
    "class B:\n",
    "    def hello(self):\n",
    "        print(\"Hi, I'm B.\")\n",
    "class C:\n",
    "    def hello(self):\n",
    "        print(\"Hi, I'm C.\")\n",
    "class Class:\n",
    "    a = A()\n",
    "    b = B()\n",
    "    c = C()\n",
    "    def welcome(self):\n",
    "        self.a.hello()\n",
    "        self.b.hello()\n",
    "        self.c.hello()\n",
    "c = Class()\n",
    "print(c.welcome())"
   ]
  },
  {
   "cell_type": "code",
   "execution_count": 33,
   "metadata": {},
   "outputs": [
    {
     "name": "stdout",
     "output_type": "stream",
     "text": [
      "5\n",
      "6\n",
      "{'x': 2, 'y': 3}\n"
     ]
    }
   ],
   "source": [
    "#构造函数 __init()__\n",
    "class C:\n",
    "    def __init__(self, x, y):\n",
    "        self.x=x\n",
    "        self.y=y\n",
    "    def add(self):\n",
    "        return self.x+self.y\n",
    "    def mul(self):\n",
    "        return self.x*self.y\n",
    "c = C(2,3)\n",
    "print(c.add())\n",
    "print(c.mul())\n",
    "print(c.__dict__)\n"
   ]
  },
  {
   "cell_type": "code",
   "execution_count": 37,
   "metadata": {},
   "outputs": [
    {
     "name": "stdout",
     "output_type": "stream",
     "text": [
      "10\n",
      "30\n"
     ]
    }
   ],
   "source": [
    "#重写\n",
    "class D(C):\n",
    "    def __init__(self, x,y,z):\n",
    "        C.__init__(self,x,y)    #直接通过类名访问类里面的方法称为调用未绑定的父类方法\n",
    "        self.z=z\n",
    "    def add(self):\n",
    "        return C.add(self)+self.z\n",
    "    def mul(self):\n",
    "        return C.mul(self)*self.z\n",
    "d=D(2,3,5)\n",
    "print(d.add())\n",
    "print(d.mul())"
   ]
  },
  {
   "cell_type": "code",
   "execution_count": 39,
   "metadata": {},
   "outputs": [
    {
     "name": "stdout",
     "output_type": "stream",
     "text": [
      "Hi, I'm A.\n",
      "Hi, I'm B1.\n",
      "Hi, I'm A.\n",
      "Hi, I'm B2.\n",
      "Hi, I'm C.\n"
     ]
    }
   ],
   "source": [
    "#钻石继承\n",
    "class A():\n",
    "    def __init__(self):\n",
    "        print(\"Hi, I'm A.\")\n",
    "\n",
    "class B1(A):\n",
    "    def __init__(self):\n",
    "        A.__init__(self)\n",
    "        print(\"Hi, I'm B1.\")\n",
    "\n",
    "class B2(A):\n",
    "    def __init__(self):\n",
    "        A.__init__(self)\n",
    "        print(\"Hi, I'm B2.\")\n",
    "\n",
    "class C(B1,B2):\n",
    "    def __init__(self):\n",
    "        B1.__init__(self)\n",
    "        B2.__init__(self)\n",
    "        print(\"Hi, I'm C.\")\n",
    "\n",
    "c=C()    #类A被初始化了2次。因为类C同时继承类B1，B2，类B1，类B2又继承A，所以类C初始化的时候，类A就被初始化了2次。这是钻石继承带来的问题。"
   ]
  },
  {
   "cell_type": "code",
   "execution_count": 44,
   "metadata": {},
   "outputs": [
    {
     "name": "stdout",
     "output_type": "stream",
     "text": [
      "Hi, I'm A.\n",
      "Hi, I'm B2.\n",
      "Hi, I'm B1.\n",
      "Hi, I'm C.\n",
      "[<class '__main__.C'>, <class '__main__.B1'>, <class '__main__.B2'>, <class '__main__.A'>, <class 'object'>]\n",
      "[<class '__main__.B1'>, <class '__main__.A'>, <class 'object'>]\n",
      "(<class '__main__.C'>, <class '__main__.B1'>, <class '__main__.B2'>, <class '__main__.A'>, <class 'object'>)\n"
     ]
    }
   ],
   "source": [
    "#用super()解决钻石继承的问题\n",
    "class A():\n",
    "    def __init__(self):\n",
    "        print(\"Hi, I'm A.\")\n",
    "\n",
    "class B1(A):\n",
    "    def __init__(self):\n",
    "        super().__init__()\n",
    "        print(\"Hi, I'm B1.\")\n",
    "\n",
    "class B2(A):\n",
    "    def __init__(self):\n",
    "        super().__init__()\n",
    "        print(\"Hi, I'm B2.\")\n",
    "\n",
    "class C(B1,B2):\n",
    "    def __init__(self):\n",
    "        super().__init__()\n",
    "        print(\"Hi, I'm C.\")\n",
    "c=C()    #这时类A就只初始化一次\n",
    "\n",
    "#Method Resolution Order（MRO）\n",
    "print(C.mro())    #类的mro()\n",
    "print(B1.mro())\n",
    "print(C.__mro__)    #类的mro属性"
   ]
  },
  {
   "cell_type": "code",
   "execution_count": 49,
   "metadata": {},
   "outputs": [
    {
     "name": "stdout",
     "output_type": "stream",
     "text": [
      "I'm 飞猪 at 5 age.\n",
      "My special skill is playing around.\n",
      "Even I can fly.\n"
     ]
    }
   ],
   "source": [
    "#Mix-in 混入\n",
    "class Animal():\n",
    "    def __init__(self, name, age):\n",
    "        self.name=name\n",
    "        self.age=age\n",
    "\n",
    "    def say(self):\n",
    "        print(f\"I'm {self.name} at {self.age} age.\")\n",
    "\n",
    "#之后再定义一个类有fly的功能，Pig类可以继承\n",
    "class FlyMixin():\n",
    "    def fly(self):\n",
    "        print(\"Even I can fly.\")\n",
    "\n",
    "class Pig(FlyMixin, Animal):\n",
    "    def special(self):\n",
    "        print(\"My special skill is playing around.\")\n",
    "\n",
    "p=Pig(\"飞猪\",5)\n",
    "p.say()\n",
    "p.special()\n",
    "p.fly()"
   ]
  },
  {
   "cell_type": "code",
   "execution_count": 56,
   "metadata": {},
   "outputs": [
    {
     "name": "stdout",
     "output_type": "stream",
     "text": [
      "This is a test.\n",
      "[<class '__main__.MySubClass'>, <class '__main__.LoggerMixin'>, <class '__main__.Displayer'>, <class 'object'>]\n"
     ]
    }
   ],
   "source": [
    "#Mix-in Example\n",
    "class Displayer:\n",
    "    def display(self, message):\n",
    "        print(message)\n",
    "\n",
    "class LoggerMixin:\n",
    "    def log(self, message, filename=\"test/running.log\"):\n",
    "        with open(filename, \"a\") as f:\n",
    "            f.write(message)\n",
    "    def display(self, message):\n",
    "        super().display(message)\n",
    "        self.log(message)\n",
    "\n",
    "class MySubClass(LoggerMixin, Displayer):\n",
    "    def log(self, message):\n",
    "        super().log(message, filename=\"test/subclass.log\")    #调用LoggerMixin中的log()方法\n",
    "\n",
    "subclass=MySubClass()\n",
    "subclass.display(\"This is a test.\")    #调用LoggerMixin中的display()方法，它里面super()是Displayer类，\n",
    "print(MySubClass.mro())"
   ]
  },
  {
   "cell_type": "code",
   "execution_count": 64,
   "metadata": {},
   "outputs": [
    {
     "name": "stdout",
     "output_type": "stream",
     "text": [
      "25\n",
      "50.24\n",
      "6.0\n"
     ]
    }
   ],
   "source": [
    "#多态\n",
    "#如+ *，len()\n",
    "#重写就是实现类继承的多态\n",
    "class Shape:\n",
    "    def __init__(self, name):\n",
    "        self.name = name\n",
    "    def area(self):\n",
    "        pass\n",
    "class Square(Shape):\n",
    "    def __init__(self, length):\n",
    "        super().__init__(\"Square\")\n",
    "        self.length=length\n",
    "    def area(self):\n",
    "        return self.length * self.length\n",
    "class Circle(Shape):\n",
    "    def __init__(self, radius):\n",
    "        super().__init__(\"Circle\")\n",
    "        self.radius=radius\n",
    "    def area(self):\n",
    "        return 3.14*self.radius*self.radius\n",
    "class Triagle(Shape):\n",
    "    def __init__(self, base, height):\n",
    "        super().__init__(\"Triangle\")\n",
    "        self.base=base\n",
    "        self.height=height\n",
    "    def area(self):\n",
    "        return 0.5*self.base*self.height\n",
    "s=Square(5)\n",
    "c=Circle(4)\n",
    "t=Triagle(3,4)\n",
    "#print(s.area());print(c.area());print(t.area())\n",
    "\n",
    "def cal_area(x):    #cal_area()就有多态性，在不检查其类型的情况下，执行它的方法\n",
    "    print(x.area())\n",
    "cal_area(s)\n",
    "cal_area(c)\n",
    "cal_area(t)"
   ]
  },
  {
   "cell_type": "code",
   "execution_count": 65,
   "metadata": {},
   "outputs": [
    {
     "name": "stdout",
     "output_type": "stream",
     "text": [
      "NO way to calculate area.\n",
      "None\n"
     ]
    }
   ],
   "source": [
    "#鸭子类型\n",
    "#对象是哪个类型并不重要，主要是看它的行为是否符合要求\n",
    "class Bird:\n",
    "    def area(self):\n",
    "        print(\"NO way to calculate area.\")\n",
    "\n",
    "b=Bird()\n",
    "cal_area(b)"
   ]
  },
  {
   "cell_type": "code",
   "execution_count": 72,
   "metadata": {},
   "outputs": [
    {
     "name": "stdout",
     "output_type": "stream",
     "text": [
      "650\n",
      "655\n",
      "{'_C__x': 655}\n",
      "655\n",
      "{'_C__x': 655, '__y': 985}\n"
     ]
    }
   ],
   "source": [
    "#name mangling 在一个名字的前加上2个下划线表示该变量为“私有变量”，属性和函数名都可以\n",
    "class C:\n",
    "    def __init__(self, x):\n",
    "        self.__x=x\n",
    "    def set_x(self, x):\n",
    "        self.__x=x\n",
    "    def get_x(self):\n",
    "        return self.__x\n",
    "c=C(650)\n",
    "#print(c.__x) #访问不到__x属性\n",
    "print(c.get_x())\n",
    "c.set_x(655)\n",
    "print(c.get_x())\n",
    "print(c.__dict__)\n",
    "print(c._C__x)    #可以这样访问到“私有变量”，当强烈不建议\n",
    "c.__y=985\n",
    "print(c.__dict__)\n",
    "\n",
    "#单下划线开头的变量是仅供内部使用的变量\n",
    "#要使用关键字作为变量名时，可以在最后加上下划线\n"
   ]
  },
  {
   "cell_type": "code",
   "execution_count": 80,
   "metadata": {},
   "outputs": [
    {
     "name": "stdout",
     "output_type": "stream",
     "text": [
      "655\n",
      "666\n",
      "520\n",
      "580\n",
      "667\n",
      "['x', 'y']\n",
      "{'z': 667}\n"
     ]
    }
   ],
   "source": [
    "#效率提升\n",
    "#Python中类的属性都用字典来保存，字典使用了大量的存储空间来提升效率\n",
    "#但如果类中的属性今后都不修改和扩展，可以用__slots__来定义，节约了大量存储对象的空间\n",
    "class C:\n",
    "    __slots__ = [\"x\",\"y\"]    #x,y就是类C中的属性\n",
    "    def __init__(self, x):\n",
    "        self.x=x\n",
    "c=C(655)\n",
    "print(c.x)\n",
    "c.y=666\n",
    "print(c.y)\n",
    "#c.z=985    #报错，不能动态添加属性\n",
    "\n",
    "#继承自父类的__slots__属性是不会在子类中生效的\n",
    "class E(C):\n",
    "    pass\n",
    "e=E(520)\n",
    "print(e.x)\n",
    "e.y=580\n",
    "print(e.y)\n",
    "e.z=667    #在子类中还是可以动态添加属性\n",
    "print(e.z)\n",
    "print(e.__slots__)    #继承了父类的slots属性\n",
    "print(e.__dict__)"
   ]
  },
  {
   "cell_type": "code",
   "execution_count": 83,
   "metadata": {},
   "outputs": [
    {
     "name": "stdout",
     "output_type": "stream",
     "text": [
      "WENYUC\n"
     ]
    }
   ],
   "source": [
    "#魔法方法\n",
    "#创建对象的方法是__new__(class, ...),它接受类作为输入，生成self对象并给__init__()用于初始化对象\n",
    "class CapStr(str):\n",
    "    def __new__(cls, string):    #拦截__new__()修改不可变对象，如string，tuple等\n",
    "        string = string.upper()\n",
    "        return super().__new__(cls, string)\n",
    "cs = CapStr(\"wenyuC\")\n",
    "print(cs)    #全是大写字母的字符串"
   ]
  },
  {
   "cell_type": "code",
   "execution_count": 89,
   "metadata": {},
   "outputs": [
    {
     "name": "stdout",
     "output_type": "stream",
     "text": [
      "I'm coming.\n",
      "I'm leaving.\n",
      "I'm leaving.\n"
     ]
    }
   ],
   "source": [
    "#对象被销毁的时候调用__del__()\n",
    "#检测到一个对象没有任何引用的时候才会被销毁\n",
    "class C():\n",
    "    def __init__(self):\n",
    "        print(\"I'm coming.\")\n",
    "    def __del__(self):\n",
    "        print(\"I'm leaving.\")\n",
    "\n",
    "c=C()\n",
    "d=c\n",
    "del d\n",
    "del c    #del c的时候才调用__del__()"
   ]
  },
  {
   "cell_type": "code",
   "execution_count": 93,
   "metadata": {},
   "outputs": [
    {
     "name": "stdout",
     "output_type": "stream",
     "text": [
      "<__main__.D object at 0x1077a9b80>\n",
      "tester\n",
      "<__main__.D object at 0x1077a9b80>\n",
      "tester\n"
     ]
    }
   ],
   "source": [
    "# object resurrection 对象的重生\n",
    "class D:\n",
    "    def __init__(self,name):\n",
    "        self.name=name\n",
    "    def __del__(self):\n",
    "        global x    #创建一个全局变量\n",
    "        x=self\n",
    "d=D(\"tester\")\n",
    "print(d);print(d.name)\n",
    "del d    #对象d已经不存在了\n",
    "print(x)    #全局变量x仍存在，就是d对象\n",
    "print(x.name)"
   ]
  },
  {
   "cell_type": "code",
   "execution_count": 97,
   "metadata": {},
   "outputs": [
    {
     "name": "stdout",
     "output_type": "stream",
     "text": [
      "<__main__.E object at 0x10785b250>\n",
      "<__main__.E object at 0x10785b250>\n"
     ]
    }
   ],
   "source": [
    "#不用全局变量的方法\n",
    "class E:\n",
    "    def __init__(self, name, func):\n",
    "        self.name=name\n",
    "        self.func=func\n",
    "    def __del__(self):\n",
    "        self.func(self)    #保存self到外部变量\n",
    "#闭包函数，将外层函数的局部变量保存下来\n",
    "def outter():\n",
    "    x=0    #将self函数保存在外部变量x中\n",
    "    def inner(y=None):    #内部函数获取外部变量\n",
    "        nonlocal x\n",
    "        if y:\n",
    "            x=y\n",
    "        else:\n",
    "            return x\n",
    "    return inner\n",
    "\n",
    "f=outter()\n",
    "e=E(\"tester\",f)\n",
    "print(f\"{e}\")\n",
    "del e\n",
    "g=f()    #返回外部变量的值\n",
    "print(f\"{g}\")"
   ]
  },
  {
   "cell_type": "code",
   "execution_count": 101,
   "metadata": {},
   "outputs": [
    {
     "name": "stdout",
     "output_type": "stream",
     "text": [
      "12\n",
      "Hellowenyuc\n"
     ]
    }
   ],
   "source": [
    "#运算相关的魔法方法\n",
    "class S(str):\n",
    "    def __add__(self, other):    #重新实现了“+”方法\n",
    "        return len(self)+len(other)\n",
    "s1=S(\"wenyuc\")\n",
    "s2=S(\"Python\")\n",
    "print(s1+s2)\n",
    "print(\"Hello\"+s1)    #说明重写的“+”方法实现在S类的对象中"
   ]
  },
  {
   "cell_type": "code",
   "execution_count": 103,
   "metadata": {},
   "outputs": [
    {
     "name": "stdout",
     "output_type": "stream",
     "text": [
      "11\n"
     ]
    }
   ],
   "source": [
    "#__radd__()\n",
    "class S1(str):\n",
    "    def __add__(self, other):\n",
    "        return NotImplemented\n",
    "\n",
    "class S2(str):\n",
    "    def __radd__(self, other):\n",
    "        return len(self)+len(other)\n",
    "\n",
    "s1=S1(\"Apple\")\n",
    "s2=S2(\"Banana\")\n",
    "print(s1+s2)    #起作用的是S2类中的__radd__()方法"
   ]
  },
  {
   "cell_type": "code",
   "execution_count": 109,
   "metadata": {},
   "outputs": [
    {
     "name": "stdout",
     "output_type": "stream",
     "text": [
      "11\n",
      "<class 'int'>\n",
      "BananaBananaBananaBanana\n",
      "<class 'str'>\n"
     ]
    }
   ],
   "source": [
    "#__iadd__()\n",
    "#运算兼赋值\n",
    "class S1(str):\n",
    "    def __iadd__(self, other):\n",
    "        return len(self)+len(other)\n",
    "\n",
    "s1=S1(\"Apple\")\n",
    "s1 +=\"Banana\"\n",
    "print(s1)\n",
    "print(type(s1))    #变成了int类型\n",
    "s2 += s2    #s2和s2都是相同的类，所以不会调用S2.__radd__()，而是去父类str中查找__add__(),得到字符串的拼接\n",
    "print(s2)\n",
    "print(type(s2))"
   ]
  },
  {
   "cell_type": "code",
   "execution_count": 111,
   "metadata": {},
   "outputs": [
    {
     "name": "stdout",
     "output_type": "stream",
     "text": [
      "False\n",
      "True\n"
     ]
    }
   ],
   "source": [
    "print(0.1+0.2 ==0.3)\n",
    "import math\n",
    "print(0.1+0.2 ==0.3+math.ulp(0.3))"
   ]
  },
  {
   "cell_type": "code",
   "execution_count": 12,
   "metadata": {},
   "outputs": [
    {
     "name": "stdout",
     "output_type": "stream",
     "text": [
      "1 2 [3, 4, 5, 6]\n"
     ]
    }
   ],
   "source": [
    "a, b, *c = (1,2,3,4,5,6)\n",
    "print(a, b, c)"
   ]
  },
  {
   "cell_type": "code",
   "execution_count": 13,
   "metadata": {},
   "outputs": [
    {
     "data": {
      "text/plain": [
       "list"
      ]
     },
     "execution_count": 13,
     "metadata": {},
     "output_type": "execute_result"
    }
   ],
   "source": [
    "type(c)"
   ]
  },
  {
   "cell_type": "code",
   "execution_count": 14,
   "metadata": {},
   "outputs": [
    {
     "name": "stdout",
     "output_type": "stream",
     "text": [
      "1 2\n"
     ]
    }
   ],
   "source": [
    "a, b, *_ = (1,2,3,4,5,6)\n",
    "print(a, b)"
   ]
  },
  {
   "cell_type": "code",
   "execution_count": 15,
   "metadata": {},
   "outputs": [
    {
     "name": "stdout",
     "output_type": "stream",
     "text": [
      "1 2 5 6\n"
     ]
    }
   ],
   "source": [
    "a, b, *_, c, d = (1,2,3,4,5,6)\n",
    "print(a, b, c, d)"
   ]
  },
  {
   "cell_type": "markdown",
   "metadata": {},
   "source": [
    "## 属性访问"
   ]
  },
  {
   "cell_type": "code",
   "execution_count": 7,
   "metadata": {},
   "outputs": [
    {
     "name": "stdout",
     "output_type": "stream",
     "text": [
      "True\n",
      "wenyuC\n",
      "26\n",
      "19\n",
      "False\n"
     ]
    }
   ],
   "source": [
    "class C:\n",
    "    def __init__(self, name, age):\n",
    "        self.name=name\n",
    "        self.__age=age\n",
    "c=C(\"wenyuC\",26)\n",
    "print(hasattr(c, \"name\"))    #检测对象c中是否有name这个属性，属性名用字符串的形式传递进去\n",
    "print(getattr(c, \"name\"))\n",
    "print(getattr(c, \"_C__age\"))    #name mangling to access private attribute\n",
    "setattr(c,\"_C__age\",19)\n",
    "print(getattr(c, \"_C__age\")) \n",
    "delattr(c, \"_C__age\")\n",
    "print(hasattr(c,\"_C__age\"))"
   ]
  },
  {
   "cell_type": "code",
   "execution_count": 13,
   "metadata": {},
   "outputs": [
    {
     "name": "stdout",
     "output_type": "stream",
     "text": [
      "Get Attribute\n",
      "wenyuC\n",
      "Get Attribute\n",
      "26\n"
     ]
    }
   ],
   "source": [
    "class C:\n",
    "    def __init__(self, name, age):\n",
    "        self.name=name\n",
    "        self.__age=age\n",
    "    def __getattribute__(self, attrname):\n",
    "        print(\"Get Attribute\")\n",
    "        return super().__getattribute__(attrname)\n",
    "c=C(\"wenyuC\", 26)\n",
    "print(getattr(c, \"name\"))\n",
    "print(c._C__age)"
   ]
  },
  {
   "cell_type": "code",
   "execution_count": 20,
   "metadata": {},
   "outputs": [
    {
     "name": "stdout",
     "output_type": "stream",
     "text": [
      "Get Attribute\n",
      "I love wenyuC.\n",
      "None\n",
      "Get Attribute\n"
     ]
    },
    {
     "ename": "AttributeError",
     "evalue": "y",
     "output_type": "error",
     "traceback": [
      "\u001b[0;31m---------------------------------------------------------------------------\u001b[0m",
      "\u001b[0;31mAttributeError\u001b[0m                            Traceback (most recent call last)",
      "Cell \u001b[0;32mIn[20], line 17\u001b[0m\n\u001b[1;32m     15\u001b[0m c\u001b[38;5;241m=\u001b[39mC(\u001b[38;5;124m\"\u001b[39m\u001b[38;5;124mwenyuC\u001b[39m\u001b[38;5;124m\"\u001b[39m, \u001b[38;5;241m26\u001b[39m)\n\u001b[1;32m     16\u001b[0m \u001b[38;5;28mprint\u001b[39m(\u001b[38;5;28mgetattr\u001b[39m(c, \u001b[38;5;124m\"\u001b[39m\u001b[38;5;124mwenyuC\u001b[39m\u001b[38;5;124m\"\u001b[39m))\n\u001b[0;32m---> 17\u001b[0m \u001b[38;5;28mprint\u001b[39m(\u001b[43mc\u001b[49m\u001b[38;5;241;43m.\u001b[39;49m\u001b[43my\u001b[49m)\n",
      "Cell \u001b[0;32mIn[20], line 13\u001b[0m, in \u001b[0;36mC.__getattr__\u001b[0;34m(self, attrname)\u001b[0m\n\u001b[1;32m     11\u001b[0m     \u001b[38;5;28mprint\u001b[39m(\u001b[38;5;124m\"\u001b[39m\u001b[38;5;124mI love wenyuC.\u001b[39m\u001b[38;5;124m\"\u001b[39m)\n\u001b[1;32m     12\u001b[0m \u001b[38;5;28;01melse\u001b[39;00m:\n\u001b[0;32m---> 13\u001b[0m     \u001b[38;5;28;01mraise\u001b[39;00m \u001b[38;5;167;01mAttributeError\u001b[39;00m(attrname)\n",
      "\u001b[0;31mAttributeError\u001b[0m: y"
     ]
    }
   ],
   "source": [
    "# __getattr__()是一个在试图访问一个不存在的属性时才被触发的魔法方法\n",
    "class C:\n",
    "    def __init__(self, name, age):\n",
    "        self.name=name\n",
    "        self.__age=age\n",
    "    def __getattribute__(self, attrname):\n",
    "        print(\"Get Attribute\")\n",
    "        return super().__getattribute__(attrname)\n",
    "    def __getattr__(self, attrname):\n",
    "        if attrname==\"wenyuC\":\n",
    "            print(\"I love wenyuC.\")\n",
    "        else:\n",
    "            raise AttributeError(attrname)\n",
    "\n",
    "c=C(\"wenyuC\", 26)\n",
    "print(getattr(c, \"wenyuC\"))\n",
    "print(c.y)    #先执行__getattribute__()，属性不存在，再执行__getattr__(),抛异常"
   ]
  },
  {
   "cell_type": "code",
   "execution_count": 22,
   "metadata": {},
   "outputs": [
    {
     "name": "stdout",
     "output_type": "stream",
     "text": [
      "wenyuC\n",
      "False\n"
     ]
    }
   ],
   "source": [
    "# __setattr__(), __delattr__() 注意避免无限循环\n",
    "class D:\n",
    "    def __setattr__(self, name, value):\n",
    "        #self.name=value    #无限循环\n",
    "        self.__dict__[name]=value\n",
    "    def __delattr__(self, name):\n",
    "        del self.__dict__[name]\n",
    "\n",
    "d=D()\n",
    "d.name=\"wenyuC\"\n",
    "print(getattr(d, \"name\"))\n",
    "delattr(d, \"name\")\n",
    "print(hasattr(d, \"name\"))"
   ]
  },
  {
   "cell_type": "markdown",
   "metadata": {},
   "source": [
    "## 对象被索引时的魔法方法"
   ]
  },
  {
   "cell_type": "code",
   "execution_count": 26,
   "metadata": {},
   "outputs": [
    {
     "name": "stdout",
     "output_type": "stream",
     "text": [
      "2\n",
      "None\n",
      "slice(2, 6, None)\n",
      "None\n"
     ]
    }
   ],
   "source": [
    "#当对象被索引的时候，会调用__getitem__(self, index)魔法方法\n",
    "class C:\n",
    "    def __getitem__(self, index):\n",
    "        print(index)\n",
    "c=C()\n",
    "print(c[2])\n",
    "print(c[2:6])    #返回一个slice()函数"
   ]
  },
  {
   "cell_type": "code",
   "execution_count": 31,
   "metadata": {},
   "outputs": [
    {
     "name": "stdout",
     "output_type": "stream",
     "text": [
      "love\n",
      "Python.\n",
      "Io tn\n"
     ]
    }
   ],
   "source": [
    "#slice()函数的用法\n",
    "s=\"I love Python.\"\n",
    "print(s[slice(2,6)])\n",
    "print(s[slice(7,None)])\n",
    "print(s[slice(None,None,3)])"
   ]
  },
  {
   "cell_type": "code",
   "execution_count": 34,
   "metadata": {},
   "outputs": [
    {
     "name": "stdout",
     "output_type": "stream",
     "text": [
      "2\n",
      "99\n",
      "[1, 99, 9, 8, 5]\n"
     ]
    }
   ],
   "source": [
    "class D:\n",
    "    def __init__(self, data):\n",
    "        self.data=data\n",
    "    def __getitem__(self, index):\n",
    "        return self.data[index]\n",
    "    def __setitem__(self, index, value):\n",
    "        self.data[index]=value\n",
    "d=D([1,2,3,4,5])\n",
    "print(d[1])\n",
    "d[1]=99\n",
    "print(d[1])\n",
    "d[2:4]=[9,8]\n",
    "print(d.data)"
   ]
  },
  {
   "cell_type": "code",
   "execution_count": 35,
   "metadata": {},
   "outputs": [
    {
     "name": "stdout",
     "output_type": "stream",
     "text": [
      "2\n",
      "4\n",
      "6\n",
      "8\n",
      "10\n"
     ]
    }
   ],
   "source": [
    "#除了索引和切片，所有“获取”的操作也会调用__getitem__()魔法方法\n",
    "class D:\n",
    "    def __init__(self, data):\n",
    "        self.data=data\n",
    "    def __getitem__(self, index):\n",
    "        return self.data[index] * 2    #获取后乘以2返回\n",
    "    def __setitem__(self, index, value):\n",
    "        self.data[index]=value\n",
    "d=D([1,2,3,4,5])\n",
    "for i in d:\n",
    "    print(i)"
   ]
  },
  {
   "cell_type": "code",
   "execution_count": 37,
   "metadata": {},
   "outputs": [
    {
     "name": "stdout",
     "output_type": "stream",
     "text": [
      "1 2 3 4 5 "
     ]
    }
   ],
   "source": [
    "#如果一个对象定义了__iter__()魔法方法就是可迭代对象，若一个可迭代对象定义了__next__()魔法方法，对象就是迭代器\n",
    "#列表是一个可迭代对象，但不是迭代器，因为它没有定义__next__()方法\n",
    "l =[1,2,3,4,5]\n",
    "#dir(l)\n",
    "_=iter(l)\n",
    "while True:\n",
    "    try:\n",
    "        i=_.__next__()\n",
    "    except StopIteration:\n",
    "        break\n",
    "    print(i, end=' ')\n"
   ]
  },
  {
   "cell_type": "code",
   "execution_count": 39,
   "metadata": {},
   "outputs": [
    {
     "name": "stdout",
     "output_type": "stream",
     "text": [
      "2 4 6 8 10 "
     ]
    }
   ],
   "source": [
    "#实现一个迭代器\n",
    "class Double:\n",
    "    def __init__(self, start, end):\n",
    "        self.value=start-1\n",
    "        self.stop=end\n",
    "    def __iter__(self):\n",
    "        return self\n",
    "    def __next__(self):\n",
    "        if self.value==self.stop:\n",
    "            raise StopIteration\n",
    "        self.value+=1\n",
    "        return self.value*2\n",
    "d=Double(1,5)\n",
    "for i in d:\n",
    "    print(i,end=' ')\n",
    "        "
   ]
  },
  {
   "cell_type": "code",
   "execution_count": 42,
   "metadata": {},
   "outputs": [
    {
     "name": "stdout",
     "output_type": "stream",
     "text": [
      "Hi\n"
     ]
    },
    {
     "data": {
      "text/plain": [
       "True"
      ]
     },
     "execution_count": 42,
     "metadata": {},
     "output_type": "execute_result"
    }
   ],
   "source": [
    "# __contains__(self, item) 主要用于成员关系检测，对应的运算符为in，not in\n",
    "class C:\n",
    "    def __init__(self, data):\n",
    "        self.data=data\n",
    "    def __contains__(self, item):\n",
    "        print(\"Hi\")\n",
    "        return item in self.data\n",
    "c=C([1,2,3,4,5])\n",
    "1 in c    #被拦截"
   ]
  },
  {
   "cell_type": "code",
   "execution_count": 47,
   "metadata": {},
   "outputs": [
    {
     "name": "stdout",
     "output_type": "stream",
     "text": [
      "Iter -> Next -> Next -> Next -> Next -> True\n",
      "Iter -> Next -> Next -> Next -> Next -> Next -> Next -> False\n"
     ]
    }
   ],
   "source": [
    "# 若没有实现__contains__(), in， not in，会调用__iter__(),__next__()\n",
    "class C:\n",
    "    def __init__(self, data):\n",
    "        self.data=data\n",
    "    def __iter__(self):\n",
    "        print(\"Iter\", end=\" -> \")\n",
    "        self.i=0\n",
    "        return self\n",
    "    def __next__(self):\n",
    "        print(\"Next\", end=\" -> \")\n",
    "        if self.i == len(self.data):\n",
    "            raise StopIteration\n",
    "        item=self.data[self.i]\n",
    "        self.i+=1\n",
    "        return item\n",
    "c=C([1,2,3,4,5])\n",
    "print(4 in c)\n",
    "print(6 in c)"
   ]
  },
  {
   "cell_type": "code",
   "execution_count": 49,
   "metadata": {},
   "outputs": [
    {
     "name": "stdout",
     "output_type": "stream",
     "text": [
      "GetItem -> GetItem -> GetItem -> GetItem -> True\n",
      "GetItem -> GetItem -> GetItem -> GetItem -> GetItem -> GetItem -> False\n"
     ]
    }
   ],
   "source": [
    "#如果没有__iter__() and __next__(), 会用__getitem__()\n",
    "class C:\n",
    "    def __init__(self, data):\n",
    "        self.data=data\n",
    "    def __getitem__(self, index):\n",
    "        print(\"GetItem\", end=' -> ')\n",
    "        return self.data[index]\n",
    "c=C([1,2,3,4,5])\n",
    "print(4 in c)\n",
    "print(6 in c)"
   ]
  },
  {
   "cell_type": "code",
   "execution_count": 50,
   "metadata": {},
   "outputs": [
    {
     "name": "stdout",
     "output_type": "stream",
     "text": [
      "bool\n",
      "True\n"
     ]
    }
   ],
   "source": [
    "#__bool__(), 当调用bool()函数，Python会调用__bool__()魔法方法\n",
    "class D:\n",
    "    def __bool__(self):\n",
    "        print(\"bool\")\n",
    "        return True\n",
    "d=D()\n",
    "print(bool(d))"
   ]
  },
  {
   "cell_type": "code",
   "execution_count": 52,
   "metadata": {},
   "outputs": [
    {
     "name": "stdout",
     "output_type": "stream",
     "text": [
      "Len\n",
      "True\n",
      "Len\n",
      "False\n"
     ]
    }
   ],
   "source": [
    "#__len__()为__bool__()的代偿实现\n",
    "class D:\n",
    "    def __init__(self, data):\n",
    "        self.data=data\n",
    "    def __len__(self):\n",
    "        print(\"Len\")\n",
    "        return len(self.data)\n",
    "d=D(\"wenyuC\")\n",
    "print(bool(d))\n",
    "d=D(\"\")\n",
    "print(bool(d))"
   ]
  },
  {
   "cell_type": "markdown",
   "metadata": {},
   "source": [
    "## 与比较运算有关的魔法方法\n",
    "- __lt__(self, other)    __le__(self, other) __gt__(self, other)  __ge__(self, other)  __eq__(self, other), __ne__(self, other)"
   ]
  },
  {
   "cell_type": "code",
   "execution_count": 59,
   "metadata": {},
   "outputs": [
    {
     "name": "stdout",
     "output_type": "stream",
     "text": [
      "True\n",
      "True\n"
     ]
    }
   ],
   "source": [
    "# 通过字符串的长度来比较字符串大小\n",
    "class S(str):\n",
    "    def __lt__(self, other):\n",
    "        return len(self)<len(other)\n",
    "    def __gt__(self, other):\n",
    "        return len(self)>len(other)\n",
    "    def __eq__(self, other):\n",
    "        return len(self)==len(other)\n",
    "    __le__=None    #不想用哪个方法就设其为None\n",
    "    __ge__=None\n",
    "    __ne__=None\n",
    "    \n",
    "s1=S(\"wenyuC\")\n",
    "s2=S(\"Python\")\n",
    "print(s1==s2)\n",
    "s2=S(\"Java\")\n",
    "print(s1>s2)\n",
    "#print(s1!=s2)    #不等值判断不是取__eq__()取反的结果，而是走其父类的传统路线，比较编码值是否相等\n",
    "#print(s1>=s2)    #TypeError, 不希望这种比较关系出现"
   ]
  },
  {
   "cell_type": "code",
   "execution_count": 61,
   "metadata": {},
   "outputs": [
    {
     "name": "stdout",
     "output_type": "stream",
     "text": [
      "positional arguments:(1, 2, 3) keyword arguments:{'x': 650, 'y': 985}\n"
     ]
    }
   ],
   "source": [
    "#对象调用的魔法方法 __call__()\n",
    "class C():\n",
    "    def __call__(self, *args, **kwargs):\n",
    "        print(f\"positional arguments:{args} keyword arguments:{kwargs}\")\n",
    "c=C()\n",
    "c(1,2,3,x=650, y=985)"
   ]
  },
  {
   "cell_type": "code",
   "execution_count": 64,
   "metadata": {},
   "outputs": [
    {
     "name": "stdout",
     "output_type": "stream",
     "text": [
      "9\n",
      "64\n"
     ]
    }
   ],
   "source": [
    "# 通过__call__()实现一个power的工厂方法\n",
    "class Power:\n",
    "    def __init__(self, exp):\n",
    "        self.exp=exp\n",
    "    def __call__(self, base):\n",
    "        return base ** self.exp\n",
    "square=Power(2)\n",
    "print(square(3))\n",
    "cube=Power(3)\n",
    "print(cube(4))"
   ]
  },
  {
   "cell_type": "code",
   "execution_count": 72,
   "metadata": {},
   "outputs": [
    {
     "name": "stdout",
     "output_type": "stream",
     "text": [
      "I love Python.\n",
      "I love Python.\n",
      "I love Python.\n",
      "I love Python.\n",
      "I love Python.\n",
      "[I love Python., I love Python., I love Python.]\n"
     ]
    }
   ],
   "source": [
    "# 和字符串有关的魔法方法__str__(),它将参数转换为字符串， __repr__()，它将对象转换为程序可执行的字符串\n",
    "class C:\n",
    "    def __repr__(self):\n",
    "        return \"I love Python.\"\n",
    "c=C()\n",
    "print(repr(c))\n",
    "print(str(c))    #__repr__()也可作为__str__()的代偿实现；但__str__()不能作为__repr__()的代偿实现\n",
    "cs=[C(),C(),C()]\n",
    "for each in cs:\n",
    "    print(each)    #可打印出列表中的每个对象\n",
    "print(cs)    #也可以打印出每个对象。但若只实现了__str__()，则打印不出列表中的每个对象"
   ]
  },
  {
   "cell_type": "code",
   "execution_count": 67,
   "metadata": {},
   "outputs": [
    {
     "name": "stdout",
     "output_type": "stream",
     "text": [
      "3\n"
     ]
    },
    {
     "ename": "NameError",
     "evalue": "name 'WenyuC' is not defined",
     "output_type": "error",
     "traceback": [
      "\u001b[0;31m---------------------------------------------------------------------------\u001b[0m",
      "\u001b[0;31mNameError\u001b[0m                                 Traceback (most recent call last)",
      "Cell \u001b[0;32mIn[67], line 2\u001b[0m\n\u001b[1;32m      1\u001b[0m \u001b[38;5;28mprint\u001b[39m(\u001b[38;5;28meval\u001b[39m(\u001b[38;5;124m\"\u001b[39m\u001b[38;5;124m1+2\u001b[39m\u001b[38;5;124m\"\u001b[39m))    \u001b[38;5;66;03m#将参数去引号后执行\u001b[39;00m\n\u001b[0;32m----> 2\u001b[0m \u001b[38;5;28mprint\u001b[39m(\u001b[38;5;28;43meval\u001b[39;49m\u001b[43m(\u001b[49m\u001b[38;5;28;43mstr\u001b[39;49m\u001b[43m(\u001b[49m\u001b[38;5;124;43m\"\u001b[39;49m\u001b[38;5;124;43mWenyuC\u001b[39;49m\u001b[38;5;124;43m\"\u001b[39;49m\u001b[43m)\u001b[49m\u001b[43m)\u001b[49m)\n\u001b[1;32m      3\u001b[0m \u001b[38;5;28mprint\u001b[39m(\u001b[38;5;28meval\u001b[39m(\u001b[38;5;28mrepr\u001b[39m(\u001b[38;5;124m\"\u001b[39m\u001b[38;5;124mWenyuc\u001b[39m\u001b[38;5;124m\"\u001b[39m)))\n",
      "File \u001b[0;32m<string>:1\u001b[0m\n",
      "\u001b[0;31mNameError\u001b[0m: name 'WenyuC' is not defined"
     ]
    }
   ],
   "source": [
    "print(eval(\"1+2\"))    #将参数去引号后执行\n",
    "#print(eval(str(\"WenyuC\")))    #报错，去掉字符串后，不是可计算的\n",
    "print(eval(repr(\"Wenyuc\")))    #repr()会多包一层外衣，去掉后还是字符串，有人说eval()是repr()的反函数"
   ]
  },
  {
   "cell_type": "code",
   "execution_count": 85,
   "metadata": {},
   "outputs": [
    {
     "name": "stdout",
     "output_type": "stream",
     "text": [
      "data=900\n"
     ]
    }
   ],
   "source": [
    "#可以都实现__str__(), __repr__()\n",
    "class C:\n",
    "    def __init__(self, data):\n",
    "        self.data=data\n",
    "    def __str__(self):\n",
    "        return f\"data={self.data}\"\n",
    "    def __repr__(self):\n",
    "        return f\"C({self.data})\"\n",
    "    def __add__(self, other):\n",
    "        self.data += other\n",
    "\n",
    "c=C(650)\n",
    "c+250\n",
    "print(c)"
   ]
  },
  {
   "cell_type": "code",
   "execution_count": 89,
   "metadata": {},
   "outputs": [
    {
     "name": "stdout",
     "output_type": "stream",
     "text": [
      "650\n",
      "{'_x': 655}\n"
     ]
    }
   ],
   "source": [
    "#property()函数，其实和int(), str()一样，是built-in class\n",
    "# class property(fget=None, fset=None, fdel=None, doc=None)\n",
    "#property()函数用于返回一个property属性对象\n",
    "class C:\n",
    "    def __init__(self):\n",
    "        self._x=650\n",
    "    def getx(self):\n",
    "        return self._x\n",
    "    def setx(self, value):\n",
    "        self._x=value\n",
    "    def delx(self):\n",
    "        del self._x\n",
    "    x=property(getx, setx, delx)\n",
    "c=C()\n",
    "print(c.x)\n",
    "c.x=655\n",
    "print(c.__dict__)"
   ]
  },
  {
   "cell_type": "code",
   "execution_count": 92,
   "metadata": {},
   "outputs": [
    {
     "name": "stdout",
     "output_type": "stream",
     "text": [
      "650\n",
      "655\n",
      "{}\n"
     ]
    }
   ],
   "source": [
    "#也可以用__getattr__(), __setattr__(), __delattr__()实现，但用perperty()则简单很多\n",
    "class C:\n",
    "    def __init__(self):\n",
    "        self._x=650\n",
    "    def __getattr__(self, name):\n",
    "        if name == \"x\":\n",
    "            return self._x\n",
    "        else:\n",
    "            super().__getattr__(name)\n",
    "    def __setattr__(self, name, value):\n",
    "        if name == \"x\":\n",
    "            super().__setattr__(\"_x\",value)\n",
    "        else:\n",
    "            super().__setattr__(name, value)\n",
    "    def __delattr__(self, name):\n",
    "        if name == \"x\":\n",
    "            super().__delattr__(\"_x\")\n",
    "        else:\n",
    "            super().__delattr__(name)\n",
    "c=C()\n",
    "print(c.x)\n",
    "c.x=655\n",
    "print(c.x)\n",
    "del c.x\n",
    "print(c.__dict__)"
   ]
  },
  {
   "cell_type": "code",
   "execution_count": 98,
   "metadata": {},
   "outputs": [
    {
     "name": "stdout",
     "output_type": "stream",
     "text": [
      "650\n"
     ]
    }
   ],
   "source": [
    "#用property()函数可以使创建一个只读函数变得简单\n",
    "class E:\n",
    "    def __init__(self):\n",
    "        self._x=650\n",
    "    @property    #装饰器\n",
    "    def x(self):\n",
    "        return self._x\n",
    "e=E()\n",
    "print(e.x)\n",
    "#e.x=655    #报错，只读"
   ]
  },
  {
   "cell_type": "code",
   "execution_count": 100,
   "metadata": {},
   "outputs": [
    {
     "name": "stdout",
     "output_type": "stream",
     "text": [
      "650\n"
     ]
    }
   ],
   "source": [
    "#装饰器相当于\n",
    "class E:\n",
    "    def __init__(self):\n",
    "        self._x=650\n",
    "    def x(self):\n",
    "        return self._x\n",
    "    x=property(x)    #只实现了fget，只读\n",
    "e=E()\n",
    "print(e.x)\n",
    "#e.x=655    #报错，只读"
   ]
  },
  {
   "cell_type": "code",
   "execution_count": 105,
   "metadata": {},
   "outputs": [
    {
     "name": "stdout",
     "output_type": "stream",
     "text": [
      "650\n",
      "{'_x': 655}\n",
      "{}\n"
     ]
    }
   ],
   "source": [
    "#属性对象拥有了geter，seter，deleter三个属性方法\n",
    "class E:\n",
    "    def __init__(self):\n",
    "        self._x=650\n",
    "    @property    #装饰器\n",
    "    def x(self):\n",
    "        return self._x\n",
    "    @x.setter\n",
    "    def x(self, value):\n",
    "        self._x=value\n",
    "    @x.deleter\n",
    "    def x(self):\n",
    "        del self._x\n",
    "e=E()\n",
    "print(e.x)\n",
    "e.x=655\n",
    "print(e.__dict__)\n",
    "del e.x\n",
    "print(e.__dict__)"
   ]
  },
  {
   "cell_type": "markdown",
   "metadata": {},
   "source": [
    "## 类方法\n",
    "专门绑定类的方法 @classmethod"
   ]
  },
  {
   "cell_type": "code",
   "execution_count": 107,
   "metadata": {},
   "outputs": [
    {
     "name": "stdout",
     "output_type": "stream",
     "text": [
      "<__main__.C object at 0x10588bf10>\n",
      "None\n",
      "<class '__main__.C'>\n",
      "None\n"
     ]
    }
   ],
   "source": [
    "class C:\n",
    "    def funA(self):\n",
    "        print(self)\n",
    "    @classmethod\n",
    "    def funB(cls):\n",
    "        print(cls)\n",
    "c=C()\n",
    "print(c.funA())\n",
    "print(c.funB())"
   ]
  },
  {
   "cell_type": "code",
   "execution_count": 114,
   "metadata": {},
   "outputs": [
    {
     "name": "stdout",
     "output_type": "stream",
     "text": [
      "该类一共是实例化了共3个对象\n",
      "该类一共是实例化了共3个对象\n",
      "1\n",
      "该类一共是实例化了共3个对象\n",
      "None\n"
     ]
    }
   ],
   "source": [
    "class C:\n",
    "    count = 0    #类属性，统计类生成的对象的数量\n",
    "    def __init__(self):\n",
    "        C.count+=1\n",
    "    @classmethod\n",
    "    def get_count(cls):\n",
    "        print(f\"该类一共是实例化了共{cls.count}个对象\")\n",
    "c1=C()\n",
    "c2=C();c3=C()\n",
    "C.get_count()\n",
    "c3.get_count()\n",
    "c3.count=1\n",
    "print(c3.count)    #创建一个和类属性同名的实例属性\n",
    "print(c3.get_count())    #类属性还是3"
   ]
  },
  {
   "cell_type": "markdown",
   "metadata": {},
   "source": [
    "## 静态方法\n",
    "类里面定义一个不需要绑定的函数\n",
    "@staticmethod"
   ]
  },
  {
   "cell_type": "code",
   "execution_count": 120,
   "metadata": {},
   "outputs": [
    {
     "name": "stdout",
     "output_type": "stream",
     "text": [
      "I love Python\n",
      "I love Python\n"
     ]
    }
   ],
   "source": [
    "class C:\n",
    "    @staticmethod\n",
    "    def func():\n",
    "        print(\"I love Python\")\n",
    "c=C()\n",
    "C.func()\n",
    "c.func()    #也可以在对象中调用静态方法"
   ]
  },
  {
   "cell_type": "code",
   "execution_count": 119,
   "metadata": {},
   "outputs": [
    {
     "name": "stdout",
     "output_type": "stream",
     "text": [
      "该类一共是实例化了共3个对象\n",
      "该类一共是实例化了共3个对象\n",
      "None\n"
     ]
    }
   ],
   "source": [
    "#用静态方法读取类属性\n",
    "class C:\n",
    "    count = 0    #类属性，统计类生成的对象的数量\n",
    "    def __init__(self):\n",
    "        C.count+=1\n",
    "    @staticmethod\n",
    "    def get_count():\n",
    "        print(f\"该类一共是实例化了共{C.count}个对象\")\n",
    "c1=C()\n",
    "c2=C();c3=C()\n",
    "C.get_count()\n",
    "print(c3.get_count())"
   ]
  },
  {
   "cell_type": "code",
   "execution_count": 122,
   "metadata": {},
   "outputs": [
    {
     "name": "stdout",
     "output_type": "stream",
     "text": [
      "该类一共是实例化了共1个对象\n",
      "None\n",
      "该类一共是实例化了共2个对象\n",
      "None\n",
      "该类一共是实例化了共3个对象\n",
      "None\n"
     ]
    }
   ],
   "source": [
    "class C:\n",
    "    count = 0    #类属性，统计类生成的对象的数量\n",
    "    @classmethod\n",
    "    def add(cls):\n",
    "        cls.count+=1\n",
    "    def __init__(self):\n",
    "        self.add()\n",
    "    @classmethod\n",
    "    def get_count(cls):\n",
    "        print(f\"该类一共是实例化了共{cls.count}个对象\")\n",
    "\n",
    "class D(C):\n",
    "    count = 0\n",
    "\n",
    "class E(C):\n",
    "    count = 0\n",
    "\n",
    "c1=C()\n",
    "d1,d2=D(), D()\n",
    "e1,e2,e3=E(), E(),E()\n",
    "print(C.get_count())\n",
    "print(D.get_count())\n",
    "print(E.get_count())"
   ]
  },
  {
   "cell_type": "markdown",
   "metadata": {},
   "source": [
    "## 描述符\n",
    "描述符只能应用于类属性，不能应用于实例属性"
   ]
  },
  {
   "cell_type": "code",
   "execution_count": 125,
   "metadata": {},
   "outputs": [
    {
     "name": "stdout",
     "output_type": "stream",
     "text": [
      "set\n",
      "self -> <__main__.D object at 0x105848670>\n",
      "instance -> <__main__.C object at 0x1058486a0>\n",
      "value -> 650\n",
      "get\n",
      "self -> <__main__.D object at 0x105848670>\n",
      "instance -> <__main__.C object at 0x1058486a0>\n",
      "owner -> <class '__main__.C'>\n",
      "None\n",
      "delete\n",
      "self -> <__main__.D object at 0x105848670>\n",
      "instance -> <__main__.C object at 0x1058486a0>\n"
     ]
    }
   ],
   "source": [
    "#类D就是一个描述符，它实现了__get__(), __set__(), __delete__()\n",
    "#将类D的实例化对象赋值给想要管理的属性就可以用了,如类C中的x属性\n",
    "class D:\n",
    "    def __get__(self, instance, owner):\n",
    "        print(f\"get\\nself -> {self}\\ninstance -> {instance}\\nowner -> {owner}\")\n",
    "    def __set__(self, instance, value):\n",
    "        print(f\"set\\nself -> {self}\\ninstance -> {instance}\\nvalue -> {value}\")\n",
    "    def __delete__(self, instance):\n",
    "        print(f\"delete\\nself -> {self}\\ninstance -> {instance}\")\n",
    "\n",
    "class C:\n",
    "    x=D()\n",
    "c=C()\n",
    "c.x=650\n",
    "print(c.x)\n",
    "del c.x"
   ]
  },
  {
   "cell_type": "code",
   "execution_count": 129,
   "metadata": {},
   "outputs": [
    {
     "name": "stdout",
     "output_type": "stream",
     "text": [
      "650\n",
      "{'_x': 655}\n",
      "{}\n"
     ]
    }
   ],
   "source": [
    "#用描述符实现property()函数。这不是一个好的实现方式。实际上，先有描述符，后有property()函数\n",
    "\n",
    "class D:\n",
    "    def __get__(self, instance, owner):\n",
    "        return instance._x\n",
    "    def __set__(self, instance, value):\n",
    "        instance._x=value\n",
    "    def __delete__(self, instance):\n",
    "        del instance._x\n",
    "\n",
    "class C:\n",
    "    def __init__(self, x=650):\n",
    "        self._x=x\n",
    "    x=D()\n",
    "\n",
    "c=C()\n",
    "print(c.x)\n",
    "c.x=655\n",
    "print(c.__dict__)\n",
    "del c.x\n",
    "print(c.__dict__)"
   ]
  },
  {
   "cell_type": "code",
   "execution_count": 133,
   "metadata": {},
   "outputs": [
    {
     "name": "stdout",
     "output_type": "stream",
     "text": [
      "650\n",
      "{'_x': 655}\n",
      "{}\n"
     ]
    }
   ],
   "source": [
    "#实现一个自己的Property类\n",
    "class MyProperty:\n",
    "    def __init__(self, fget=None, fset=None, fdel=None):\n",
    "        self.fget=fget\n",
    "        self.fset=fset\n",
    "        self.fdel=fdel\n",
    "    def __get__(self, instance, owner):\n",
    "        return self.fget(instance)\n",
    "    def __set__(self, instance, value):\n",
    "        self.fset(instance, value)\n",
    "    def __delete__(self, instance):\n",
    "        self.fdel(instance)\n",
    "class C:\n",
    "    def __init__(self, x=650):\n",
    "        self._x=x\n",
    "    def getx(self):\n",
    "        return self._x\n",
    "    def setx(self, value):\n",
    "        self._x=value\n",
    "    def delx(self):\n",
    "        del self._x\n",
    "    x=MyProperty(getx, setx, delx)    #通过x属性管理私有的属性_x\n",
    "\n",
    "c=C()\n",
    "print(c.x)\n",
    "c.x=655\n",
    "print(c.__dict__)\n",
    "del c.x\n",
    "print(c.__dict__)"
   ]
  },
  {
   "cell_type": "code",
   "execution_count": 136,
   "metadata": {},
   "outputs": [
    {
     "name": "stdout",
     "output_type": "stream",
     "text": [
      "650\n",
      "{'_x': 655}\n",
      "{}\n"
     ]
    }
   ],
   "source": [
    "class MyProperty:\n",
    "    def __init__(self, fget=None, fset=None, fdel=None):\n",
    "        self.fget=fget\n",
    "        self.fset=fset\n",
    "        self.fdel=fdel\n",
    "    def __get__(self, instance, owner):\n",
    "        return self.fget(instance)\n",
    "    def __set__(self, instance, value):\n",
    "        self.fset(instance, value)\n",
    "    def __delete__(self, instance):\n",
    "        self.fdel(instance)\n",
    "    def getter(self, func):\n",
    "        self.fget=func\n",
    "        return self\n",
    "    def setter(self, func):\n",
    "        self.fset=func\n",
    "        return self\n",
    "    def deleter(self, func):\n",
    "        self.fdel=func\n",
    "        return self\n",
    "\n",
    "class D:\n",
    "    def __init__(self, x=650):\n",
    "        self._x=x\n",
    "    @MyProperty\n",
    "    def x(self):\n",
    "        return self._x\n",
    "    @x.setter\n",
    "    def x(self, value):\n",
    "        self._x=value\n",
    "    @x.deleter\n",
    "    def x(self):\n",
    "        del self._x\n",
    "\n",
    "d=D()\n",
    "print(d.x)\n",
    "d.x=655\n",
    "print(d.__dict__)\n",
    "del d.x\n",
    "print(d.__dict__)"
   ]
  },
  {
   "cell_type": "code",
   "execution_count": 138,
   "metadata": {},
   "outputs": [
    {
     "name": "stdout",
     "output_type": "stream",
     "text": [
      "650\n",
      "{'_x': 650}\n",
      "{}\n"
     ]
    }
   ],
   "source": [
    "class MyProperty:\n",
    "    def __init__(self, fget=None, fset=None, fdel=None):\n",
    "        self.fget=fget\n",
    "        self.fset=fset\n",
    "        self.fdel=fdel\n",
    "    def __get__(self, instance, owner):\n",
    "        return self.fget(instance)\n",
    "    def __set__(self, instance, value):\n",
    "        self.fset(instance, value)\n",
    "    def __delete__(self, instance):\n",
    "        self.fdel(instance)\n",
    "    def getter(self, func):\n",
    "        self.fget=func\n",
    "        return self\n",
    "    def setter(self, func):\n",
    "        self.fset=func\n",
    "        return self\n",
    "    def deleter(self, func):\n",
    "        self.fdel=func\n",
    "        return self\n",
    "\n",
    "class E:\n",
    "    def __init__(self, x=650):\n",
    "        self._x=x\n",
    "    x=MyProperty()\n",
    "    @x.getter\n",
    "    def x(self):\n",
    "        return self._x\n",
    "    @x.setter\n",
    "    def x(self, value):\n",
    "        self._x=value\n",
    "    @x.deleter\n",
    "    def x(self):\n",
    "        del self._x\n",
    "\n",
    "e=E()\n",
    "print(e.x)\n",
    "d.x=655\n",
    "print(e.__dict__)\n",
    "del e.x\n",
    "print(e.__dict__)"
   ]
  },
  {
   "cell_type": "markdown",
   "metadata": {},
   "source": [
    "## 数据描述符和非数据描述符\n",
    "\n",
    "实现了__set__()和__delete__()两个其中任意一个方法，该描述符就是数据描述符\n",
    "只实现了__get__()方法就是飞数据描述符\n",
    "当发生属性访问的时候，优先级从高到底依次是数据描述符、实例对象属性、非数据描述符、类属性"
   ]
  },
  {
   "cell_type": "code",
   "execution_count": 144,
   "metadata": {},
   "outputs": [
    {
     "name": "stdout",
     "output_type": "stream",
     "text": [
      "get~\n",
      "None\n",
      "wenyuc\n",
      "get~\n",
      "None\n"
     ]
    }
   ],
   "source": [
    "class D:\n",
    "    def __get__(self, instance, owner):\n",
    "        print(\"get~\")\n",
    "\n",
    "class C:\n",
    "    x=D()\n",
    "c=C()\n",
    "print(c.x)    #拦截成功\n",
    "c.x=\"wenyuc\"\n",
    "print(c.x)    #拦截失败，因为D是非数据描述符，优先级低于实例对象属性\n",
    "print(C.x)    #类属性仍然可以拦截"
   ]
  },
  {
   "cell_type": "code",
   "execution_count": 146,
   "metadata": {},
   "outputs": [
    {
     "name": "stdout",
     "output_type": "stream",
     "text": [
      "get~\n",
      "None\n",
      "set~\n",
      "{}\n",
      "get~\n",
      "None\n",
      "get~\n",
      "None\n"
     ]
    }
   ],
   "source": [
    "#实现__set__() 成为数据描述符\n",
    "class D:\n",
    "    def __get__(self, instance, owner):\n",
    "        print(\"get~\")\n",
    "    def __set__(self, instance, value):\n",
    "        print(\"set~\")\n",
    "\n",
    "class C:\n",
    "    x=D()\n",
    "\n",
    "c=C()\n",
    "print(c.x)    #拦截成功\n",
    "c.x=\"wenyuc\"    #拦截成功，覆盖了对象属性的赋值\n",
    "print(c.__dict__)    #没有x属性\n",
    "print(c.x)    #拦截成功，因为D是数据描述符，优先级高于实例对象属性\n",
    "print(C.x)    #类属性仍然可以拦截"
   ]
  },
  {
   "cell_type": "code",
   "execution_count": 152,
   "metadata": {},
   "outputs": [
    {
     "name": "stdout",
     "output_type": "stream",
     "text": [
      "~get\n",
      "None\n",
      "~set\n",
      "{'x': 650}\n",
      "~get\n",
      "650\n"
     ]
    }
   ],
   "source": [
    "#__set_name__(self, name, owner)    from Python v3.6\n",
    "class D:\n",
    "    def __init__(self, name):    #name的作用是记住描述符拦截的属性名\n",
    "        self.name=name\n",
    "    def __get__(self, instance, owner):\n",
    "        print(\"~get\")\n",
    "        return instance.__dict__.get(self.name)\n",
    "    def __set__(self, instance, value):\n",
    "        print(\"~set\")\n",
    "        instance.__dict__[self.name]=value\n",
    "class C:\n",
    "    x=D(\"x\")    #写得不好，用__set_name__重新实现\n",
    "c=C()\n",
    "print(c.x)    #拦截成功\n",
    "c.x=650\n",
    "print(c.__dict__)\n",
    "print(c.x)"
   ]
  },
  {
   "cell_type": "code",
   "execution_count": 153,
   "metadata": {},
   "outputs": [
    {
     "name": "stdout",
     "output_type": "stream",
     "text": [
      "~get\n",
      "None\n",
      "~set\n",
      "{'x': 650}\n",
      "~get\n",
      "650\n"
     ]
    }
   ],
   "source": [
    "class D:\n",
    "    def __set_name__(self, owner, name):    #__set_name__()重新实现\n",
    "        self.name=name\n",
    "    def __get__(self, instance, owner):\n",
    "        print(\"~get\")\n",
    "        return instance.__dict__.get(self.name)\n",
    "    def __set__(self, instance, value):\n",
    "        print(\"~set\")\n",
    "        instance.__dict__[self.name]=value\n",
    "class C:\n",
    "    x=D()\n",
    "\n",
    "c=C()\n",
    "print(c.x)    #拦截成功\n",
    "c.x=650\n",
    "print(c.__dict__)\n",
    "print(c.x)"
   ]
  },
  {
   "cell_type": "markdown",
   "metadata": {},
   "source": [
    "## 类装饰器\n",
    "类装饰器的作用在类被实例化之前进行拦截和干预"
   ]
  },
  {
   "cell_type": "code",
   "execution_count": 4,
   "metadata": {},
   "outputs": [
    {
     "name": "stdout",
     "output_type": "stream",
     "text": [
      "Hi,I'm going to instance an object.\n",
      "instance success.\n"
     ]
    }
   ],
   "source": [
    "#example\n",
    "def report(cls):\n",
    "    def oncall(*args, **kwargs):    #将1，2，3打包为(1,2,3)\n",
    "        print(\"Hi,I'm going to instance an object.\")\n",
    "        _=cls(*args, **kwargs)    #*对元组进行解包在传进去\n",
    "        print(\"instance success.\")\n",
    "        return _\n",
    "    return oncall\n",
    "@report    #相当于c=report(c)\n",
    "class C:\n",
    "    pass\n",
    "c=C()    #oncall()\n"
   ]
  },
  {
   "cell_type": "code",
   "execution_count": 3,
   "metadata": {},
   "outputs": [
    {
     "name": "stdout",
     "output_type": "stream",
     "text": [
      "Hi,I'm going to instance an object.\n",
      "called __init__\n",
      "instance success.\n"
     ]
    }
   ],
   "source": [
    "#implement __init__()\n",
    "def report(cls):\n",
    "    def oncall(*args, **kwargs):\n",
    "        print(\"Hi,I'm going to instance an object.\")\n",
    "        _=cls(*args, **kwargs)\n",
    "        print(\"instance success.\")\n",
    "        return _\n",
    "    return oncall\n",
    "@report    #c=report(C)\n",
    "class C:\n",
    "    def __init__(self, x,y,z):\n",
    "        self.x=x\n",
    "        self.y=y\n",
    "        self.z=z\n",
    "        print(\"called __init__\")\n",
    "c=C(1,2,3)    #oncall(1,2,3)\n"
   ]
  },
  {
   "cell_type": "code",
   "execution_count": 7,
   "metadata": {},
   "outputs": [
    {
     "name": "stdout",
     "output_type": "stream",
     "text": [
      "called 1 times.\n",
      "called 2 times.\n",
      "called 3 times.\n"
     ]
    }
   ],
   "source": [
    "#定义一个类统计被调用obj()的次数\n",
    "class Counter:\n",
    "    def __init__(self):\n",
    "        self.count=0\n",
    "    def __call__(self, *args, **kwargs):    #调用对象()是调用__call__()\n",
    "        self.count+=1\n",
    "        print(f\"called {self.count} times.\")\n",
    "c=Counter()\n",
    "c();c();c()    #调用__call__()"
   ]
  },
  {
   "cell_type": "code",
   "execution_count": 10,
   "metadata": {},
   "outputs": [
    {
     "name": "stdout",
     "output_type": "stream",
     "text": [
      "<__main__.Counter object at 0x10898faf0>\n",
      "called 1 times.\n",
      "hi\n",
      "called 2 times.\n",
      "hi\n"
     ]
    }
   ],
   "source": [
    "#对Counter类进行改造，去装饰函数，统计函数被调用的次数\n",
    "class Counter:\n",
    "    def __init__(self,func):\n",
    "        self.count=0\n",
    "        self.func=func\n",
    "    def __call__(self, *args, **kwargs):    #调用对象()是调用__call__()\n",
    "        self.count+=1\n",
    "        print(f\"called {self.count} times.\")\n",
    "        return self.func(*args, **kwargs)\n",
    "@Counter    #相当于say_hi=Counter(say_hi)\n",
    "def say_hi():\n",
    "    print(\"hi\")\n",
    "\n",
    "print(say_hi)    #say_hi已经被调包成实例化对象\n",
    "say_hi()    #将Counter的对象当做函数来调用，从而触发__call__()\n",
    "say_hi()"
   ]
  },
  {
   "cell_type": "code",
   "execution_count": 13,
   "metadata": {},
   "outputs": [
    {
     "name": "stdout",
     "output_type": "stream",
     "text": [
      "accessing say_hi\n",
      "hi...\n",
      "accessing say_hei\n",
      "hey...\n"
     ]
    }
   ],
   "source": [
    "#example\n",
    "class Check:\n",
    "    def __init__(self, cls):\n",
    "        self.cls=cls\n",
    "    def __call__(self, *args, **kwargs):\n",
    "        self.obj=self.cls(*args, **kwargs)\n",
    "        return self\n",
    "    def __getattr__(self, name):\n",
    "        print(f\"accessing {name}\")\n",
    "        return getattr(self.obj, name)\n",
    "@Check\n",
    "class C:\n",
    "    def say_hi(self):\n",
    "        print(\"hi...\")\n",
    "    def say_hei(self):\n",
    "        print(\"hey...\")\n",
    "c=C()\n",
    "c.say_hi()\n",
    "c.say_hei()"
   ]
  },
  {
   "cell_type": "code",
   "execution_count": 17,
   "metadata": {},
   "outputs": [
    {
     "name": "stdout",
     "output_type": "stream",
     "text": [
      "accessing name\n",
      "c2\n",
      "accessing name\n",
      "c2\n",
      "<__main__.Check object at 0x108d28a30>\n",
      "<__main__.Check object at 0x108d28a30>\n",
      "accessing say_hi\n",
      "hi...c2\n",
      "accessing say_hei\n",
      "hey...c2\n"
     ]
    }
   ],
   "source": [
    "class Check:\n",
    "    def __init__(self, cls):\n",
    "        self.cls=cls\n",
    "    def __call__(self, *args, **kwargs):\n",
    "        self.obj=self.cls(*args, **kwargs)\n",
    "        return self\n",
    "    def __getattr__(self, name):\n",
    "        print(f\"accessing {name}\")\n",
    "        return getattr(self.obj, name)\n",
    "@Check\n",
    "class C:\n",
    "    def __init__(self, name):\n",
    "        self.name=name\n",
    "    def say_hi(self):\n",
    "        print(f\"hi...{self.name}\")\n",
    "    def say_hei(self):\n",
    "        print(f\"hey...{self.name}\")\n",
    "c1=C(\"c1\")\n",
    "c2=C(\"c2\")\n",
    "print(c1.name)    #c1.name被c2.name覆盖\n",
    "print(c2.name)\n",
    "print(c1)    #c1,c2都是Check类的对象\n",
    "print(c2)\n",
    "c1.say_hi()    #打印出hi...c2\n",
    "c2.say_hei()\n",
    "\n",
    "#以后来解决这个bug"
   ]
  },
  {
   "cell_type": "markdown",
   "metadata": {},
   "source": [
    "# 元类 Metaclass\n"
   ]
  },
  {
   "cell_type": "code",
   "execution_count": 1,
   "metadata": {},
   "outputs": [
    {
     "name": "stdout",
     "output_type": "stream",
     "text": [
      "<class '__main__.C'>\n",
      "<class '__main__.MetaC'>\n",
      "<class 'type'>\n"
     ]
    }
   ],
   "source": [
    "#元类就是在类和type之间搭建一个桥梁\n",
    "class MetaC(type):    #type是所有元类的父类\n",
    "    pass\n",
    "class C(metaclass=MetaC):    #通过元类创建类\n",
    "    pass\n",
    "c=C()\n",
    "print(type(c))\n",
    "print(type(C))\n",
    "print(type(MetaC))"
   ]
  },
  {
   "cell_type": "code",
   "execution_count": 4,
   "metadata": {},
   "outputs": [
    {
     "name": "stdout",
     "output_type": "stream",
     "text": [
      "__new__() in MetaC~\n",
      "mcls=<class '__main__.MetaC'>,name=C, bases=(), attrs={'__module__': '__main__', '__qualname__': 'C', '__new__': <function C.__new__ at 0x103df10d0>, '__init__': <function C.__init__ at 0x103df1160>, '__classcell__': <cell at 0x103e83070: empty>}\n",
      "__init__() in MetaC~\n",
      "cls=<class '__main__.C'>,name=C, bases=(), attrs={'__module__': '__main__', '__qualname__': 'C', '__new__': <function C.__new__ at 0x103df10d0>, '__init__': <function C.__init__ at 0x103df1160>, '__classcell__': <cell at 0x103e83070: MetaC object at 0x7fd4cd5da1e0>}\n",
      "__new__() in C~\n",
      "__init__() in C~\n"
     ]
    }
   ],
   "source": [
    "class MetaC(type):    #type是所有元类的父类\n",
    "    def __new__(mcls,name, bases, attrs):\n",
    "        print(\"__new__() in MetaC~\")\n",
    "        print(f\"mcls={mcls},name={name}, bases={bases}, attrs={attrs}\")\n",
    "        return type.__new__(mcls, name, bases, attrs)\n",
    "    def __init__(cls, name, bases, attrs):\n",
    "        print(\"__init__() in MetaC~\")\n",
    "        print(f\"cls={cls},name={name}, bases={bases}, attrs={attrs}\")\n",
    "        return type.__init__(cls, name, bases, attrs)\n",
    "    \n",
    "class C(metaclass=MetaC):    #通过元类创建类\n",
    "    def __new__(cls):\n",
    "        print(\"__new__() in C~\")\n",
    "        return super().__new__(cls)    #调用的是object.__new__()\n",
    "    def __init__(self):\n",
    "        print(\"__init__() in C~\")\n",
    "        return super().__init__()\n",
    "c=C()\n",
    "\n",
    "#元类MetaC中的__new__()方法是类C定义完成的那一刻被触发的\n",
    "#类C中的__new__()方法是在类实例化的那一刻才触发的"
   ]
  },
  {
   "cell_type": "code",
   "execution_count": 5,
   "metadata": {},
   "outputs": [
    {
     "name": "stdout",
     "output_type": "stream",
     "text": [
      "__call__() in MetaC~\n"
     ]
    }
   ],
   "source": [
    "class MetaC(type):    #type是所有元类的父类\n",
    "    def __call__(cls, *args, **kwargs):    #拦截类实例化的操作\n",
    "        print(\"__call__() in MetaC~\")\n",
    "    \n",
    "class C(metaclass=MetaC):    #通过元类创建类\n",
    "    pass\n",
    "    \n",
    "c=C()\n"
   ]
  },
  {
   "cell_type": "code",
   "execution_count": 10,
   "metadata": {},
   "outputs": [
    {
     "name": "stdout",
     "output_type": "stream",
     "text": [
      "wenyuc\n",
      "{}\n"
     ]
    }
   ],
   "source": [
    "#通过元类给所有类添加一个author属性\n",
    "class MetaC(type):    #type是所有元类的父类\n",
    "    def __new__(mcls,name, bases, attrs):\n",
    "        attrs[\"author\"]=\"wenyuc\"\n",
    "        return type.__new__(mcls, name, bases, attrs)\n",
    "    \n",
    "class C(metaclass=MetaC):    #通过元类创建类\n",
    "    pass\n",
    "\n",
    "c=C()\n",
    "print(c.author)\n",
    "print(c.__dict__)    #为什么__dict__为空？"
   ]
  },
  {
   "cell_type": "code",
   "execution_count": 12,
   "metadata": {},
   "outputs": [
    {
     "name": "stdout",
     "output_type": "stream",
     "text": [
      "wenyuc\n",
      "{}\n"
     ]
    }
   ],
   "source": [
    "#在元类里用__init__也可以\n",
    "class MetaC(type):    #type是所有元类的父类\n",
    "    def __init__(cls,name, bases, attrs):\n",
    "        cls.author=\"wenyuc\"\n",
    "        return type.__init__(cls, name, bases, attrs)\n",
    "    \n",
    "class D(metaclass=MetaC):    #通过元类创建类\n",
    "    pass\n",
    "\n",
    "d=D()\n",
    "print(d.author)\n",
    "print(d.__dict__)    #为什么__dict__为空？"
   ]
  },
  {
   "cell_type": "code",
   "execution_count": 18,
   "metadata": {},
   "outputs": [
    {
     "ename": "TypeError",
     "evalue": "Name must Capitalize.",
     "output_type": "error",
     "traceback": [
      "\u001b[0;31m---------------------------------------------------------------------------\u001b[0m",
      "\u001b[0;31mTypeError\u001b[0m                                 Traceback (most recent call last)",
      "Cell \u001b[0;32mIn[18], line 7\u001b[0m\n\u001b[1;32m      5\u001b[0m             \u001b[38;5;28;01mraise\u001b[39;00m \u001b[38;5;167;01mTypeError\u001b[39;00m(\u001b[38;5;124m\"\u001b[39m\u001b[38;5;124mName must Capitalize.\u001b[39m\u001b[38;5;124m\"\u001b[39m)\n\u001b[1;32m      6\u001b[0m         \u001b[38;5;28mtype\u001b[39m\u001b[38;5;241m.\u001b[39m\u001b[38;5;21m__init__\u001b[39m(\u001b[38;5;28mcls\u001b[39m, name, bases, attrs)\n\u001b[0;32m----> 7\u001b[0m \u001b[38;5;28;01mclass\u001b[39;00m\u001b[38;5;250m \u001b[39m\u001b[38;5;21;01mmyclass\u001b[39;00m(metaclass\u001b[38;5;241m=\u001b[39mMetaC):\n\u001b[1;32m      8\u001b[0m     \u001b[38;5;28;01mpass\u001b[39;00m\n",
      "Cell \u001b[0;32mIn[18], line 5\u001b[0m, in \u001b[0;36mMetaC.__init__\u001b[0;34m(cls, name, bases, attrs)\u001b[0m\n\u001b[1;32m      3\u001b[0m \u001b[38;5;28;01mdef\u001b[39;00m\u001b[38;5;250m \u001b[39m\u001b[38;5;21m__init__\u001b[39m(\u001b[38;5;28mcls\u001b[39m,name, bases, attrs):\n\u001b[1;32m      4\u001b[0m     \u001b[38;5;28;01mif\u001b[39;00m \u001b[38;5;129;01mnot\u001b[39;00m name\u001b[38;5;241m.\u001b[39mistitle():\n\u001b[0;32m----> 5\u001b[0m         \u001b[38;5;28;01mraise\u001b[39;00m \u001b[38;5;167;01mTypeError\u001b[39;00m(\u001b[38;5;124m\"\u001b[39m\u001b[38;5;124mName must Capitalize.\u001b[39m\u001b[38;5;124m\"\u001b[39m)\n\u001b[1;32m      6\u001b[0m     \u001b[38;5;28mtype\u001b[39m\u001b[38;5;241m.\u001b[39m\u001b[38;5;21m__init__\u001b[39m(\u001b[38;5;28mcls\u001b[39m, name, bases, attrs)\n",
      "\u001b[0;31mTypeError\u001b[0m: Name must Capitalize."
     ]
    }
   ],
   "source": [
    "#通过元类对类的命名规则进行限制\n",
    "class MetaC(type):    #type是所有元类的父类\n",
    "    def __init__(cls,name, bases, attrs):\n",
    "        if not name.istitle():\n",
    "            raise TypeError(\"Name must Capitalize.\")\n",
    "        type.__init__(cls, name, bases, attrs)\n",
    "class myclass(metaclass=MetaC):\n",
    "    pass\n",
    "                    "
   ]
  },
  {
   "cell_type": "code",
   "execution_count": 20,
   "metadata": {},
   "outputs": [
    {
     "data": {
      "text/plain": [
       "True"
      ]
     },
     "execution_count": 20,
     "metadata": {},
     "output_type": "execute_result"
    }
   ],
   "source": [
    "#只能创建一个实例化的类\n",
    "class SimpleInstance(type):\n",
    "    def __init__(cls, *args, **kwargs):\n",
    "        cls.__instance=None\n",
    "        type.__init__(cls, *args, **kwargs)\n",
    "    def __call__(cls, *args, **kwargs):\n",
    "        if cls.__instance == None:\n",
    "            cls.__instalce = type.__call__(cls, *args, **kwargs)\n",
    "            return cls.__instance\n",
    "        else:\n",
    "            return cls.__instance\n",
    "class C(metaclass=SimpleInstance):\n",
    "    pass\n",
    "c1=C()\n",
    "c2=C()\n",
    "c1 is c2"
   ]
  },
  {
   "cell_type": "markdown",
   "metadata": {},
   "source": [
    "## 抽象基类\n",
    "- 抽象基类不能被直接实例化，只能被继承使用\n",
    "- 子类必须实现抽象基类中定义的抽象方法"
   ]
  },
  {
   "cell_type": "code",
   "execution_count": 28,
   "metadata": {},
   "outputs": [
    {
     "name": "stdout",
     "output_type": "stream",
     "text": [
      "good for mental health.\n"
     ]
    }
   ],
   "source": [
    "from abc import ABCMeta, abstractmethod\n",
    "class Fruit(metaclass=ABCMeta):\n",
    "    def __init(self, name):\n",
    "        self.name =name\n",
    "    @abstractmethod\n",
    "    def good_for_health(self):\n",
    "        pass\n",
    "class Banana(Fruit):\n",
    "    def good_for_health(self):\n",
    "        print(\"good for mental health.\")\n",
    "\n",
    "banana=Banana()\n",
    "banana.good_for_health()"
   ]
  },
  {
   "cell_type": "code",
   "execution_count": null,
   "metadata": {},
   "outputs": [],
   "source": []
  },
  {
   "cell_type": "markdown",
   "metadata": {},
   "source": [
    "# Hide password input"
   ]
  },
  {
   "cell_type": "code",
   "execution_count": 1,
   "metadata": {},
   "outputs": [],
   "source": [
    "from getpass import getpass"
   ]
  },
  {
   "cell_type": "code",
   "execution_count": 3,
   "metadata": {},
   "outputs": [
    {
     "name": "stdout",
     "output_type": "stream",
     "text": [
      "Username: wenyuc\n",
      "Password: ········\n"
     ]
    },
    {
     "data": {
      "text/plain": [
       "'vwy225'"
      ]
     },
     "execution_count": 3,
     "metadata": {},
     "output_type": "execute_result"
    }
   ],
   "source": [
    "username = input(\"Username: \")\n",
    "password = getpass(\"Password: \")\n",
    "password"
   ]
  },
  {
   "cell_type": "code",
   "execution_count": null,
   "metadata": {},
   "outputs": [],
   "source": []
  }
 ],
 "metadata": {
  "kernelspec": {
   "display_name": "Python 3 (ipykernel)",
   "language": "python",
   "name": "python3"
  },
  "language_info": {
   "codemirror_mode": {
    "name": "ipython",
    "version": 3
   },
   "file_extension": ".py",
   "mimetype": "text/x-python",
   "name": "python",
   "nbconvert_exporter": "python",
   "pygments_lexer": "ipython3",
   "version": "3.9.6"
  },
  "toc": {
   "base_numbering": 1,
   "nav_menu": {},
   "number_sections": true,
   "sideBar": true,
   "skip_h1_title": false,
   "title_cell": "Table of Contents",
   "title_sidebar": "Contents",
   "toc_cell": false,
   "toc_position": {},
   "toc_section_display": true,
   "toc_window_display": false
  }
 },
 "nbformat": 4,
 "nbformat_minor": 4
}
